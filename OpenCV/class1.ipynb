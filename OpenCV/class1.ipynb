{
 "cells": [
  {
   "cell_type": "markdown",
   "id": "f49eb8c8",
   "metadata": {},
   "source": [
    "### Image read and show also understand numpyImage "
   ]
  },
  {
   "cell_type": "code",
   "execution_count": null,
   "id": "a16e59d8",
   "metadata": {},
   "outputs": [
    {
     "ename": "",
     "evalue": "",
     "output_type": "error",
     "traceback": [
      "\u001b[1;31mThe Kernel crashed while executing code in the current cell or a previous cell. \n",
      "\u001b[1;31mPlease review the code in the cell(s) to identify a possible cause of the failure. \n",
      "\u001b[1;31mClick <a href='https://aka.ms/vscodeJupyterKernelCrash'>here</a> for more info. \n",
      "\u001b[1;31mView Jupyter <a href='command:jupyter.viewOutput'>log</a> for further details."
     ]
    }
   ],
   "source": [
    "import cv2\n",
    "img = cv2.imread(\"uttam.jpg\")\n",
    "cv2.imshow(\"Image of Developer\", img)\n",
    "cv2.imwrite(\"saveimage.png\", img)\n",
    "cv2.waitKey(0)\n",
    "if ord('q'):\n",
    "    quit()\n",
    "\n",
    "cv2.destroyAllWindows()"
   ]
  },
  {
   "cell_type": "code",
   "execution_count": 1,
   "id": "405d6ec5",
   "metadata": {},
   "outputs": [
    {
     "name": "stdout",
     "output_type": "stream",
     "text": [
      "<class 'numpy.ndarray'>\n",
      "3745320\n",
      "(1058, 1180, 3)\n"
     ]
    }
   ],
   "source": [
    "import cv2\n",
    "img = cv2.imread(\"uttam.jpg\")\n",
    "print(type(img))\n",
    "print(img.size)\n",
    "print(img.shape)"
   ]
  },
  {
   "cell_type": "code",
   "execution_count": 2,
   "id": "751dc44e",
   "metadata": {},
   "outputs": [],
   "source": [
    "height, width, channel = img.shape"
   ]
  },
  {
   "cell_type": "code",
   "execution_count": 3,
   "id": "60c14fe2",
   "metadata": {},
   "outputs": [
    {
     "name": "stdout",
     "output_type": "stream",
     "text": [
      "1058\n",
      "1180\n",
      "3\n"
     ]
    }
   ],
   "source": [
    "print(height)\n",
    "print(width)\n",
    "print(channel)"
   ]
  },
  {
   "cell_type": "code",
   "execution_count": 4,
   "id": "0e961e23",
   "metadata": {},
   "outputs": [
    {
     "name": "stdout",
     "output_type": "stream",
     "text": [
      "3\n"
     ]
    }
   ],
   "source": [
    "print(img.ndim)"
   ]
  },
  {
   "cell_type": "code",
   "execution_count": 5,
   "id": "c131ec24",
   "metadata": {},
   "outputs": [
    {
     "name": "stdout",
     "output_type": "stream",
     "text": [
      "[ 47  47  48 ... 106 105 105]\n"
     ]
    }
   ],
   "source": [
    "print(img[0:, 0, 0])"
   ]
  },
  {
   "cell_type": "code",
   "execution_count": 6,
   "id": "cc4bec7d",
   "metadata": {},
   "outputs": [
    {
     "name": "stdout",
     "output_type": "stream",
     "text": [
      "[[ 47  67  68]\n",
      " [ 47  67  68]\n",
      " [ 48  68  69]\n",
      " ...\n",
      " [106 120 119]\n",
      " [105 119 118]\n",
      " [105 119 118]]\n"
     ]
    }
   ],
   "source": [
    "print(img[0:, 0, 0:])"
   ]
  },
  {
   "cell_type": "code",
   "execution_count": 7,
   "id": "0bcb6fa7",
   "metadata": {},
   "outputs": [
    {
     "name": "stdout",
     "output_type": "stream",
     "text": [
      "[[ 47  67  68]\n",
      " [ 47  67  68]\n",
      " [ 48  68  69]\n",
      " ...\n",
      " [ 81 119 137]\n",
      " [ 80 118 136]\n",
      " [ 79 117 135]]\n"
     ]
    }
   ],
   "source": [
    "print(img[0, 0:, 0:])"
   ]
  },
  {
   "cell_type": "code",
   "execution_count": 12,
   "id": "f91ffc7a",
   "metadata": {},
   "outputs": [
    {
     "name": "stdout",
     "output_type": "stream",
     "text": [
      "[ 47  47  48 ... 106 105 105]\n"
     ]
    }
   ],
   "source": [
    "height = img[0:, 0, 0]\n",
    "print(height)"
   ]
  },
  {
   "cell_type": "code",
   "execution_count": 8,
   "id": "699c6a90",
   "metadata": {},
   "outputs": [
    {
     "name": "stdout",
     "output_type": "stream",
     "text": [
      "[[ 68  68  69 ... 137 136 135]\n",
      " [ 68  68  69 ... 136 135 134]\n",
      " [ 69  69  69 ... 132 131 130]\n",
      " ...\n",
      " [119 118 116 ... 117 117 117]\n",
      " [118 118 118 ... 116 116 116]\n",
      " [118 118 118 ... 116 116 116]]\n"
     ]
    }
   ],
   "source": [
    "B = img[0:, 0:, 0]\n",
    "G = img[0:, 0:, 1]\n",
    "R = img[0:, 0:, 2]\n",
    "print(R)"
   ]
  },
  {
   "cell_type": "code",
   "execution_count": 9,
   "id": "11e87085",
   "metadata": {},
   "outputs": [
    {
     "data": {
      "text/plain": [
       "array([[ 67,  67,  68, ..., 119, 118, 117],\n",
       "       [ 67,  67,  68, ..., 118, 117, 116],\n",
       "       [ 68,  68,  68, ..., 117, 116, 115],\n",
       "       ...,\n",
       "       [120, 119, 117, ..., 114, 114, 114],\n",
       "       [119, 119, 119, ..., 113, 113, 113],\n",
       "       [119, 119, 119, ..., 113, 113, 113]],\n",
       "      shape=(1058, 1180), dtype=uint8)"
      ]
     },
     "execution_count": 9,
     "metadata": {},
     "output_type": "execute_result"
    }
   ],
   "source": [
    "G"
   ]
  },
  {
   "cell_type": "code",
   "execution_count": 10,
   "id": "bf15fb3d",
   "metadata": {},
   "outputs": [
    {
     "data": {
      "text/plain": [
       "array([[ 47,  47,  48, ...,  81,  80,  79],\n",
       "       [ 47,  47,  48, ...,  80,  79,  78],\n",
       "       [ 48,  48,  48, ...,  78,  77,  76],\n",
       "       ...,\n",
       "       [106, 105, 103, ...,  97,  97,  97],\n",
       "       [105, 105, 105, ...,  96,  96,  96],\n",
       "       [105, 105, 105, ...,  96,  96,  96]],\n",
       "      shape=(1058, 1180), dtype=uint8)"
      ]
     },
     "execution_count": 10,
     "metadata": {},
     "output_type": "execute_result"
    }
   ],
   "source": [
    "B"
   ]
  },
  {
   "cell_type": "code",
   "execution_count": null,
   "id": "e9f8ad48",
   "metadata": {},
   "outputs": [
    {
     "ename": "",
     "evalue": "",
     "output_type": "error",
     "traceback": [
      "\u001b[1;31mThe Kernel crashed while executing code in the current cell or a previous cell. \n",
      "\u001b[1;31mPlease review the code in the cell(s) to identify a possible cause of the failure. \n",
      "\u001b[1;31mClick <a href='https://aka.ms/vscodeJupyterKernelCrash'>here</a> for more info. \n",
      "\u001b[1;31mView Jupyter <a href='command:jupyter.viewOutput'>log</a> for further details."
     ]
    }
   ],
   "source": [
    "import cv2\n",
    "cv2.imshow(\"Red Image\", R)\n",
    "cv2.imshow(\"Green Image\", G)\n",
    "cv2.imshow(\"Blue Image\", B)\n",
    "cv2.imwrite(\"Rimage.png\", R)\n",
    "cv2.imwrite(\"Gimage.png\", G)\n",
    "cv2.imwrite(\"Bimage.png\", B)\n",
    "cv2.waitKey(0)\n",
    "if ord('q'):\n",
    "    quit()\n",
    "\n",
    "cv2.destroyAllWindows()"
   ]
  }
 ],
 "metadata": {
  "kernelspec": {
   "display_name": "Python 3",
   "language": "python",
   "name": "python3"
  },
  "language_info": {
   "codemirror_mode": {
    "name": "ipython",
    "version": 3
   },
   "file_extension": ".py",
   "mimetype": "text/x-python",
   "name": "python",
   "nbconvert_exporter": "python",
   "pygments_lexer": "ipython3",
   "version": "3.10.6"
  }
 },
 "nbformat": 4,
 "nbformat_minor": 5
}
