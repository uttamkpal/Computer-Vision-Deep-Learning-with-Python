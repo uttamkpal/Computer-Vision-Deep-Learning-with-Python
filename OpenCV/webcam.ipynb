{
 "cells": [
  {
   "cell_type": "markdown",
   "id": "4a75bec2",
   "metadata": {},
   "source": [
    "### Web cam, Security cam & video"
   ]
  },
  {
   "cell_type": "code",
   "execution_count": 1,
   "id": "2f71f3b4",
   "metadata": {},
   "outputs": [
    {
     "ename": "KeyboardInterrupt",
     "evalue": "",
     "output_type": "error",
     "traceback": [
      "\u001b[1;31m---------------------------------------------------------------------------\u001b[0m",
      "\u001b[1;31mKeyboardInterrupt\u001b[0m                         Traceback (most recent call last)",
      "Cell \u001b[1;32mIn[1], line 8\u001b[0m\n\u001b[0;32m      5\u001b[0m \u001b[38;5;66;03m# cam = cv.VideoCapture(\"proovider://username:password@ip:port/live1.264\") # read ip camera\u001b[39;00m\n\u001b[0;32m      7\u001b[0m \u001b[38;5;28;01mwhile\u001b[39;00m cam\u001b[38;5;241m.\u001b[39misOpened():\n\u001b[1;32m----> 8\u001b[0m     state, frame \u001b[38;5;241m=\u001b[39m \u001b[43mcam\u001b[49m\u001b[38;5;241;43m.\u001b[39;49m\u001b[43mread\u001b[49m\u001b[43m(\u001b[49m\u001b[43m)\u001b[49m\n\u001b[0;32m      9\u001b[0m     \u001b[38;5;28;01mif\u001b[39;00m \u001b[38;5;129;01mnot\u001b[39;00m state:\n\u001b[0;32m     10\u001b[0m         \u001b[38;5;28mprint\u001b[39m(\u001b[38;5;124m\"\u001b[39m\u001b[38;5;124mcamera is not readable\u001b[39m\u001b[38;5;124m\"\u001b[39m)\n",
      "\u001b[1;31mKeyboardInterrupt\u001b[0m: "
     ]
    }
   ],
   "source": [
    "import cv2 as cv\n",
    "import imutils\n",
    "\n",
    "cam = cv.VideoCapture(0) # if you want more camera capture then you need for loop for this\n",
    "# cam = cv.VideoCapture(\"proovider://username:password@ip:port/live1.264\") # read ip camera\n",
    "\n",
    "while cam.isOpened():\n",
    "    state, frame = cam.read()\n",
    "    if not state:\n",
    "        print(\"camera is not readable\")\n",
    "        break\n",
    "    else:\n",
    "        cv.imshow(\"WEB CAM\", frame)\n",
    "        if(cv.waitKey(10) == ord(\"q\")):\n",
    "            quit()\n",
    "\n",
    "cam.release()\n",
    "cv.destroyAllWindows()"
   ]
  },
  {
   "cell_type": "markdown",
   "id": "713c2951",
   "metadata": {},
   "source": [
    "#### For resize, screenshot, reshape, all work ar same as video file done"
   ]
  },
  {
   "cell_type": "code",
   "execution_count": 2,
   "id": "e88a587c",
   "metadata": {},
   "outputs": [
    {
     "ename": "KeyboardInterrupt",
     "evalue": "",
     "output_type": "error",
     "traceback": [
      "\u001b[1;31m---------------------------------------------------------------------------\u001b[0m",
      "\u001b[1;31mKeyboardInterrupt\u001b[0m                         Traceback (most recent call last)",
      "Cell \u001b[1;32mIn[2], line 18\u001b[0m\n\u001b[0;32m     15\u001b[0m     \u001b[38;5;28;01mbreak\u001b[39;00m\n\u001b[0;32m     16\u001b[0m \u001b[38;5;28;01melse\u001b[39;00m:\n\u001b[0;32m     17\u001b[0m     \u001b[38;5;66;03m# frame = imutils.resize(frame, 400, 300)\u001b[39;00m\n\u001b[1;32m---> 18\u001b[0m     \u001b[43mfile\u001b[49m\u001b[38;5;241;43m.\u001b[39;49m\u001b[43mwrite\u001b[49m\u001b[43m(\u001b[49m\u001b[43mframe\u001b[49m\u001b[43m)\u001b[49m\n\u001b[0;32m     19\u001b[0m     cv\u001b[38;5;241m.\u001b[39mimshow(\u001b[38;5;124m\"\u001b[39m\u001b[38;5;124mWEB CAM\u001b[39m\u001b[38;5;124m\"\u001b[39m, frame)\n\u001b[0;32m     20\u001b[0m     \u001b[38;5;28;01mif\u001b[39;00m(cv\u001b[38;5;241m.\u001b[39mwaitKey(\u001b[38;5;241m10\u001b[39m) \u001b[38;5;241m==\u001b[39m \u001b[38;5;28mord\u001b[39m(\u001b[38;5;124m\"\u001b[39m\u001b[38;5;124mq\u001b[39m\u001b[38;5;124m\"\u001b[39m)):\n",
      "\u001b[1;31mKeyboardInterrupt\u001b[0m: "
     ]
    }
   ],
   "source": [
    "import cv2 as cv\n",
    "import imutils\n",
    "\n",
    "cam = cv.VideoCapture(0) \n",
    "\n",
    "width = int(cam.get(3))\n",
    "height = int(cam.get(4))\n",
    "\n",
    "file = cv.VideoWriter(\"output.avi\", cv.VideoWriter_fourcc('M', 'J', 'P', 'G'), 10, (width, height))\n",
    "\n",
    "while cam.isOpened():\n",
    "    state, frame = cam.read()\n",
    "    if not state:\n",
    "        print(\"camera is not readable\")\n",
    "        break\n",
    "    else:\n",
    "        # frame = imutils.resize(frame, 400, 300)\n",
    "        file.write(frame)\n",
    "        cv.imshow(\"WEB CAM\", frame)\n",
    "        if(cv.waitKey(10) == ord(\"q\")):\n",
    "            quit()\n",
    "\n",
    "cam.release()\n",
    "file.release()\n",
    "cv.destroyAllWindows()"
   ]
  },
  {
   "cell_type": "code",
   "execution_count": null,
   "id": "3782f002",
   "metadata": {},
   "outputs": [
    {
     "ename": "KeyboardInterrupt",
     "evalue": "",
     "output_type": "error",
     "traceback": [
      "\u001b[1;31m---------------------------------------------------------------------------\u001b[0m",
      "\u001b[1;31mKeyboardInterrupt\u001b[0m                         Traceback (most recent call last)",
      "Cell \u001b[1;32mIn[1], line 17\u001b[0m\n\u001b[0;32m     15\u001b[0m         frame \u001b[38;5;241m=\u001b[39m cv\u001b[38;5;241m.\u001b[39mrectangle(frame, (\u001b[38;5;241m200\u001b[39m,\u001b[38;5;241m200\u001b[39m),(\u001b[38;5;241m400\u001b[39m,\u001b[38;5;241m400\u001b[39m),(\u001b[38;5;241m0\u001b[39m,\u001b[38;5;241m0\u001b[39m,\u001b[38;5;241m255\u001b[39m), \u001b[38;5;241m3\u001b[39m)\n\u001b[0;32m     16\u001b[0m         cv\u001b[38;5;241m.\u001b[39mimshow(\u001b[38;5;124m\"\u001b[39m\u001b[38;5;124mCamera\u001b[39m\u001b[38;5;124m\"\u001b[39m, frame)\n\u001b[1;32m---> 17\u001b[0m         \u001b[38;5;28;01mif\u001b[39;00m(\u001b[43mcv\u001b[49m\u001b[38;5;241;43m.\u001b[39;49m\u001b[43mwaitKey\u001b[49m\u001b[43m(\u001b[49m\u001b[38;5;241;43m10\u001b[39;49m\u001b[43m)\u001b[49m \u001b[38;5;241m==\u001b[39m \u001b[38;5;28mord\u001b[39m(\u001b[38;5;124m\"\u001b[39m\u001b[38;5;124mq\u001b[39m\u001b[38;5;124m\"\u001b[39m)):\n\u001b[0;32m     18\u001b[0m             quit()\n\u001b[0;32m     20\u001b[0m cam\u001b[38;5;241m.\u001b[39mrelease()\n",
      "\u001b[1;31mKeyboardInterrupt\u001b[0m: "
     ]
    },
    {
     "ename": "",
     "evalue": "",
     "output_type": "error",
     "traceback": [
      "\u001b[1;31mThe Kernel crashed while executing code in the current cell or a previous cell. \n",
      "\u001b[1;31mPlease review the code in the cell(s) to identify a possible cause of the failure. \n",
      "\u001b[1;31mClick <a href='https://aka.ms/vscodeJupyterKernelCrash'>here</a> for more info. \n",
      "\u001b[1;31mView Jupyter <a href='command:jupyter.viewOutput'>log</a> for further details."
     ]
    }
   ],
   "source": [
    "import cv2 as cv\n",
    "\n",
    "cam = cv.VideoCapture(0) \n",
    "while cam.isOpened():\n",
    "    state, frame = cam.read()\n",
    "    if not state:\n",
    "        print(\"camera is not readable\")\n",
    "        break\n",
    "    else:\n",
    "        # frame = cv.putText(frame, \"Uttam kumar\", (100,200), cv.FONT_HERSHEY_SIMPLEX, 1, (0,0,255), 3, cv.LINE_AA)\n",
    "        # frame = cv.line(frame, (0,0),(400, 400),(0,0,255), 3)\n",
    "        # frame = cv.arrowedLine(frame, (0,0),(400, 400),(0,0,255), 3)\n",
    "        # frame = cv.ellipse(frame, (250,250),(100, 50), 0, 0, 360,(0,0,255), 3)\n",
    "        # frame = cv.circle(frame, (250,250), 100,(0,0,255), 3)\n",
    "        frame = cv.rectangle(frame, (200,200),(400,400),(0,0,255), 3)\n",
    "        cv.imshow(\"Camera\", frame)\n",
    "        if(cv.waitKey(10) == ord(\"q\")):\n",
    "            quit()\n",
    "\n",
    "cam.release()\n",
    "cv.destroyAllWindows()"
   ]
  },
  {
   "cell_type": "code",
   "execution_count": null,
   "id": "2878054a",
   "metadata": {},
   "outputs": [],
   "source": []
  }
 ],
 "metadata": {
  "kernelspec": {
   "display_name": "Python 3",
   "language": "python",
   "name": "python3"
  },
  "language_info": {
   "codemirror_mode": {
    "name": "ipython",
    "version": 3
   },
   "file_extension": ".py",
   "mimetype": "text/x-python",
   "name": "python",
   "nbconvert_exporter": "python",
   "pygments_lexer": "ipython3",
   "version": "3.10.6"
  }
 },
 "nbformat": 4,
 "nbformat_minor": 5
}
