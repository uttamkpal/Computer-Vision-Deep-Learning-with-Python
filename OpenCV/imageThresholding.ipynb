{
 "cells": [
  {
   "cell_type": "markdown",
   "id": "6c8b4dac",
   "metadata": {},
   "source": [
    "### Image thresholding"
   ]
  },
  {
   "cell_type": "code",
   "execution_count": null,
   "id": "a954e0d0",
   "metadata": {},
   "outputs": [
    {
     "data": {
      "text/plain": [
       "-1"
      ]
     },
     "execution_count": 9,
     "metadata": {},
     "output_type": "execute_result"
    }
   ],
   "source": [
    "import cv2 as cv\n",
    "\n",
    "image = cv.imread('uttam.jpg')\n",
    "\n",
    "thresh, output = cv.threshold(image, 100, 200, cv.THRESH_BINARY)\n",
    "cv.imshow(\"Original Image\", image)\n",
    "cv.imshow(\"Threshold Image\", output)\n",
    "\n",
    "cv.waitKey(0)"
   ]
  },
  {
   "cell_type": "code",
   "execution_count": 12,
   "id": "319ff6c4",
   "metadata": {},
   "outputs": [
    {
     "data": {
      "text/plain": [
       "-1"
      ]
     },
     "execution_count": 12,
     "metadata": {},
     "output_type": "execute_result"
    }
   ],
   "source": [
    "import cv2 as cv\n",
    "\n",
    "image = cv.imread('uttam.jpg', 0)\n",
    "\n",
    "# output = cv.adaptiveThreshold(image, 255, cv.ADAPTIVE_THRESH_MEAN_C, cv.THRESH_BINARY, 111, 30)\n",
    "# output = cv.adaptiveThreshold(image, 100, cv.ADAPTIVE_THRESH_MEAN_C, cv.THRESH_BINARY, 111, 30)\n",
    "output = cv.adaptiveThreshold(image, 200, cv.ADAPTIVE_THRESH_MEAN_C, cv.THRESH_BINARY, 11, 30)\n",
    "\n",
    "\n",
    "cv.imshow(\"Original Image\", image)\n",
    "cv.imshow(\"Threshold Image\", output)\n",
    "\n",
    "cv.waitKey(0)"
   ]
  },
  {
   "cell_type": "markdown",
   "id": "9da451cb",
   "metadata": {},
   "source": [
    "### Edge Detection"
   ]
  },
  {
   "cell_type": "code",
   "execution_count": 25,
   "id": "59158762",
   "metadata": {},
   "outputs": [
    {
     "data": {
      "text/plain": [
       "-1"
      ]
     },
     "execution_count": 25,
     "metadata": {},
     "output_type": "execute_result"
    }
   ],
   "source": [
    "import cv2 as cv\n",
    "\n",
    "image = cv.imread('uttam.jpg', 0)\n",
    "\n",
    "blur_image = cv.GaussianBlur(image, (3,3), 200)\n",
    "\n",
    "canny_edges_original = cv.Canny(image, 100, 100)\n",
    "canny_edges_blur = cv.Canny(blur_image, 100, 100)\n",
    "\n",
    "# cv.imshow(\"Original Image\", image)\n",
    "# cv.imshow(\"Blur Image\", blur_image)\n",
    "cv.imshow(\"Edge Image Original\", canny_edges_original)\n",
    "cv.imshow(\"Edge Image Blur\", canny_edges_blur)\n",
    "\n",
    "cv.waitKey(0)"
   ]
  },
  {
   "cell_type": "code",
   "execution_count": null,
   "id": "dedd501d",
   "metadata": {},
   "outputs": [
    {
     "data": {
      "text/plain": [
       "-1"
      ]
     },
     "execution_count": 35,
     "metadata": {},
     "output_type": "execute_result"
    }
   ],
   "source": [
    "import cv2 as cv\n",
    "\n",
    "image = cv.imread('uttam.jpg', 0)\n",
    "\n",
    "laplacian_edges = cv.Laplacian(image, cv.CV_64F, ksize=3)\n",
    "blur_image = cv.GaussianBlur(image, (3,3), 200)\n",
    "blured_laplacian_edges = cv.Laplacian(blur_image, cv.CV_64F, ksize=3)\n",
    "\n",
    "# cv.imshow(\"Original Image\", image)\n",
    "cv.imshow(\"Laplacian Image\", laplacian_edges)\n",
    "cv.imshow(\"Blured Laplacian Image\", laplacian_edges)\n",
    "\n",
    "cv.waitKey(0)"
   ]
  },
  {
   "cell_type": "code",
   "execution_count": 39,
   "id": "3a766633",
   "metadata": {},
   "outputs": [
    {
     "data": {
      "text/plain": [
       "-1"
      ]
     },
     "execution_count": 39,
     "metadata": {},
     "output_type": "execute_result"
    }
   ],
   "source": [
    "import cv2 as cv\n",
    "import numpy as np\n",
    "\n",
    "image = cv.imread('uttam.jpg', 0)\n",
    "\n",
    "sobel_edges_x = cv.Sobel(image, cv.CV_64F, 1, 0, ksize=3)\n",
    "sobel_edges_y = cv.Sobel(image, cv.CV_64F, 0, 1, ksize=3)\n",
    "blur_image = cv.GaussianBlur(image, (3,3), 200)\n",
    "blured_laplacian_edges_x = cv.Sobel(blur_image, cv.CV_64F, 1, 0, ksize=3)\n",
    "sobel_combined = cv.magnitude(sobel_edges_x, sobel_edges_y)\n",
    "\n",
    "# cv.imshow(\"Original Image\", image)\n",
    "cv.imshow(\"Sobel Image X\", sobel_edges_x)\n",
    "cv.imshow(\"Sobel Image Y\", sobel_edges_y)\n",
    "cv.imshow(\"Sobel Image Combined\", np.uint8(sobel_combined))\n",
    "# cv.imshow(\"Blured Sobel Image\", blured_laplacian_edges_x)\n",
    "\n",
    "cv.waitKey(0)"
   ]
  }
 ],
 "metadata": {
  "kernelspec": {
   "display_name": "Python 3",
   "language": "python",
   "name": "python3"
  },
  "language_info": {
   "codemirror_mode": {
    "name": "ipython",
    "version": 3
   },
   "file_extension": ".py",
   "mimetype": "text/x-python",
   "name": "python",
   "nbconvert_exporter": "python",
   "pygments_lexer": "ipython3",
   "version": "3.10.6"
  }
 },
 "nbformat": 4,
 "nbformat_minor": 5
}
