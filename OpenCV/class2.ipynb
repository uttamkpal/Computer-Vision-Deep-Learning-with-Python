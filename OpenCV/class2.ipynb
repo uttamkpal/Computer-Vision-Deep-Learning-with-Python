{
 "cells": [
  {
   "cell_type": "markdown",
   "id": "cd80a33b",
   "metadata": {},
   "source": [
    "### Image manipulating [Resize, Blur, Color]"
   ]
  },
  {
   "cell_type": "code",
   "execution_count": null,
   "id": "53792353",
   "metadata": {},
   "outputs": [
    {
     "ename": "",
     "evalue": "",
     "output_type": "error",
     "traceback": [
      "\u001b[1;31mThe Kernel crashed while executing code in the current cell or a previous cell. \n",
      "\u001b[1;31mPlease review the code in the cell(s) to identify a possible cause of the failure. \n",
      "\u001b[1;31mClick <a href='https://aka.ms/vscodeJupyterKernelCrash'>here</a> for more info. \n",
      "\u001b[1;31mView Jupyter <a href='command:jupyter.viewOutput'>log</a> for further details."
     ]
    }
   ],
   "source": [
    "import cv2\n",
    "img = cv2.imread(\"uttam.jpg\")\n",
    "cv2.imshow(\"Image of Developer\", img)\n",
    "resizeImage = cv2.resize(img, (529, 590))\n",
    "cv2.imshow(\"Image of Developer Resized\", resizeImage)\n",
    "cv2.waitKey(0)\n",
    "if ord('q'):\n",
    "    quit()\n",
    "\n",
    "cv2.destroyAllWindows()"
   ]
  },
  {
   "cell_type": "code",
   "execution_count": 2,
   "id": "11851427",
   "metadata": {},
   "outputs": [
    {
     "name": "stdout",
     "output_type": "stream",
     "text": [
      "(1058, 1180, 3)\n",
      "(590, 529, 3)\n"
     ]
    }
   ],
   "source": [
    "import cv2\n",
    "img = cv2.imread(\"uttam.jpg\")\n",
    "resizeImage = cv2.resize(img, (529, 590))\n",
    "print(img.shape)\n",
    "print(resizeImage.shape)"
   ]
  },
  {
   "cell_type": "code",
   "execution_count": null,
   "id": "6cbe9853",
   "metadata": {},
   "outputs": [
    {
     "name": "stdout",
     "output_type": "stream",
     "text": [
      "(1058, 1180, 3)\n",
      "(590, 529, 3)\n"
     ]
    },
    {
     "ename": "",
     "evalue": "",
     "output_type": "error",
     "traceback": [
      "\u001b[1;31mThe Kernel crashed while executing code in the current cell or a previous cell. \n",
      "\u001b[1;31mPlease review the code in the cell(s) to identify a possible cause of the failure. \n",
      "\u001b[1;31mClick <a href='https://aka.ms/vscodeJupyterKernelCrash'>here</a> for more info. \n",
      "\u001b[1;31mView Jupyter <a href='command:jupyter.viewOutput'>log</a> for further details."
     ]
    }
   ],
   "source": [
    "import cv2\n",
    "img = cv2.imread(\"uttam.jpg\")\n",
    "resizeImage = cv2.resize(img, (529, 590))\n",
    "resize_inter_linear = cv2.resize(img, (529, 590), interpolation=cv2.INTER_LINEAR)\n",
    "resize_inter_area = cv2.resize(img, (529, 590), interpolation=cv2.INTER_AREA)\n",
    "resize_inter_cubic = cv2.resize(img, (529, 590), interpolation=cv2.INTER_CUBIC)\n",
    "cv2.imshow(\"resize_inter_linear\", resize_inter_linear)\n",
    "cv2.imshow(\"resize_inter_area\", resize_inter_area)\n",
    "cv2.imshow(\"resize_inter_cubic\", resize_inter_cubic)\n",
    "print(img.shape)\n",
    "print(resizeImage.shape)\n",
    "\n",
    "cv2.waitKey(0)\n",
    "if ord('q'):\n",
    "    quit()\n",
    "\n",
    "cv2.destroyAllWindows()"
   ]
  },
  {
   "cell_type": "code",
   "execution_count": null,
   "id": "ce3fecc2",
   "metadata": {},
   "outputs": [
    {
     "ename": "",
     "evalue": "",
     "output_type": "error",
     "traceback": [
      "\u001b[1;31mThe Kernel crashed while executing code in the current cell or a previous cell. \n",
      "\u001b[1;31mPlease review the code in the cell(s) to identify a possible cause of the failure. \n",
      "\u001b[1;31mClick <a href='https://aka.ms/vscodeJupyterKernelCrash'>here</a> for more info. \n",
      "\u001b[1;31mView Jupyter <a href='command:jupyter.viewOutput'>log</a> for further details."
     ]
    }
   ],
   "source": [
    "import cv2\n",
    "img = cv2.imread(\"uttam.jpg\")\n",
    "blue_image = cv2.blur(img, (5, 5))\n",
    "# blue_image = cv2.blur(img, (50, 50))\n",
    "cv2.imshow(\"blue_image\", blue_image)\n",
    "\n",
    "cv2.waitKey(0)\n",
    "if ord('q'):\n",
    "    quit()\n",
    "\n",
    "cv2.destroyAllWindows()"
   ]
  },
  {
   "cell_type": "code",
   "execution_count": null,
   "id": "a8d26573",
   "metadata": {},
   "outputs": [
    {
     "ename": "",
     "evalue": "",
     "output_type": "error",
     "traceback": [
      "\u001b[1;31mThe Kernel crashed while executing code in the current cell or a previous cell. \n",
      "\u001b[1;31mPlease review the code in the cell(s) to identify a possible cause of the failure. \n",
      "\u001b[1;31mClick <a href='https://aka.ms/vscodeJupyterKernelCrash'>here</a> for more info. \n",
      "\u001b[1;31mView Jupyter <a href='command:jupyter.viewOutput'>log</a> for further details."
     ]
    }
   ],
   "source": [
    "import cv2\n",
    "img = cv2.imread(\"uttam.jpg\")\n",
    "# blue_image = cv2.GaussianBlur(img, (5, 5), 1)\n",
    "# blue_image = cv2.GaussianBlur(img, (50, 50), 1) #error: (-215:Assertion failed) ksize.width > 0 && ksize.width % 2 == 1 && ksize.height > 0 && ksize.height % 2 == 1 in function 'cv::createGaussianKernels\n",
    "blue_image = cv2.GaussianBlur(img, (51, 51), 1)\n",
    "cv2.imshow(\"blue_image\", blue_image)\n",
    "\n",
    "cv2.waitKey(0)\n",
    "if ord('q'):\n",
    "    quit()\n",
    "\n",
    "cv2.destroyAllWindows()"
   ]
  },
  {
   "cell_type": "code",
   "execution_count": null,
   "id": "cdfc8d52",
   "metadata": {},
   "outputs": [
    {
     "ename": "",
     "evalue": "",
     "output_type": "error",
     "traceback": [
      "\u001b[1;31mThe Kernel crashed while executing code in the current cell or a previous cell. \n",
      "\u001b[1;31mPlease review the code in the cell(s) to identify a possible cause of the failure. \n",
      "\u001b[1;31mClick <a href='https://aka.ms/vscodeJupyterKernelCrash'>here</a> for more info. \n",
      "\u001b[1;31mView Jupyter <a href='command:jupyter.viewOutput'>log</a> for further details."
     ]
    }
   ],
   "source": [
    "import cv2\n",
    "img = cv2.imread(\"uttam.jpg\")\n",
    "blue_image = cv2.medianBlur(img, 101)\n",
    "cv2.imshow(\"blue_image\", blue_image)\n",
    "\n",
    "cv2.waitKey(0)\n",
    "if ord('q'):\n",
    "    quit()\n",
    "\n",
    "cv2.destroyAllWindows()"
   ]
  },
  {
   "cell_type": "code",
   "execution_count": null,
   "id": "9f9f28a1",
   "metadata": {},
   "outputs": [
    {
     "ename": "",
     "evalue": "",
     "output_type": "error",
     "traceback": [
      "\u001b[1;31mThe Kernel crashed while executing code in the current cell or a previous cell. \n",
      "\u001b[1;31mPlease review the code in the cell(s) to identify a possible cause of the failure. \n",
      "\u001b[1;31mClick <a href='https://aka.ms/vscodeJupyterKernelCrash'>here</a> for more info. \n",
      "\u001b[1;31mView Jupyter <a href='command:jupyter.viewOutput'>log</a> for further details."
     ]
    }
   ],
   "source": [
    "import cv2\n",
    "img = cv2.imread(\"uttam.jpg\")\n",
    "# color_image = cv2.cvtColor(img, cv2.COLOR_BGR2RGB)\n",
    "color_image = cv2.cvtColor(img, cv2.COLOR_BGR2GRAY)\n",
    "cv2.imshow(\"color_image\", color_image)\n",
    "\n",
    "cv2.waitKey(0)\n",
    "if ord('q'):\n",
    "    quit()\n",
    "\n",
    "cv2.destroyAllWindows()"
   ]
  },
  {
   "cell_type": "markdown",
   "id": "651c3c59",
   "metadata": {},
   "source": [
    "### Displaying Text & Drawing shapes"
   ]
  },
  {
   "cell_type": "code",
   "execution_count": null,
   "id": "1fdaf205",
   "metadata": {},
   "outputs": [
    {
     "ename": "",
     "evalue": "",
     "output_type": "error",
     "traceback": [
      "\u001b[1;31mThe Kernel crashed while executing code in the current cell or a previous cell. \n",
      "\u001b[1;31mPlease review the code in the cell(s) to identify a possible cause of the failure. \n",
      "\u001b[1;31mClick <a href='https://aka.ms/vscodeJupyterKernelCrash'>here</a> for more info. \n",
      "\u001b[1;31mView Jupyter <a href='command:jupyter.viewOutput'>log</a> for further details."
     ]
    }
   ],
   "source": [
    "import cv2\n",
    "img = cv2.imread(\"uttam.jpg\")\n",
    "fontFace = cv2.FONT_HERSHEY_SIMPLEX\n",
    "fontScale = 2\n",
    "fontThickness = 4\n",
    "# taxt_image = cv2.putText(img, \"Uttam kumar pal\", (500, 250), fontFace = fontFace, fontScale= fontScale, color = (0,0,255), thickness= fontThickness, lineType = cv2.LINE_AA)\n",
    "\n",
    "rect_img = cv2.rectangle(img, (650, 450),(850, 650),(0,0,255), -1)\n",
    "# circle_image = cv2.circle(img, (650, 450),200,(0,0,255), -1)\n",
    "# circle_image = cv2.circle(img, (650, 450),200,(0,0,255), 2)\n",
    "# shape_image = cv2.arrowedLine(img, (0,0), (529, 590), (0,0,255), 2)\n",
    "# shape_image = cv2.line(img, (0,0), (529, 590), (0,0,255), 2)\n",
    "# cv2.imshow(\"Original Image\", img)\n",
    "# cv2.imshow(\"taxt_image\", taxt_image)\n",
    "# cv2.imshow(\"taxt_image\", shape_image)\n",
    "# cv2.imshow(\"taxt_image\", circle_image)\n",
    "cv2.imshow(\"taxt_image\", rect_img)\n",
    "cv2.waitKey(0)\n",
    "if ord('q'):\n",
    "    quit()\n",
    "\n",
    "cv2.destroyAllWindows()"
   ]
  }
 ],
 "metadata": {
  "kernelspec": {
   "display_name": "Python 3",
   "language": "python",
   "name": "python3"
  },
  "language_info": {
   "codemirror_mode": {
    "name": "ipython",
    "version": 3
   },
   "file_extension": ".py",
   "mimetype": "text/x-python",
   "name": "python",
   "nbconvert_exporter": "python",
   "pygments_lexer": "ipython3",
   "version": "3.10.6"
  }
 },
 "nbformat": 4,
 "nbformat_minor": 5
}
