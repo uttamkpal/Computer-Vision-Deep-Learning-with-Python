{
 "cells": [
  {
   "cell_type": "markdown",
   "id": "d58d95cc",
   "metadata": {},
   "source": [
    "### Object detection using template matching"
   ]
  },
  {
   "cell_type": "code",
   "execution_count": null,
   "id": "94cb2204",
   "metadata": {},
   "outputs": [
    {
     "name": "stdout",
     "output_type": "stream",
     "text": [
      "Y from top 209, X from left 2693\n",
      "Y end from top 2078, X end from left 4458\n"
     ]
    }
   ],
   "source": [
    "import cv2 as cv\n",
    "\n",
    "main_image = cv.imread(\"./images/main.jpg\")\n",
    "# print(main_image.shape)\n",
    "gray_image = cv.cvtColor(main_image, cv.COLOR_BGR2GRAY)\n",
    "detect_image = cv.imread(\"./images/g.jpg\", 0)\n",
    "# cv.imshow(\"Main Image\", main_image)\n",
    "# cv.imshow(\"gray_image\", gray_image)\n",
    "# cv.imshow(\"detect_image\", detect_image)\n",
    "\n",
    "height, width = detect_image.shape\n",
    "\n",
    "result = cv.matchTemplate(gray_image, detect_image, cv.TM_CCOEFF_NORMED)\n",
    "# result = cv.matchTemplate(gray_image, detect_image, cv.TM_SQDIFF)\n",
    "\n",
    "min_val, max_val, min_cro, max_cro = cv.minMaxLoc(result)\n",
    "\n",
    "left = max_cro[0]\n",
    "top = max_cro[1]\n",
    "# left = min_cro[0] #cv.TM_SQDIFF\n",
    "# top = min_cro[1] #cv.TM_SQDIFF\n",
    "\n",
    "print(f\"Y from top {top}, X from left {left}\")\n",
    "print(f\"Y end from top {top + height}, X end from left {left + width}\")\n",
    "\n",
    "cv.rectangle(main_image, (left, top), (left + width, top+height), (0,0,255), 0)\n",
    "cv.imshow(\"Main Image\", main_image)\n",
    "cv.imshow(\"Main Image\", main_image)\n",
    "\n",
    "# print(result)\n",
    "if(cv.waitKey(0) == ord(\"q\")):\n",
    "    quit()\n",
    "\n",
    "cv.destroyAllWindows()"
   ]
  }
 ],
 "metadata": {
  "kernelspec": {
   "display_name": "Python 3",
   "language": "python",
   "name": "python3"
  },
  "language_info": {
   "codemirror_mode": {
    "name": "ipython",
    "version": 3
   },
   "file_extension": ".py",
   "mimetype": "text/x-python",
   "name": "python",
   "nbconvert_exporter": "python",
   "pygments_lexer": "ipython3",
   "version": "3.10.6"
  }
 },
 "nbformat": 4,
 "nbformat_minor": 5
}
