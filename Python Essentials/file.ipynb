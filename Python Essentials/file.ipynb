{
 "cells": [
  {
   "cell_type": "code",
   "execution_count": 4,
   "id": "d57d9ac4",
   "metadata": {},
   "outputs": [
    {
     "data": {
      "text/plain": [
       "16"
      ]
     },
     "execution_count": 4,
     "metadata": {},
     "output_type": "execute_result"
    }
   ],
   "source": [
    "#mode r = reading, w = writing, a = append, x = create\n",
    "file = open(\"file.txt\", \"w\")\n",
    "file.write(\"Uttam Kumar Pal!\")"
   ]
  },
  {
   "cell_type": "code",
   "execution_count": 5,
   "id": "8ca6430d",
   "metadata": {},
   "outputs": [
    {
     "name": "stdout",
     "output_type": "stream",
     "text": [
      "Uttam Kumar Pal!\n"
     ]
    }
   ],
   "source": [
    "file = open(\"file.txt\", \"r\")\n",
    "print(file.read())"
   ]
  },
  {
   "cell_type": "code",
   "execution_count": null,
   "id": "dad60c19",
   "metadata": {},
   "outputs": [
    {
     "name": "stdout",
     "output_type": "stream",
     "text": [
      "this is a new file created by program\n"
     ]
    }
   ],
   "source": [
    "import os \n",
    "\n",
    "if os.path.exists(\"newfile.txt\"):\n",
    "    newfile = open(\"newfile.txt\", \"r\")\n",
    "    print(newfile.read())\n",
    "else: \n",
    "    newfile = open(\"newfile.txt\", \"w\")\n",
    "    newfile.write(\"this is a new file created by program\")\n",
    "newfile.close()\n",
    "\n",
    "\n"
   ]
  },
  {
   "cell_type": "code",
   "execution_count": 11,
   "id": "5917d938",
   "metadata": {},
   "outputs": [
    {
     "data": {
      "text/plain": [
       "'this is a new file created by program'"
      ]
     },
     "execution_count": 11,
     "metadata": {},
     "output_type": "execute_result"
    }
   ],
   "source": [
    "open(\"newfile.txt\", \"r\").read()"
   ]
  },
  {
   "cell_type": "code",
   "execution_count": 12,
   "id": "029f2466",
   "metadata": {},
   "outputs": [],
   "source": [
    "os.remove(\"newfile.txt\")"
   ]
  },
  {
   "cell_type": "code",
   "execution_count": 16,
   "id": "b68ebc91",
   "metadata": {},
   "outputs": [],
   "source": [
    "if os.path.exists(\"newdir/newfile.txt\"):\n",
    "    newfile = open(\"newdir/newfile.txt\", \"r\")\n",
    "    print(newfile.read())\n",
    "else: \n",
    "    os.makedirs(\"newdir\", exist_ok = True)\n",
    "    newfile = open(\"newdir/newfile.txt\", \"w\")\n",
    "    newfile.write(\"this is a new file created by program\")\n",
    "newfile.close()\n"
   ]
  },
  {
   "cell_type": "code",
   "execution_count": null,
   "id": "3211f6de",
   "metadata": {},
   "outputs": [
    {
     "ename": "TypeError",
     "evalue": "'ignore_errors' is an invalid keyword argument for rmdir()",
     "output_type": "error",
     "traceback": [
      "\u001b[1;31m---------------------------------------------------------------------------\u001b[0m",
      "\u001b[1;31mTypeError\u001b[0m                                 Traceback (most recent call last)",
      "Cell \u001b[1;32mIn[18], line 1\u001b[0m\n\u001b[1;32m----> 1\u001b[0m \u001b[43mos\u001b[49m\u001b[38;5;241;43m.\u001b[39;49m\u001b[43mrmdir\u001b[49m\u001b[43m(\u001b[49m\u001b[38;5;124;43m\"\u001b[39;49m\u001b[38;5;124;43mnewdir\u001b[39;49m\u001b[38;5;124;43m\"\u001b[39;49m\u001b[43m,\u001b[49m\u001b[43m \u001b[49m\u001b[43mignore_errors\u001b[49m\u001b[43m \u001b[49m\u001b[38;5;241;43m=\u001b[39;49m\u001b[43m \u001b[49m\u001b[38;5;28;43;01mTrue\u001b[39;49;00m\u001b[43m)\u001b[49m\n",
      "\u001b[1;31mTypeError\u001b[0m: 'ignore_errors' is an invalid keyword argument for rmdir()"
     ]
    }
   ],
   "source": [
    "os.rmdir(\"newdir\")\n"
   ]
  },
  {
   "cell_type": "code",
   "execution_count": 19,
   "id": "00aec2e2",
   "metadata": {},
   "outputs": [],
   "source": [
    "import shutil\n",
    "\n",
    "shutil.rmtree(\"newdir\")"
   ]
  },
  {
   "cell_type": "markdown",
   "id": "3120d9fb",
   "metadata": {},
   "source": [
    "Try and except "
   ]
  },
  {
   "cell_type": "code",
   "execution_count": 25,
   "id": "41234338",
   "metadata": {},
   "outputs": [
    {
     "name": "stdout",
     "output_type": "stream",
     "text": [
      "file Do not found\n",
      "finally block is always executed\n"
     ]
    }
   ],
   "source": [
    "try:\n",
    "    file = open('newfile.txt', \"r\")\n",
    "    print(file.read())\n",
    "except Exception :\n",
    "    print(\"file Do not found\")\n",
    "else:\n",
    "    print(\"All OK\")\n",
    "finally:\n",
    "    print(\"finally block is always executed\")"
   ]
  }
 ],
 "metadata": {
  "kernelspec": {
   "display_name": "Python 3",
   "language": "python",
   "name": "python3"
  },
  "language_info": {
   "codemirror_mode": {
    "name": "ipython",
    "version": 3
   },
   "file_extension": ".py",
   "mimetype": "text/x-python",
   "name": "python",
   "nbconvert_exporter": "python",
   "pygments_lexer": "ipython3",
   "version": "3.10.6"
  }
 },
 "nbformat": 4,
 "nbformat_minor": 5
}
