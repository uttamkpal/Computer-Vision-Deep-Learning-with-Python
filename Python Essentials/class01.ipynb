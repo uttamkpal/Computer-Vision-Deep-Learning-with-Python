{
 "cells": [
  {
   "cell_type": "markdown",
   "id": "c5e69bac",
   "metadata": {},
   "source": [
    "# In this file I practice python variables, data type, statements, loop and functions"
   ]
  },
  {
   "cell_type": "code",
   "execution_count": 2,
   "id": "db6f97a7",
   "metadata": {},
   "outputs": [
    {
     "name": "stdout",
     "output_type": "stream",
     "text": [
      "30\n"
     ]
    }
   ],
   "source": [
    "name = \"Uttam Kumar\"\n",
    "x = 10\n",
    "y = 20\n",
    "print(x + y)"
   ]
  },
  {
   "cell_type": "code",
   "execution_count": 4,
   "id": "51fb6566",
   "metadata": {},
   "outputs": [
    {
     "name": "stdout",
     "output_type": "stream",
     "text": [
      "30\n",
      "-10\n",
      "200\n",
      "0.5\n",
      "10\n",
      "0\n",
      "100000000000000000000\n"
     ]
    }
   ],
   "source": [
    "#  + - * / % // **\n",
    "print(x + y)\n",
    "print(x - y)\n",
    "print(x * y)\n",
    "print(x / y)\n",
    "print(x % y) # modulas\n",
    "print(x // y) #integer division\n",
    "print(x ** y) # exp x^y"
   ]
  },
  {
   "cell_type": "code",
   "execution_count": 6,
   "id": "9b9e191f",
   "metadata": {},
   "outputs": [
    {
     "name": "stdout",
     "output_type": "stream",
     "text": [
      "Uttam Kumar\n"
     ]
    }
   ],
   "source": [
    "# String\n",
    "first_name = \"Uttam\" # use double qutation\n",
    "last_name = 'Kumar' # use single qutation\n",
    "full_name = first_name + \" \" + last_name\n",
    "print(full_name)"
   ]
  },
  {
   "cell_type": "markdown",
   "id": "d454ce8f",
   "metadata": {},
   "source": [
    "### Integer, float, double, complex number, string, boolean, object,"
   ]
  },
  {
   "cell_type": "code",
   "execution_count": 7,
   "id": "a5db708f",
   "metadata": {},
   "outputs": [
    {
     "name": "stdout",
     "output_type": "stream",
     "text": [
      "930\n"
     ]
    }
   ],
   "source": [
    "firstNumber = 30 \n",
    "secondNumber = 31\n",
    "\n",
    "if firstNumber > secondNumber:\n",
    "    print(firstNumber + secondNumber)\n",
    "else:\n",
    "    print(firstNumber * secondNumber)"
   ]
  },
  {
   "cell_type": "code",
   "execution_count": 8,
   "id": "24c24fbb",
   "metadata": {},
   "outputs": [
    {
     "name": "stdout",
     "output_type": "stream",
     "text": [
      "930\n"
     ]
    }
   ],
   "source": [
    "if firstNumber > secondNumber and firstNumber > 10:\n",
    "    print(firstNumber + secondNumber)\n",
    "else:\n",
    "    print(firstNumber * secondNumber)"
   ]
  },
  {
   "cell_type": "markdown",
   "id": "2d02a84e",
   "metadata": {},
   "source": [
    "# conditional operator \n",
    "## and, or, not, >, <, >=, <=, ==, !="
   ]
  },
  {
   "cell_type": "code",
   "execution_count": 9,
   "id": "78fe4064",
   "metadata": {},
   "outputs": [
    {
     "name": "stdout",
     "output_type": "stream",
     "text": [
      "You are a young star\n"
     ]
    }
   ],
   "source": [
    "age = 20\n",
    "if age <= 2:\n",
    "    print('You are an infant baby')\n",
    "elif age <= 12:\n",
    "    print(\"You are a child\")\n",
    "elif age <= 19: \n",
    "    print(\"You are a teen\")\n",
    "elif age <= 35:\n",
    "    print(\"You are a young star\")\n",
    "elif age <= 50:\n",
    "    print(\"You are a matured man and you should have wife and kids\")\n",
    "else:\n",
    "    print(\"You are a national treasure and we love you\")"
   ]
  },
  {
   "cell_type": "code",
   "execution_count": null,
   "id": "4c97eb8d",
   "metadata": {},
   "outputs": [
    {
     "name": "stdout",
     "output_type": "stream",
     "text": [
      "1\n",
      "2\n",
      "3\n",
      "4\n",
      "5\n",
      "6\n",
      "7\n",
      "8\n",
      "9\n",
      "10\n"
     ]
    }
   ],
   "source": [
    "for i in range(1, 11):\n",
    "    print(i)"
   ]
  },
  {
   "cell_type": "code",
   "execution_count": 11,
   "id": "0ddc108d",
   "metadata": {},
   "outputs": [
    {
     "name": "stdout",
     "output_type": "stream",
     "text": [
      "1\n",
      "11\n",
      "21\n",
      "31\n",
      "41\n",
      "51\n",
      "61\n",
      "71\n",
      "81\n",
      "91\n"
     ]
    }
   ],
   "source": [
    "for i in range(1,100, 10):\n",
    "    print(i)"
   ]
  },
  {
   "cell_type": "code",
   "execution_count": 12,
   "id": "63e857c8",
   "metadata": {},
   "outputs": [
    {
     "name": "stdout",
     "output_type": "stream",
     "text": [
      "Your are still young\n",
      "Your are still young\n",
      "Your are still young\n",
      "Your are still young\n",
      "Your are still young\n",
      "you are 25 years old\n",
      "Your are still young\n",
      "Your are still young\n",
      "Your are still young\n",
      "Your are still young\n",
      "Your are still young\n",
      "30\n"
     ]
    }
   ],
   "source": [
    "while age < 30:\n",
    "    print(\"Your are still young\")\n",
    "    age += 1\n",
    "    if age == 25:\n",
    "        print(\"you are 25 years old\")\n",
    "    \n",
    "print(age)"
   ]
  },
  {
   "cell_type": "code",
   "execution_count": 15,
   "id": "e7987baf",
   "metadata": {},
   "outputs": [
    {
     "name": "stdout",
     "output_type": "stream",
     "text": [
      "1 is old\n",
      "2 is even\n",
      "3 is old\n",
      "4 is even\n",
      "5 is old\n",
      "6 is even\n",
      "7 is old\n",
      "8 is even\n",
      "9 is old\n",
      "10 is even\n"
     ]
    }
   ],
   "source": [
    "number  = [1,2,3,4,5,6,7,8,9,10]\n",
    "for i in number:\n",
    "    if i % 2 == 0:\n",
    "        print(i, \"is even\")\n",
    "    else:\n",
    "        print(i, \"is old\")"
   ]
  },
  {
   "cell_type": "code",
   "execution_count": 16,
   "id": "afbe10f0",
   "metadata": {},
   "outputs": [
    {
     "data": {
      "text/plain": [
       "3"
      ]
     },
     "execution_count": 16,
     "metadata": {},
     "output_type": "execute_result"
    }
   ],
   "source": [
    "number[2]"
   ]
  },
  {
   "cell_type": "code",
   "execution_count": 17,
   "id": "0d860ee0",
   "metadata": {},
   "outputs": [
    {
     "data": {
      "text/plain": [
       "[1, 2, 3, 4, 5, 6, 7, 8, 9, 10]"
      ]
     },
     "execution_count": 17,
     "metadata": {},
     "output_type": "execute_result"
    }
   ],
   "source": [
    "number.sort()\n",
    "number"
   ]
  },
  {
   "cell_type": "markdown",
   "id": "378185bd",
   "metadata": {},
   "source": [
    "## Functions and Methods\n"
   ]
  },
  {
   "cell_type": "code",
   "execution_count": 20,
   "id": "09584b96",
   "metadata": {},
   "outputs": [
    {
     "name": "stdout",
     "output_type": "stream",
     "text": [
      "32\n"
     ]
    }
   ],
   "source": [
    "def add(x, y):\n",
    "    return x + y\n",
    "\n",
    "result = add(12, 20)\n",
    "print(result)"
   ]
  },
  {
   "cell_type": "code",
   "execution_count": 21,
   "id": "fc74a066",
   "metadata": {},
   "outputs": [
    {
     "name": "stdout",
     "output_type": "stream",
     "text": [
      "10\n",
      "10\n",
      "[2, 3, 4, 5]\n",
      "[1, 2, 3, 4, 5]\n",
      "[4, 5, 6, 7, 8, 9, 10]\n"
     ]
    }
   ],
   "source": [
    "print(len(number))\n",
    "print(number[-1])\n",
    "print(number[1:5])\n",
    "print(number[:5])\n",
    "print(number[3:])"
   ]
  },
  {
   "cell_type": "code",
   "execution_count": 22,
   "id": "0dec689b",
   "metadata": {},
   "outputs": [
    {
     "name": "stdout",
     "output_type": "stream",
     "text": [
      "[1, 2, 3, 4, 5, 6, 7, 8, 9, 10]\n",
      "[1, 2, 3, 5, 6, 7, 8, 9, 10]\n"
     ]
    }
   ],
   "source": [
    "print(number)\n",
    "number.pop(3)\n",
    "print(number)"
   ]
  },
  {
   "cell_type": "code",
   "execution_count": 23,
   "id": "8446ad79",
   "metadata": {},
   "outputs": [
    {
     "name": "stdout",
     "output_type": "stream",
     "text": [
      "None\n",
      "[10, 9, 8, 7, 6, 5, 3, 2, 1]\n"
     ]
    }
   ],
   "source": [
    "print(number.sort(reverse=True))\n",
    "print(number)"
   ]
  },
  {
   "cell_type": "code",
   "execution_count": 24,
   "id": "64459c7a",
   "metadata": {},
   "outputs": [
    {
     "name": "stdout",
     "output_type": "stream",
     "text": [
      "[1, 2, 3, 4, 5, 6, 7, 8, 9]\n"
     ]
    }
   ],
   "source": [
    "list1 = [1,2,3,4,5]\n",
    "list2 = [6,7,8,9]\n",
    "joined_list  = list1 + list2\n",
    "print(joined_list)"
   ]
  },
  {
   "cell_type": "code",
   "execution_count": 25,
   "id": "caca148c",
   "metadata": {},
   "outputs": [
    {
     "name": "stdout",
     "output_type": "stream",
     "text": [
      "[[1, 2, 3], [4, 5, 6], [7, 8, 9]]\n",
      "2\n"
     ]
    }
   ],
   "source": [
    "list_2d = [\n",
    "    [1,2,3],\n",
    "    [4,5,6],\n",
    "    [7,8,9]\n",
    "]\n",
    "print(list_2d)\n",
    "print(list_2d[0][1])"
   ]
  },
  {
   "cell_type": "code",
   "execution_count": null,
   "id": "3f7472db",
   "metadata": {},
   "outputs": [
    {
     "name": "stdout",
     "output_type": "stream",
     "text": [
      "1 2 3 \n",
      "4 5 6 \n",
      "7 8 9 \n"
     ]
    }
   ],
   "source": [
    "for row in list_2d:\n",
    "    for col in row:\n",
    "        print(col, end=' ')\n",
    "    print() #new line after each row"
   ]
  },
  {
   "cell_type": "code",
   "execution_count": 34,
   "id": "545ac813",
   "metadata": {},
   "outputs": [
    {
     "name": "stdout",
     "output_type": "stream",
     "text": [
      "(1, 2, 3, 4, 5, 6)\n",
      "3\n",
      "(2, 3, 4)\n",
      "{1, 2, 3, 4, 5, 6, 7, 8, 9, 12}\n",
      "{1, 2, 3, 4, 5, 6, 7, 8, 9, 100, 12}\n"
     ]
    }
   ],
   "source": [
    "# Python Tuple, set, dictionary\n",
    "my_tuple = (1,2,3,4,5,6)\n",
    "print(my_tuple) # tuple are immutable\n",
    "print(my_tuple[2]) # access tuple element\n",
    "print(my_tuple[1:4]) # slicing tuple\n",
    "myset = {1,2,3,4,5,5,5,5,5,5,6,7,7,7,8,8,9,2,1,2,2,1,2,12,1,2,1,2,12,12,}\n",
    "print(myset) # set does not support indexing and slicing\n",
    "myset.add(100) \n",
    "print(myset) \n"
   ]
  },
  {
   "cell_type": "code",
   "execution_count": 35,
   "id": "3438248c",
   "metadata": {},
   "outputs": [
    {
     "name": "stdout",
     "output_type": "stream",
     "text": [
      "{'name': 'Uttam kumar', 'skills': ['PHP', 'Laravel', 'javascript', 'vue.js', 'Python', 'web development', 'data science', 'Ai', 'ML', 'database', 'data analysis', 'computer science']}\n",
      "Uttam kumar\n",
      "Python\n"
     ]
    }
   ],
   "source": [
    "#dictionary\n",
    "my_dict = {\n",
    "    \"name\" : \"Uttam kumar\", \n",
    "    \"skills\" : [\n",
    "        \"PHP\",\n",
    "        \"Laravel\",\n",
    "        \"javascript\",\n",
    "        \"vue.js\",\n",
    "        \"Python\",\n",
    "        \"web development\",\n",
    "        \"data science\",\n",
    "        \"Ai\",\n",
    "        \"ML\",\n",
    "        \"database\",\n",
    "        \"data analysis\",\n",
    "        \"computer science\",\n",
    "    ]\n",
    "}\n",
    "print(my_dict)\n",
    "print(my_dict[\"name\"])\n",
    "print(my_dict[\"skills\"][4])"
   ]
  },
  {
   "cell_type": "code",
   "execution_count": 41,
   "id": "102d286e",
   "metadata": {},
   "outputs": [
    {
     "name": "stdout",
     "output_type": "stream",
     "text": [
      "2025-06-14 00:41:21.510983\n",
      "2025-06-14\n",
      "00:41:21.510983\n",
      "6\n",
      "14\n",
      "2025\n",
      "5\n",
      "2025-06-14\n"
     ]
    }
   ],
   "source": [
    "import math\n",
    "import datetime\n",
    "\n",
    "_date = datetime.datetime.now()\n",
    "print(_date)\n",
    "print(_date.date())\n",
    "print(_date.time())\n",
    "print(_date.month)\n",
    "print(_date.day)\n",
    "print(_date.year)\n",
    "print(_date.weekday())\n",
    "print(_date.strftime(\"%Y-%m-%d\"))"
   ]
  },
  {
   "cell_type": "code",
   "execution_count": 45,
   "id": "9d1474b2",
   "metadata": {},
   "outputs": [
    {
     "name": "stdout",
     "output_type": "stream",
     "text": [
      "10\n",
      "1\n",
      "1203\n",
      "256\n"
     ]
    }
   ],
   "source": [
    "print(max(number))\n",
    "print(min(number))\n",
    "print(abs(-1203))\n",
    "print(pow(4,4))"
   ]
  },
  {
   "cell_type": "code",
   "execution_count": 47,
   "id": "e874cc31",
   "metadata": {},
   "outputs": [
    {
     "name": "stdout",
     "output_type": "stream",
     "text": [
      "1231223\n",
      "1231224\n",
      "1231223\n"
     ]
    }
   ],
   "source": [
    "\n",
    "num = 1231223.324\n",
    "\n",
    "print(round(num))\n",
    "print(math.ceil(num))\n",
    "print(math.floor(num))"
   ]
  },
  {
   "cell_type": "code",
   "execution_count": null,
   "id": "03b4cd81",
   "metadata": {},
   "outputs": [],
   "source": []
  }
 ],
 "metadata": {
  "kernelspec": {
   "display_name": "Python 3",
   "language": "python",
   "name": "python3"
  },
  "language_info": {
   "codemirror_mode": {
    "name": "ipython",
    "version": 3
   },
   "file_extension": ".py",
   "mimetype": "text/x-python",
   "name": "python",
   "nbconvert_exporter": "python",
   "pygments_lexer": "ipython3",
   "version": "3.10.6"
  }
 },
 "nbformat": 4,
 "nbformat_minor": 5
}
