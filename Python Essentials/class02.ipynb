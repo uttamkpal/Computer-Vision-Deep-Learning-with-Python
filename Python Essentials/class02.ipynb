{
 "cells": [
  {
   "cell_type": "markdown",
   "id": "179cad9d",
   "metadata": {},
   "source": [
    "### python OOP\n",
    "#### class objects practices"
   ]
  },
  {
   "cell_type": "code",
   "execution_count": 16,
   "id": "a84dc63e",
   "metadata": {},
   "outputs": [
    {
     "name": "stdout",
     "output_type": "stream",
     "text": [
      "101\n",
      "uttam\n",
      "python\n",
      "<__main__.Student object at 0x000001778F6F2EF0>\n"
     ]
    }
   ],
   "source": [
    "#custome datatypes\n",
    "class Student:\n",
    "    id = 101\n",
    "    name = \"uttam\"\n",
    "    course = \"python\"\n",
    "student1 = Student()\n",
    "\n",
    "print(student1.id) \n",
    "print(student1.name) \n",
    "print(student1.course) \n",
    "print(student1) "
   ]
  },
  {
   "cell_type": "code",
   "execution_count": 17,
   "id": "4572281a",
   "metadata": {},
   "outputs": [
    {
     "name": "stdout",
     "output_type": "stream",
     "text": [
      "102\n",
      "Uttam Kumar\n",
      "50000\n"
     ]
    }
   ],
   "source": [
    "class Employee:\n",
    "    def __init__(self, id, name, salary):\n",
    "        self.id = id\n",
    "        self.name = name\n",
    "        self.salary = salary\n",
    "\n",
    "empolyee1 = Employee(102, \"Uttam Kumar\", 50000)\n",
    "print(empolyee1.id)\n",
    "print(empolyee1.name)\n",
    "print(empolyee1.salary)"
   ]
  },
  {
   "cell_type": "code",
   "execution_count": 18,
   "id": "a208733f",
   "metadata": {},
   "outputs": [
    {
     "name": "stdout",
     "output_type": "stream",
     "text": [
      "ID: 103, Name: Lutfore, Salary: 100000\n"
     ]
    }
   ],
   "source": [
    "class Employee:\n",
    "    def __init__(self, id = None, name=None, salary= None):\n",
    "        self.id = id\n",
    "        self.name = name\n",
    "        self.salary = salary\n",
    "\n",
    "    def getEmployeeInfo(self):\n",
    "        return \"ID: \" + str(self.id) + \", Name: \" + self.name + \", Salary: \" + str(self.salary)\n",
    "\n",
    "empolyee1 = Employee(103, \"Lutfore\", 100000)\n",
    "\n",
    "print(empolyee1.getEmployeeInfo())"
   ]
  },
  {
   "cell_type": "code",
   "execution_count": 19,
   "id": "c9b7aeb0",
   "metadata": {},
   "outputs": [
    {
     "name": "stdout",
     "output_type": "stream",
     "text": [
      "Uttam Kumar\n",
      "25\n",
      "Outside of the function Uttam Kumar\n"
     ]
    }
   ],
   "source": [
    "#Python Scope, Private fields and methods\n",
    "name = \"Uttam Kumar\" #global variable\n",
    "\n",
    "def scopeTesting():\n",
    "    age = 25 #local variable\n",
    "    print(name)\n",
    "    print(age)\n",
    "\n",
    "scopeTesting()\n",
    "print(f\"Outside of the function {name}\")\n"
   ]
  },
  {
   "cell_type": "code",
   "execution_count": 20,
   "id": "9bd45d83",
   "metadata": {},
   "outputs": [
    {
     "name": "stdout",
     "output_type": "stream",
     "text": [
      "Outside of the function 30\n"
     ]
    }
   ],
   "source": [
    "print(f\"Outside of the function {age}\") #thie will given an error"
   ]
  },
  {
   "cell_type": "code",
   "execution_count": 21,
   "id": "b59ab1e3",
   "metadata": {},
   "outputs": [
    {
     "name": "stdout",
     "output_type": "stream",
     "text": [
      "This is outer function\n",
      "this is inner funtion\n"
     ]
    }
   ],
   "source": [
    "#we can define function inside a function but it is not call outside of the function\n",
    "def outerF():\n",
    "    print(\"This is outer function\")\n",
    "    def innerF():\n",
    "        print(\"this is inner funtion\")\n",
    "    innerF()\n",
    "\n",
    "outerF()\n"
   ]
  },
  {
   "cell_type": "code",
   "execution_count": 22,
   "id": "371200c8",
   "metadata": {},
   "outputs": [
    {
     "ename": "NameError",
     "evalue": "name 'innerF' is not defined",
     "output_type": "error",
     "traceback": [
      "\u001b[1;31m---------------------------------------------------------------------------\u001b[0m",
      "\u001b[1;31mNameError\u001b[0m                                 Traceback (most recent call last)",
      "Cell \u001b[1;32mIn[22], line 1\u001b[0m\n\u001b[1;32m----> 1\u001b[0m \u001b[43minnerF\u001b[49m()\n",
      "\u001b[1;31mNameError\u001b[0m: name 'innerF' is not defined"
     ]
    }
   ],
   "source": [
    "innerF()"
   ]
  },
  {
   "cell_type": "code",
   "execution_count": 23,
   "id": "bc1c5288",
   "metadata": {},
   "outputs": [
    {
     "name": "stdout",
     "output_type": "stream",
     "text": [
      "Outside of the function 30\n"
     ]
    }
   ],
   "source": [
    "name = \"Uttam Kumar\" #global variable\n",
    "\n",
    "def scopeTesting():\n",
    "    global age  #global variable\n",
    "    age = 30\n",
    "\n",
    "scopeTesting()\n",
    "print(f\"Outside of the function {age}\")"
   ]
  },
  {
   "cell_type": "code",
   "execution_count": 29,
   "id": "438c24b8",
   "metadata": {},
   "outputs": [
    {
     "name": "stdout",
     "output_type": "stream",
     "text": [
      "Uttam Kumar\n",
      "25\n"
     ]
    }
   ],
   "source": [
    "class Man: \n",
    "    def __init__(self, name, age, password):\n",
    "        self.name = name\n",
    "        self._age = age\n",
    "        #private variable use double underscore\n",
    "        self.__password = password\n",
    "    def getName(self):\n",
    "        return self.name\n",
    "    def _getAge(self):\n",
    "        return self._age\n",
    "    def getManInfo(self):\n",
    "        return f\"Name is {self.name} and Age is {self._age}.\"\n",
    "    def __getPassword(self):\n",
    "        return self.__password\n",
    "    def getPassword(self):\n",
    "        return self.__password\n",
    "    \n",
    "obj = Man(\"Uttam Kumar\", 25, \"pass1234\")\n",
    "print(obj.name)\n",
    "print(obj._age)"
   ]
  },
  {
   "cell_type": "code",
   "execution_count": 30,
   "id": "7dcee9f0",
   "metadata": {},
   "outputs": [
    {
     "ename": "AttributeError",
     "evalue": "'Man' object has no attribute '__password'",
     "output_type": "error",
     "traceback": [
      "\u001b[1;31m---------------------------------------------------------------------------\u001b[0m",
      "\u001b[1;31mAttributeError\u001b[0m                            Traceback (most recent call last)",
      "Cell \u001b[1;32mIn[30], line 1\u001b[0m\n\u001b[1;32m----> 1\u001b[0m \u001b[38;5;28mprint\u001b[39m(\u001b[43mobj\u001b[49m\u001b[38;5;241;43m.\u001b[39;49m\u001b[43m__password\u001b[49m) \n",
      "\u001b[1;31mAttributeError\u001b[0m: 'Man' object has no attribute '__password'"
     ]
    }
   ],
   "source": [
    "print(obj.__password) "
   ]
  },
  {
   "cell_type": "code",
   "execution_count": 31,
   "id": "468db0ab",
   "metadata": {},
   "outputs": [
    {
     "ename": "AttributeError",
     "evalue": "'Man' object has no attribute '__getPassword'",
     "output_type": "error",
     "traceback": [
      "\u001b[1;31m---------------------------------------------------------------------------\u001b[0m",
      "\u001b[1;31mAttributeError\u001b[0m                            Traceback (most recent call last)",
      "Cell \u001b[1;32mIn[31], line 1\u001b[0m\n\u001b[1;32m----> 1\u001b[0m \u001b[38;5;28mprint\u001b[39m(\u001b[43mobj\u001b[49m\u001b[38;5;241;43m.\u001b[39;49m\u001b[43m__getPassword\u001b[49m())\n",
      "\u001b[1;31mAttributeError\u001b[0m: 'Man' object has no attribute '__getPassword'"
     ]
    }
   ],
   "source": [
    "print(obj.__getPassword())"
   ]
  },
  {
   "cell_type": "code",
   "execution_count": 32,
   "id": "0a132d1f",
   "metadata": {},
   "outputs": [
    {
     "name": "stdout",
     "output_type": "stream",
     "text": [
      "pass1234\n"
     ]
    }
   ],
   "source": [
    "print(obj.getPassword())"
   ]
  },
  {
   "cell_type": "code",
   "execution_count": null,
   "id": "1b5a993e",
   "metadata": {},
   "outputs": [],
   "source": [
    "\n",
    "class Person:  #BaseClass\n",
    "    def __init__(self, name, age):\n",
    "        self.name = name\n",
    "        self.age = age\n",
    "\n",
    "    def getInfo(self):\n",
    "        return f\"Name {self.name}, Age: {self.age}\"\n",
    "    \n",
    "class Student(Person): #DerivedClass, InheritedClass, SubClass\n",
    "    def __init__(self, name, age, course):\n",
    "        super().__init__(name, age) #Person.__init__(name, age)\n",
    "        # self.name = name\n",
    "        # self.age = age\n",
    "        self.course = course\n",
    "    def getInfo(self):\n",
    "        return f\"Name {self.name}, Age: {self.age}, Course: {self.course}\"\n",
    "class Teacher(Person):\n",
    "    def __init__(self, name, age, salary):\n",
    "        super().__init__(name, age) #Person.__init__(name, age)\n",
    "        # self.name = name\n",
    "        # self.age = age\n",
    "        self.salary = salary\n",
    "    def getInfo(self):\n",
    "        return f\"Name {self.name}, Age: {self.age}, Salary: {self.salary}\"\n",
    "class Peon(Person):\n",
    "    def __init__(self, name, age, salary):\n",
    "        super().__init__(name, age) #Person.__init__(name, age)\n",
    "        # self.name = name\n",
    "        # self.age = age\n",
    "        self.salary = salary\n",
    "    def getInfo(self):\n",
    "        return f\"Name {self.name}, Age: {self.age}, Salary: {self.salary}\"\n",
    "student1 = Student(\"Uttam Kumar\", 25, \"AI and ML\")\n",
    "teacher1 = Teacher(\"Ravi\", 40, 50000)\n",
    "peon1 = Peon(\"Raj\", 50, 20000)"
   ]
  },
  {
   "cell_type": "code",
   "execution_count": 2,
   "id": "eae1d302",
   "metadata": {},
   "outputs": [
    {
     "name": "stdout",
     "output_type": "stream",
     "text": [
      "Uttam Kumar\n"
     ]
    }
   ],
   "source": [
    "print(student1.name)"
   ]
  },
  {
   "cell_type": "markdown",
   "id": "49b6234a",
   "metadata": {},
   "source": [
    "### Polymorphism"
   ]
  },
  {
   "cell_type": "code",
   "execution_count": 1,
   "id": "41d10c20",
   "metadata": {},
   "outputs": [
    {
     "data": {
      "text/plain": [
       "3"
      ]
     },
     "execution_count": 1,
     "metadata": {},
     "output_type": "execute_result"
    }
   ],
   "source": [
    "name = [\"Uttam\", \"Roton\", \"Udoy\"]\n",
    "len(name)"
   ]
  },
  {
   "cell_type": "code",
   "execution_count": 2,
   "id": "3e0bee9f",
   "metadata": {},
   "outputs": [
    {
     "data": {
      "text/plain": [
       "11"
      ]
     },
     "execution_count": 2,
     "metadata": {},
     "output_type": "execute_result"
    }
   ],
   "source": [
    "name = \"Uttam Kumar\"\n",
    "len(name)"
   ]
  },
  {
   "cell_type": "code",
   "execution_count": 4,
   "id": "8dbb95cb",
   "metadata": {},
   "outputs": [
    {
     "name": "stdout",
     "output_type": "stream",
     "text": [
      "60\n"
     ]
    }
   ],
   "source": [
    "def addition(a,b,c=0):\n",
    "    return a+b+c\n",
    "\n",
    "result = addition(10,20,30)\n",
    "print(result)"
   ]
  },
  {
   "cell_type": "code",
   "execution_count": 5,
   "id": "5971e0bb",
   "metadata": {},
   "outputs": [
    {
     "name": "stdout",
     "output_type": "stream",
     "text": [
      "47\n"
     ]
    }
   ],
   "source": [
    "print(addition(12, 35))"
   ]
  },
  {
   "cell_type": "code",
   "execution_count": 10,
   "id": "d46a4780",
   "metadata": {},
   "outputs": [],
   "source": [
    "from abc import abstractmethod, ABC\n",
    "class Person(ABC):  #BaseClass\n",
    "    def __init__(self, name, age):\n",
    "        self.name = name\n",
    "        self.age = age\n",
    "    @abstractmethod\n",
    "    def getInfo(self):\n",
    "        pass #this method can be overrided in the derived class\n",
    "    \n",
    "class Student(Person): #DerivedClass, InheritedClass, SubClass\n",
    "    def __init__(self, name, age, course):\n",
    "        super().__init__(name, age) #Person.__init__(name, age)\n",
    "        self.course = course\n",
    "    def getInfo(self):\n",
    "        return f\"Name {self.name}, Age: {self.age}, Course: {self.course}\"\n",
    "    \n",
    "class Teacher(Person):\n",
    "    def __init__(self, name, age, salary):\n",
    "        super().__init__(name, age) #Person.__init__(name, age)\n",
    "        self.salary = salary\n",
    "    def getInfo(self):\n",
    "        return f\"Name {self.name}, Age: {self.age}, Salary: {self.salary}\"\n",
    "\n",
    "class Peon(Person):\n",
    "    def __init__(self, name, age, salary):\n",
    "        super().__init__(name, age) #Person.__init__(name, age)\n",
    "        self.salary = salary\n",
    "    def getInfo(self):\n",
    "        return f\"Name {self.name}, Age: {self.age}, Salary: {self.salary}\"\n",
    "student1 = Student(\"Uttam Kumar\", 25, \"AI and ML\")\n",
    "teacher1 = Teacher(\"Ravi\", 40, 50000)\n",
    "peon1 = Peon(\"Raj\", 50, 20000)"
   ]
  },
  {
   "cell_type": "code",
   "execution_count": 11,
   "id": "d9d3a07d",
   "metadata": {},
   "outputs": [
    {
     "name": "stdout",
     "output_type": "stream",
     "text": [
      "Name Uttam Kumar, Age: 25, Course: AI and ML\n"
     ]
    }
   ],
   "source": [
    "print(student1.getInfo())"
   ]
  },
  {
   "cell_type": "code",
   "execution_count": 12,
   "id": "4cbd1f50",
   "metadata": {},
   "outputs": [
    {
     "data": {
      "text/plain": [
       "'Name Ravi, Age: 40, Salary: 50000'"
      ]
     },
     "execution_count": 12,
     "metadata": {},
     "output_type": "execute_result"
    }
   ],
   "source": [
    "teacher1.getInfo()"
   ]
  },
  {
   "cell_type": "code",
   "execution_count": 13,
   "id": "a7116b03",
   "metadata": {},
   "outputs": [
    {
     "data": {
      "text/plain": [
       "'Name Raj, Age: 50, Salary: 20000'"
      ]
     },
     "execution_count": 13,
     "metadata": {},
     "output_type": "execute_result"
    }
   ],
   "source": [
    "peon1.getInfo()"
   ]
  },
  {
   "cell_type": "markdown",
   "id": "ff525d5c",
   "metadata": {},
   "source": [
    "### Iterator"
   ]
  },
  {
   "cell_type": "code",
   "execution_count": 14,
   "id": "284d31d6",
   "metadata": {},
   "outputs": [
    {
     "name": "stdout",
     "output_type": "stream",
     "text": [
      "0\n",
      "1\n",
      "2\n"
     ]
    }
   ],
   "source": [
    "name = ['Uttam', \"Udoy\", \"Roton\"]\n",
    "\n",
    "for index in range(len(name)):\n",
    "    print(index)"
   ]
  },
  {
   "cell_type": "code",
   "execution_count": 15,
   "id": "cae32810",
   "metadata": {},
   "outputs": [],
   "source": [
    "class customIterator:\n",
    "    def __init__(self, limit):\n",
    "        self.limit = limit\n",
    "\n",
    "    def __iter__(self):\n",
    "        self.number_count = 0\n",
    "        return self\n",
    "    def __next__(self):\n",
    "        if self.number_count >= self.limit:\n",
    "            raise StopIteration\n",
    "        self.number_count += 1\n",
    "        return self.number_count"
   ]
  },
  {
   "cell_type": "code",
   "execution_count": 16,
   "id": "3bb1dc61",
   "metadata": {},
   "outputs": [
    {
     "name": "stdout",
     "output_type": "stream",
     "text": [
      "1\n",
      "2\n",
      "3\n",
      "4\n",
      "5\n",
      "6\n",
      "7\n",
      "8\n",
      "9\n",
      "10\n"
     ]
    }
   ],
   "source": [
    "for number in customIterator(10):\n",
    "    print(number)\n"
   ]
  },
  {
   "cell_type": "code",
   "execution_count": null,
   "id": "bf597d7c",
   "metadata": {},
   "outputs": [
    {
     "name": "stdout",
     "output_type": "stream",
     "text": [
      "30\n"
     ]
    }
   ],
   "source": [
    "#Lamda Functions\n",
    "# lambda arguments : expression\n",
    "x = lambda a : a*3\n",
    "print(x(10))"
   ]
  },
  {
   "cell_type": "code",
   "execution_count": 18,
   "id": "cd488815",
   "metadata": {},
   "outputs": [
    {
     "name": "stdout",
     "output_type": "stream",
     "text": [
      "14\n"
     ]
    }
   ],
   "source": [
    "cal2powargu = lambda a,b,c : 2**a + 2**b + 2**c\n",
    "\n",
    "print(cal2powargu(1,2,3))"
   ]
  },
  {
   "cell_type": "code",
   "execution_count": null,
   "id": "b2c792ff",
   "metadata": {},
   "outputs": [],
   "source": []
  }
 ],
 "metadata": {
  "kernelspec": {
   "display_name": "Python 3",
   "language": "python",
   "name": "python3"
  },
  "language_info": {
   "codemirror_mode": {
    "name": "ipython",
    "version": 3
   },
   "file_extension": ".py",
   "mimetype": "text/x-python",
   "name": "python",
   "nbconvert_exporter": "python",
   "pygments_lexer": "ipython3",
   "version": "3.10.6"
  }
 },
 "nbformat": 4,
 "nbformat_minor": 5
}
