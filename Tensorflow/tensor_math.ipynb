{
 "cells": [
  {
   "cell_type": "code",
   "execution_count": 1,
   "id": "7c080c2b",
   "metadata": {},
   "outputs": [],
   "source": [
    "import tensorflow as tf"
   ]
  },
  {
   "cell_type": "code",
   "execution_count": 2,
   "id": "d6d571bc",
   "metadata": {},
   "outputs": [],
   "source": [
    "range_vector = tf.range(11)"
   ]
  },
  {
   "cell_type": "code",
   "execution_count": 3,
   "id": "2a1808ae",
   "metadata": {},
   "outputs": [
    {
     "name": "stdout",
     "output_type": "stream",
     "text": [
      "tf.Tensor(0, shape=(), dtype=int32)\n",
      "tf.Tensor(1, shape=(), dtype=int32)\n",
      "tf.Tensor(2, shape=(), dtype=int32)\n",
      "tf.Tensor(3, shape=(), dtype=int32)\n",
      "tf.Tensor(4, shape=(), dtype=int32)\n",
      "tf.Tensor(5, shape=(), dtype=int32)\n",
      "tf.Tensor(6, shape=(), dtype=int32)\n",
      "tf.Tensor(7, shape=(), dtype=int32)\n",
      "tf.Tensor(8, shape=(), dtype=int32)\n",
      "tf.Tensor(9, shape=(), dtype=int32)\n",
      "tf.Tensor(10, shape=(), dtype=int32)\n"
     ]
    }
   ],
   "source": [
    "for i in range_vector:\n",
    "    print(i)"
   ]
  },
  {
   "cell_type": "code",
   "execution_count": 4,
   "id": "d5a90412",
   "metadata": {},
   "outputs": [
    {
     "name": "stdout",
     "output_type": "stream",
     "text": [
      "tf.Tensor(55, shape=(), dtype=int32)\n"
     ]
    }
   ],
   "source": [
    "sum_vector = 0\n",
    "for i in range_vector:\n",
    "    sum_vector += i\n",
    "\n",
    "print(sum_vector)"
   ]
  },
  {
   "cell_type": "code",
   "execution_count": 5,
   "id": "b4ca2ba3",
   "metadata": {},
   "outputs": [
    {
     "data": {
      "text/plain": [
       "<bound method _EagerTensorBase.consumers of <tf.Tensor: shape=(11,), dtype=int32, numpy=array([ 0,  1,  2,  3,  4,  5,  6,  7,  8,  9, 10], dtype=int32)>>"
      ]
     },
     "execution_count": 5,
     "metadata": {},
     "output_type": "execute_result"
    }
   ],
   "source": [
    "range_vector.consumers"
   ]
  },
  {
   "cell_type": "code",
   "execution_count": 8,
   "id": "9401de91",
   "metadata": {},
   "outputs": [
    {
     "data": {
      "text/plain": [
       "<tf.Tensor: shape=(), dtype=float64, numpy=5.0>"
      ]
     },
     "execution_count": 8,
     "metadata": {},
     "output_type": "execute_result"
    }
   ],
   "source": [
    "sum_vector/tf.size(range_vector)"
   ]
  },
  {
   "cell_type": "code",
   "execution_count": 11,
   "id": "96857d45",
   "metadata": {},
   "outputs": [
    {
     "name": "stdout",
     "output_type": "stream",
     "text": [
      "tf.Tensor([11 12 13 14 15 16 17 18 19 20 21], shape=(11,), dtype=int32)\n",
      "tf.Tensor([ 0  2  4  6  8 10 12 14 16 18 20], shape=(11,), dtype=int32)\n"
     ]
    }
   ],
   "source": [
    "print(tf.add(range_vector, 11))\n",
    "print(tf.multiply(range_vector, 2))\n"
   ]
  },
  {
   "cell_type": "code",
   "execution_count": 12,
   "id": "7a4a51c9",
   "metadata": {},
   "outputs": [],
   "source": [
    "sum = tf.reduce_sum(range_vector)"
   ]
  },
  {
   "cell_type": "code",
   "execution_count": 13,
   "id": "0217303a",
   "metadata": {},
   "outputs": [
    {
     "data": {
      "text/plain": [
       "<tf.Tensor: shape=(), dtype=int32, numpy=55>"
      ]
     },
     "execution_count": 13,
     "metadata": {},
     "output_type": "execute_result"
    }
   ],
   "source": [
    "sum"
   ]
  },
  {
   "cell_type": "code",
   "execution_count": 14,
   "id": "705f4c9b",
   "metadata": {},
   "outputs": [],
   "source": [
    "average = tf.reduce_mean(range_vector)"
   ]
  },
  {
   "cell_type": "code",
   "execution_count": 15,
   "id": "beee5b3e",
   "metadata": {},
   "outputs": [
    {
     "data": {
      "text/plain": [
       "<tf.Tensor: shape=(), dtype=int32, numpy=5>"
      ]
     },
     "execution_count": 15,
     "metadata": {},
     "output_type": "execute_result"
    }
   ],
   "source": [
    "average"
   ]
  },
  {
   "cell_type": "code",
   "execution_count": 16,
   "id": "e70e22bd",
   "metadata": {},
   "outputs": [
    {
     "name": "stdout",
     "output_type": "stream",
     "text": [
      "Index: 0, Value: 0\n",
      "Index: 1, Value: 1\n",
      "Index: 2, Value: 2\n",
      "Index: 3, Value: 3\n",
      "Index: 4, Value: 4\n",
      "Index: 5, Value: 5\n",
      "Index: 6, Value: 6\n",
      "Index: 7, Value: 7\n",
      "Index: 8, Value: 8\n",
      "Index: 9, Value: 9\n",
      "Index: 10, Value: 10\n"
     ]
    }
   ],
   "source": [
    "sum_of_square = 0\n",
    "\n",
    "for index, value in enumerate(range_vector):\n",
    "    print(f\"Index: {index}, Value: {value}\")"
   ]
  },
  {
   "cell_type": "code",
   "execution_count": null,
   "id": "0b39236f",
   "metadata": {},
   "outputs": [
    {
     "name": "stdout",
     "output_type": "stream",
     "text": [
      "tf.Tensor(25, shape=(), dtype=int32)\n",
      "tf.Tensor(41, shape=(), dtype=int32)\n",
      "tf.Tensor(50, shape=(), dtype=int32)\n",
      "tf.Tensor(54, shape=(), dtype=int32)\n",
      "tf.Tensor(55, shape=(), dtype=int32)\n",
      "tf.Tensor(55, shape=(), dtype=int32)\n",
      "tf.Tensor(56, shape=(), dtype=int32)\n",
      "tf.Tensor(60, shape=(), dtype=int32)\n",
      "tf.Tensor(69, shape=(), dtype=int32)\n",
      "tf.Tensor(85, shape=(), dtype=int32)\n",
      "tf.Tensor(110, shape=(), dtype=int32)\n"
     ]
    }
   ],
   "source": [
    "for index in range_vector:\n",
    "    sum_of_square += tf.math.square(range_vector[index] - average)\n",
    "    print(sum_of_square)"
   ]
  },
  {
   "cell_type": "code",
   "execution_count": 18,
   "id": "005b3538",
   "metadata": {},
   "outputs": [
    {
     "name": "stdout",
     "output_type": "stream",
     "text": [
      "tf.Tensor(3.1622776601683795, shape=(), dtype=float64)\n"
     ]
    }
   ],
   "source": [
    "standard_variance = tf.math.sqrt(sum_of_square / tf.size(range_vector))\n",
    "print(standard_variance)"
   ]
  },
  {
   "cell_type": "code",
   "execution_count": 20,
   "id": "56c767f6",
   "metadata": {},
   "outputs": [
    {
     "name": "stdout",
     "output_type": "stream",
     "text": [
      "tf.Tensor(5, shape=(), dtype=int32)\n",
      "tf.Tensor(3.1622777, shape=(), dtype=float32)\n"
     ]
    }
   ],
   "source": [
    "print(tf.math.reduce_mean(range_vector))\n",
    "print(tf.math.reduce_std(tf.cast(range_vector, tf.float32)))"
   ]
  },
  {
   "cell_type": "code",
   "execution_count": 21,
   "id": "f714e150",
   "metadata": {},
   "outputs": [
    {
     "name": "stdout",
     "output_type": "stream",
     "text": [
      "tf.Tensor(\n",
      "[[60.997337 56.23383  63.761208]\n",
      " [51.283005 54.37789  28.276302]], shape=(2, 3), dtype=float32)\n"
     ]
    }
   ],
   "source": [
    "random_normal = tf.random.normal((2,3), 50, 10)\n",
    "print(random_normal)"
   ]
  },
  {
   "cell_type": "code",
   "execution_count": 22,
   "id": "e5750cd0",
   "metadata": {},
   "outputs": [
    {
     "name": "stdout",
     "output_type": "stream",
     "text": [
      "tf.Tensor(52.488262, shape=(), dtype=float32)\n",
      "tf.Tensor(11.581272, shape=(), dtype=float32)\n"
     ]
    }
   ],
   "source": [
    "print(tf.math.reduce_mean(random_normal))\n",
    "print(tf.math.reduce_std(tf.cast(random_normal, tf.float32)))"
   ]
  },
  {
   "cell_type": "code",
   "execution_count": 27,
   "id": "1e8b327a",
   "metadata": {},
   "outputs": [
    {
     "name": "stdout",
     "output_type": "stream",
     "text": [
      "tf.Tensor(\n",
      "[[[[13.898455  18.902388  10.377203  16.591911  12.951417 ]\n",
      "   [14.30256   16.843033  12.2762165 10.58066   16.098251 ]\n",
      "   [14.846081  12.71454   11.164457  12.321258  15.846079 ]\n",
      "   [12.664623  11.621811  14.658574  11.16618   18.83236  ]]\n",
      "\n",
      "  [[16.977776  17.666029  10.908644  15.411754  17.439316 ]\n",
      "   [15.901298  19.773624  11.739653  19.401115  14.529538 ]\n",
      "   [19.9267    19.771994  15.911656  19.181965  13.200165 ]\n",
      "   [13.284706  19.469448  15.35356   18.179892  15.711361 ]]\n",
      "\n",
      "  [[10.594483  17.705378  18.390192  18.672562  11.460575 ]\n",
      "   [12.106046  10.75894   17.86127   10.140089  12.849847 ]\n",
      "   [18.683392  17.825089  18.34789   14.609201  19.136492 ]\n",
      "   [10.662714  19.062246  15.316795  11.42538   19.875175 ]]]\n",
      "\n",
      "\n",
      " [[[11.61286   12.083828  19.728367  15.898343  15.100813 ]\n",
      "   [12.275687  11.425971  12.286777  10.954859  13.719636 ]\n",
      "   [17.221577  14.25515   14.18544   14.820826  19.962555 ]\n",
      "   [18.129402  17.524     14.8328285 16.482193  18.145813 ]]\n",
      "\n",
      "  [[16.618328  14.351147  14.889467  13.035685  12.756356 ]\n",
      "   [19.709286  15.259561  11.703991  19.146753  17.378616 ]\n",
      "   [12.732771  19.515623  16.724482  16.296188  16.934135 ]\n",
      "   [19.957735  13.902044  15.189888  14.099784  10.025545 ]]\n",
      "\n",
      "  [[13.896528  19.533108  12.219887  19.88804   12.142445 ]\n",
      "   [11.360233  16.259586  14.193827  19.135956  12.458664 ]\n",
      "   [10.779195  17.188883  15.488614  17.3364    16.388098 ]\n",
      "   [16.078987  16.430344  11.538072  11.769862  13.1813   ]]]], shape=(2, 3, 4, 5), dtype=float32)\n"
     ]
    }
   ],
   "source": [
    "uniform_tensor = tf.random.uniform((2,3,4,5), 10, 20)\n",
    "print(uniform_tensor)"
   ]
  },
  {
   "cell_type": "code",
   "execution_count": 28,
   "id": "9b4e9577",
   "metadata": {},
   "outputs": [
    {
     "name": "stdout",
     "output_type": "stream",
     "text": [
      "tf.Tensor(15.183536, shape=(), dtype=float32)\n",
      "tf.Tensor(2.9531274, shape=(), dtype=float32)\n"
     ]
    }
   ],
   "source": [
    "print(tf.math.reduce_mean(uniform_tensor))\n",
    "print(tf.math.reduce_std(tf.cast(uniform_tensor, tf.float32)))"
   ]
  },
  {
   "cell_type": "code",
   "execution_count": 29,
   "id": "3afcfaac",
   "metadata": {},
   "outputs": [
    {
     "name": "stdout",
     "output_type": "stream",
     "text": [
      "tf.Tensor(\n",
      "[[ 1  2  3]\n",
      " [ 4  5  6]\n",
      " [ 7  8  9]\n",
      " [10 11 12]\n",
      " [13 14 15]], shape=(5, 3), dtype=int32)\n"
     ]
    }
   ],
   "source": [
    "matrix = tf.constant([\n",
    "    [1, 2, 3],\n",
    "    [4, 5, 6],\n",
    "    [7, 8, 9],\n",
    "    [10,11,12],\n",
    "    [13,14,15]\n",
    "])\n",
    "print(matrix)"
   ]
  },
  {
   "cell_type": "code",
   "execution_count": 31,
   "id": "4b82243e",
   "metadata": {},
   "outputs": [
    {
     "name": "stdout",
     "output_type": "stream",
     "text": [
      "tf.Tensor(\n",
      "[[10 11 12]\n",
      " [ 4  5  6]\n",
      " [13 14 15]\n",
      " [ 7  8  9]\n",
      " [ 1  2  3]], shape=(5, 3), dtype=int32)\n",
      "tf.Tensor(\n",
      "[[ 1  2  3]\n",
      " [ 4  5  6]\n",
      " [ 7  8  9]\n",
      " [10 11 12]\n",
      " [13 14 15]], shape=(5, 3), dtype=int32)\n"
     ]
    }
   ],
   "source": [
    "print(tf.random.shuffle(matrix))\n",
    "print(matrix)"
   ]
  },
  {
   "cell_type": "code",
   "execution_count": 32,
   "id": "ea0362b7",
   "metadata": {},
   "outputs": [
    {
     "name": "stdout",
     "output_type": "stream",
     "text": [
      "tf.Tensor(\n",
      "[[ 1  2  3  4  5]\n",
      " [ 6  7  8  9 10]\n",
      " [11 12 13 14 15]], shape=(3, 5), dtype=int32)\n"
     ]
    }
   ],
   "source": [
    "print(tf.reshape(matrix, (3,5)))"
   ]
  },
  {
   "cell_type": "code",
   "execution_count": 33,
   "id": "b951d6eb",
   "metadata": {},
   "outputs": [
    {
     "name": "stdout",
     "output_type": "stream",
     "text": [
      "tf.Tensor([ 1  2  3  4  5  6  7  8  9 10 11 12 13 14 15], shape=(15,), dtype=int32)\n"
     ]
    }
   ],
   "source": [
    "print(tf.reshape(matrix, -1))"
   ]
  },
  {
   "cell_type": "code",
   "execution_count": 34,
   "id": "b603048f",
   "metadata": {},
   "outputs": [
    {
     "name": "stdout",
     "output_type": "stream",
     "text": [
      "tf.Tensor(\n",
      "[[ 1.  2.  3.]\n",
      " [ 4.  5.  6.]\n",
      " [ 7.  8.  9.]\n",
      " [10. 11. 12.]\n",
      " [13. 14. 15.]], shape=(5, 3), dtype=float64)\n"
     ]
    }
   ],
   "source": [
    "print(tf.cast(matrix, tf.float64))"
   ]
  },
  {
   "cell_type": "code",
   "execution_count": 35,
   "id": "7a83f215",
   "metadata": {},
   "outputs": [
    {
     "name": "stdout",
     "output_type": "stream",
     "text": [
      "tf.Tensor(\n",
      "[[10.894517 16.036592 12.037297]\n",
      " [16.491737 12.9353   18.47668 ]], shape=(2, 3), dtype=float32)\n"
     ]
    }
   ],
   "source": [
    "tensor_2d = tf.random.uniform((2,3), 10, 20)\n",
    "print(tensor_2d)"
   ]
  },
  {
   "cell_type": "code",
   "execution_count": 36,
   "id": "919b6a5d",
   "metadata": {},
   "outputs": [
    {
     "data": {
      "text/plain": [
       "2"
      ]
     },
     "execution_count": 36,
     "metadata": {},
     "output_type": "execute_result"
    }
   ],
   "source": [
    "tensor_2d.ndim"
   ]
  },
  {
   "cell_type": "code",
   "execution_count": 37,
   "id": "47cdb9fa",
   "metadata": {},
   "outputs": [
    {
     "data": {
      "text/plain": [
       "<tf.Tensor: shape=(), dtype=float32, numpy=18.476680755615234>"
      ]
     },
     "execution_count": 37,
     "metadata": {},
     "output_type": "execute_result"
    }
   ],
   "source": [
    "tensor_2d[1,2]"
   ]
  },
  {
   "cell_type": "code",
   "execution_count": 39,
   "id": "eed4a7e8",
   "metadata": {},
   "outputs": [
    {
     "data": {
      "text/plain": [
       "<tf.Tensor: shape=(3,), dtype=float32, numpy=array([10.894517, 16.036592, 12.037297], dtype=float32)>"
      ]
     },
     "execution_count": 39,
     "metadata": {},
     "output_type": "execute_result"
    }
   ],
   "source": [
    "tensor_2d[0,0:]"
   ]
  },
  {
   "cell_type": "code",
   "execution_count": 40,
   "id": "65838522",
   "metadata": {},
   "outputs": [
    {
     "data": {
      "text/plain": [
       "<tf.Tensor: shape=(2,), dtype=float32, numpy=array([10.894517, 16.491737], dtype=float32)>"
      ]
     },
     "execution_count": 40,
     "metadata": {},
     "output_type": "execute_result"
    }
   ],
   "source": [
    "tensor_2d[0:,0]"
   ]
  },
  {
   "cell_type": "code",
   "execution_count": 41,
   "id": "6d0a5bf8",
   "metadata": {},
   "outputs": [
    {
     "data": {
      "text/plain": [
       "<tf.Tensor: shape=(), dtype=int32, numpy=300>"
      ]
     },
     "execution_count": 41,
     "metadata": {},
     "output_type": "execute_result"
    }
   ],
   "source": [
    "scalar_a = 100\n",
    "scalar_b = 200\n",
    "tf.add(scalar_a, scalar_b)"
   ]
  },
  {
   "cell_type": "code",
   "execution_count": 42,
   "id": "103144c4",
   "metadata": {},
   "outputs": [
    {
     "data": {
      "text/plain": [
       "<tf.Tensor: shape=(), dtype=int32, numpy=20000>"
      ]
     },
     "execution_count": 42,
     "metadata": {},
     "output_type": "execute_result"
    }
   ],
   "source": [
    "tf.multiply(scalar_a, scalar_b)"
   ]
  },
  {
   "cell_type": "code",
   "execution_count": 43,
   "id": "b57b8494",
   "metadata": {},
   "outputs": [],
   "source": [
    "vector_a = tf.range(10)\n",
    "vector_b = tf.range(20, 30)"
   ]
  },
  {
   "cell_type": "code",
   "execution_count": 44,
   "id": "d988d475",
   "metadata": {},
   "outputs": [
    {
     "data": {
      "text/plain": [
       "<tf.Tensor: shape=(10,), dtype=int32, numpy=array([0, 1, 2, 3, 4, 5, 6, 7, 8, 9], dtype=int32)>"
      ]
     },
     "execution_count": 44,
     "metadata": {},
     "output_type": "execute_result"
    }
   ],
   "source": [
    "vector_a"
   ]
  },
  {
   "cell_type": "code",
   "execution_count": 45,
   "id": "c833e4d4",
   "metadata": {},
   "outputs": [
    {
     "data": {
      "text/plain": [
       "<tf.Tensor: shape=(10,), dtype=int32, numpy=array([20, 21, 22, 23, 24, 25, 26, 27, 28, 29], dtype=int32)>"
      ]
     },
     "execution_count": 45,
     "metadata": {},
     "output_type": "execute_result"
    }
   ],
   "source": [
    "vector_b"
   ]
  },
  {
   "cell_type": "code",
   "execution_count": 46,
   "id": "59e90b92",
   "metadata": {},
   "outputs": [
    {
     "data": {
      "text/plain": [
       "<tf.Tensor: shape=(10,), dtype=int32, numpy=array([20, 22, 24, 26, 28, 30, 32, 34, 36, 38], dtype=int32)>"
      ]
     },
     "execution_count": 46,
     "metadata": {},
     "output_type": "execute_result"
    }
   ],
   "source": [
    "vector_a + vector_b"
   ]
  },
  {
   "cell_type": "code",
   "execution_count": 47,
   "id": "7c45016a",
   "metadata": {},
   "outputs": [
    {
     "data": {
      "text/plain": [
       "<tf.Tensor: shape=(10,), dtype=int32, numpy=array([20, 22, 24, 26, 28, 30, 32, 34, 36, 38], dtype=int32)>"
      ]
     },
     "execution_count": 47,
     "metadata": {},
     "output_type": "execute_result"
    }
   ],
   "source": [
    "tf.add(vector_a , vector_b)"
   ]
  },
  {
   "cell_type": "code",
   "execution_count": 48,
   "id": "b7774070",
   "metadata": {},
   "outputs": [
    {
     "data": {
      "text/plain": [
       "<tf.Tensor: shape=(10,), dtype=int32, numpy=array([  0,  21,  44,  69,  96, 125, 156, 189, 224, 261], dtype=int32)>"
      ]
     },
     "execution_count": 48,
     "metadata": {},
     "output_type": "execute_result"
    }
   ],
   "source": [
    "tf.multiply(vector_a , vector_b)"
   ]
  },
  {
   "cell_type": "code",
   "execution_count": 49,
   "id": "8036783b",
   "metadata": {},
   "outputs": [
    {
     "data": {
      "text/plain": [
       "<tf.Tensor: shape=(10,), dtype=int32, numpy=array([  0,  21,  44,  69,  96, 125, 156, 189, 224, 261], dtype=int32)>"
      ]
     },
     "execution_count": 49,
     "metadata": {},
     "output_type": "execute_result"
    }
   ],
   "source": [
    "vector_a * vector_b"
   ]
  },
  {
   "cell_type": "code",
   "execution_count": 50,
   "id": "59288bba",
   "metadata": {},
   "outputs": [],
   "source": [
    "tensor_a = tf.random.normal((2,3,4,5), 50, 10)\n",
    "tensor_b = tf.random.normal((2,3,4,5), 100, 50)"
   ]
  },
  {
   "cell_type": "code",
   "execution_count": 52,
   "id": "d6a3ab21",
   "metadata": {},
   "outputs": [
    {
     "name": "stdout",
     "output_type": "stream",
     "text": [
      "tf.Tensor(\n",
      "[[[[59.98208  56.263527 37.351215 62.852196 54.76448 ]\n",
      "   [59.467785 45.73865  43.344666 46.85186  62.917255]\n",
      "   [62.33086  47.750126 50.780365 60.53624  45.611755]\n",
      "   [61.982555 79.8418   48.222534 67.34451  51.87873 ]]\n",
      "\n",
      "  [[64.043846 47.13301  38.423264 50.909042 73.66613 ]\n",
      "   [38.280865 55.72748  53.49733  39.016193 41.39796 ]\n",
      "   [52.600105 45.850273 50.351513 33.42475  48.636795]\n",
      "   [50.700294 62.529106 54.578526 51.500572 39.532124]]\n",
      "\n",
      "  [[51.83207  53.903625 82.41806  34.55648  55.11888 ]\n",
      "   [46.48415  51.42568  44.70702  61.62363  64.58887 ]\n",
      "   [49.85373  48.521957 40.08443  41.12671  56.277607]\n",
      "   [55.466366 48.3982   61.839695 47.643787 43.73953 ]]]\n",
      "\n",
      "\n",
      " [[[59.65933  29.482271 53.312443 45.86061  56.68495 ]\n",
      "   [44.444885 48.57739  36.226616 33.209595 56.220467]\n",
      "   [57.17361  43.07244  50.52222  59.19875  40.38254 ]\n",
      "   [32.797386 76.36414  54.223675 37.225113 46.19421 ]]\n",
      "\n",
      "  [[71.80938  60.194607 42.34681  39.375317 43.787827]\n",
      "   [40.691032 42.70043  20.966452 59.423622 63.461956]\n",
      "   [45.313614 75.17095  44.435417 35.668846 42.6271  ]\n",
      "   [40.533848 47.38318  51.171318 34.239986 53.57797 ]]\n",
      "\n",
      "  [[43.273266 45.349068 43.0988   54.157917 47.986874]\n",
      "   [58.375225 37.723763 60.27166  64.68971  43.86222 ]\n",
      "   [45.940617 63.298866 47.66762  50.2896   49.58582 ]\n",
      "   [48.56471  56.92042  48.97464  55.696045 61.43019 ]]]], shape=(2, 3, 4, 5), dtype=float32)\n",
      "tf.Tensor(\n",
      "[[[[ 89.864876  45.96215  197.04337   87.76607  137.76692 ]\n",
      "   [132.83618   84.76724  -39.84668   56.3997   110.51128 ]\n",
      "   [106.170006 105.531624  62.175774 156.84047   86.27795 ]\n",
      "   [ 67.61253   93.94538  248.2564   104.584816  80.20855 ]]\n",
      "\n",
      "  [[109.6557    93.35208   98.12493   79.118935 155.68253 ]\n",
      "   [109.8567    82.75621  114.18504  106.86878  140.84492 ]\n",
      "   [ 25.08184  109.52172   68.4583    76.9251    74.44382 ]\n",
      "   [152.80022  218.04211  164.1152    62.434586 110.69273 ]]\n",
      "\n",
      "  [[ 93.637596  81.58607  107.13373   61.39743  152.64249 ]\n",
      "   [145.03023   80.51921  112.88242   54.249756 109.57761 ]\n",
      "   [125.03869  103.677826 173.78435   87.084564  93.95292 ]\n",
      "   [215.5877   -43.578827 152.03778  131.5651   133.22151 ]]]\n",
      "\n",
      "\n",
      " [[[100.30741  -12.533524  74.50968  235.44348   29.021545]\n",
      "   [ 68.868    203.0506   142.2399    82.93153   59.314068]\n",
      "   [ 59.545414  21.712051 102.33788   92.36549   85.50217 ]\n",
      "   [144.21979  211.31015  102.575264 121.51766   25.45655 ]]\n",
      "\n",
      "  [[ 94.69951  170.40222  199.83612   46.802986  73.55752 ]\n",
      "   [ 57.893726  14.189323  63.661064  75.26706  116.33609 ]\n",
      "   [106.10637  150.3319    77.72974  139.2473    32.39434 ]\n",
      "   [ 83.545    104.39446  208.9707   177.76517   25.213715]]\n",
      "\n",
      "  [[ 45.25125   45.398098  82.3383    25.656113  87.352036]\n",
      "   [101.28317   34.347298 137.28949  118.13658  108.411125]\n",
      "   [ 65.020004 105.77252   79.050835 171.77538  115.30971 ]\n",
      "   [115.95091   94.576096 101.87354  100.79478  215.17163 ]]]], shape=(2, 3, 4, 5), dtype=float32)\n",
      "tf.Tensor(\n",
      "[[[[149.84695   102.22568   234.39458   150.61826   192.5314   ]\n",
      "   [192.30397   130.50589     3.4979858 103.25156   173.42853  ]\n",
      "   [168.50087   153.28175   112.95614   217.37671   131.88971  ]\n",
      "   [129.5951    173.78717   296.47894   171.92932   132.08728  ]]\n",
      "\n",
      "  [[173.69955   140.48509   136.54819   130.02798   229.34866  ]\n",
      "   [148.13756   138.48369   167.68237   145.88498   182.24289  ]\n",
      "   [ 77.681946  155.372     118.809814  110.34985   123.08061  ]\n",
      "   [203.50052   280.57123   218.69373   113.93516   150.22485  ]]\n",
      "\n",
      "  [[145.46967   135.48969   189.55179    95.95391   207.76137  ]\n",
      "   [191.51437   131.94489   157.58945   115.87338   174.16647  ]\n",
      "   [174.89243   152.19978   213.86877   128.21127   150.23053  ]\n",
      "   [271.05408     4.819374  213.87747   179.20888   176.96104  ]]]\n",
      "\n",
      "\n",
      " [[[159.96674    16.948748  127.82213   281.30408    85.7065   ]\n",
      "   [113.31288   251.62799   178.46652   116.14113   115.53453  ]\n",
      "   [116.719025   64.78449   152.8601    151.56424   125.884705 ]\n",
      "   [177.01718   287.6743    156.79893   158.74277    71.65076  ]]\n",
      "\n",
      "  [[166.50888   230.59683   242.18292    86.1783    117.345345 ]\n",
      "   [ 98.58476    56.889755   84.62752   134.69067   179.79805  ]\n",
      "   [151.41998   225.50284   122.16515   174.91614    75.02144  ]\n",
      "   [124.07884   151.77765   260.14203   212.00516    78.79169  ]]\n",
      "\n",
      "  [[ 88.52452    90.74716   125.4371     79.814026  135.33891  ]\n",
      "   [159.6584     72.07106   197.56116   182.8263    152.27335  ]\n",
      "   [110.96062   169.07138   126.71846   222.06497   164.89552  ]\n",
      "   [164.51562   151.49652   150.84818   156.49081   276.6018   ]]]], shape=(2, 3, 4, 5), dtype=float32)\n",
      "tf.Tensor(\n",
      "[[[[ 5390.282    2585.9927   7359.809    5516.29     7544.734  ]\n",
      "   [ 7899.4736   3877.1394  -1727.141    2642.431    6953.0664 ]\n",
      "   [ 6617.668    5039.1484   3157.3086   9494.532    3935.2886 ]\n",
      "   [ 4190.7974   7500.768   11971.553    7043.2134   4161.1177 ]]\n",
      "\n",
      "  [[ 7022.773    4399.965    3770.28     4027.8691  11468.529  ]\n",
      "   [ 4205.409    4611.7954   6108.5947   4169.6133   5830.693  ]\n",
      "   [ 1319.3075   5021.6006   3446.9788   2571.2024   3620.7087 ]\n",
      "   [ 7747.016   13633.979    8957.166    3215.417    4375.919  ]]\n",
      "\n",
      "  [[ 4853.43     4397.7847   8829.754    2121.6792   8413.483  ]\n",
      "   [ 6741.607    4140.755    5046.6367   3343.067    7077.4937 ]\n",
      "   [ 6233.645    5030.651    6966.047    3581.5015   5287.4453 ]\n",
      "   [11957.866   -2109.1367   9401.97     6268.2593   5827.046  ]]]\n",
      "\n",
      "\n",
      " [[[ 5984.273    -369.51675  3972.2932  10797.582    1645.085  ]\n",
      "   [ 3060.83     9863.668    5152.87     2754.1226   3334.6646 ]\n",
      "   [ 3404.4263    935.19104  5170.337    5467.922    3452.795  ]\n",
      "   [ 4730.032   16136.519    5562.008    4523.509    1175.9452 ]]\n",
      "\n",
      "  [[ 6800.313   10257.295    8462.422    1842.8824   3220.9238 ]\n",
      "   [ 2355.7556    605.89026  1334.7466   4472.641    7382.916  ]\n",
      "   [ 4808.063   11300.592    3453.9534   4966.7905   1380.8768 ]\n",
      "   [ 3386.4001   4946.5415  10693.307    6086.677    1350.8997 ]]\n",
      "\n",
      "  [[ 1958.1694   2058.7615   3548.6821   1389.4816   4191.751  ]\n",
      "   [ 5912.428    1295.7094   8274.665    7642.2217   4755.153  ]\n",
      "   [ 2987.059    6695.281    3768.1653   8638.515    5717.7266 ]\n",
      "   [ 5631.122    5383.311    4989.22     5613.8706  13218.034  ]]]], shape=(2, 3, 4, 5), dtype=float32)\n"
     ]
    }
   ],
   "source": [
    "print(tensor_a)\n",
    "print(tensor_b)\n",
    "print(tf.add(tensor_a, tensor_b))\n",
    "print(tf.multiply(tensor_a, tensor_b))"
   ]
  },
  {
   "cell_type": "code",
   "execution_count": 54,
   "id": "2e907013",
   "metadata": {},
   "outputs": [
    {
     "name": "stdout",
     "output_type": "stream",
     "text": [
      "tf.Tensor(20.966452, shape=(), dtype=float32)\n"
     ]
    }
   ],
   "source": [
    "print(tf.reduce_min(tensor_a))"
   ]
  },
  {
   "cell_type": "code",
   "execution_count": 55,
   "id": "3dd9c46e",
   "metadata": {},
   "outputs": [
    {
     "name": "stdout",
     "output_type": "stream",
     "text": [
      "tf.Tensor(82.41806, shape=(), dtype=float32)\n"
     ]
    }
   ],
   "source": [
    "print(tf.reduce_max(tensor_a))"
   ]
  },
  {
   "cell_type": "code",
   "execution_count": 56,
   "id": "3c738929",
   "metadata": {},
   "outputs": [
    {
     "name": "stdout",
     "output_type": "stream",
     "text": [
      "tf.Tensor(50.66743, shape=(), dtype=float32)\n"
     ]
    }
   ],
   "source": [
    "print(tf.reduce_mean(tensor_a))"
   ]
  },
  {
   "cell_type": "code",
   "execution_count": 57,
   "id": "2e914dd2",
   "metadata": {},
   "outputs": [
    {
     "name": "stdout",
     "output_type": "stream",
     "text": [
      "tf.Tensor(10.603056, shape=(), dtype=float32)\n"
     ]
    }
   ],
   "source": [
    "print(tf.math.reduce_std(tensor_a))"
   ]
  },
  {
   "cell_type": "code",
   "execution_count": 58,
   "id": "7046bcd3",
   "metadata": {},
   "outputs": [
    {
     "name": "stdout",
     "output_type": "stream",
     "text": [
      "tf.Tensor(6080.092, shape=(), dtype=float32)\n"
     ]
    }
   ],
   "source": [
    "print(tf.reduce_sum(tensor_a))"
   ]
  },
  {
   "cell_type": "code",
   "execution_count": 59,
   "id": "55b9b9f1",
   "metadata": {},
   "outputs": [
    {
     "name": "stdout",
     "output_type": "stream",
     "text": [
      "tf.Tensor(\n",
      "[[[[3597.8499 3165.5845 1395.1133 3950.3984 2999.1484]\n",
      "   [3536.4175 2092.0242 1878.76   2195.0967 3958.581 ]\n",
      "   [3885.1362 2280.0745 2578.6455 3664.6362 2080.4321]\n",
      "   [3841.8372 6374.7124 2325.4128 4535.283  2691.4026]]\n",
      "\n",
      "  [[4101.6143 2221.5208 1476.3472 2591.7307 5426.6987]\n",
      "   [1465.4246 3105.5522 2861.9644 1522.2633 1713.7911]\n",
      "   [2766.771  2102.2476 2535.275  1117.214  2365.5378]\n",
      "   [2570.5198 3909.8892 2978.8154 2652.3088 1562.7888]]\n",
      "\n",
      "  [[2686.5635 2905.6008 6792.737  1194.1504 3038.091 ]\n",
      "   [2160.7761 2644.6003 1998.7177 3797.472  4171.7217]\n",
      "   [2485.3943 2354.3804 1606.7616 1691.4062 3167.169 ]\n",
      "   [3076.5178 2342.3857 3824.148  2269.9304 1913.1464]]]\n",
      "\n",
      "\n",
      " [[[3559.2354  869.2043 2842.2166 2103.1956 3213.1838]\n",
      "   [1975.3478 2359.7627 1312.3677 1102.8772 3160.741 ]\n",
      "   [3268.8218 1855.2352 2552.4949 3504.492  1630.7496]\n",
      "   [1075.6686 5831.4824 2940.2068 1385.709  2133.905 ]]\n",
      "\n",
      "  [[5156.587  3623.3906 1793.2523 1550.4155 1917.3738]\n",
      "   [1655.7601 1823.3269  439.5921 3531.1667 4027.42  ]\n",
      "   [2053.3235 5650.672  1974.5063 1272.2666 1817.0698]\n",
      "   [1642.9928 2245.1655 2618.504  1172.3767 2870.5986]]\n",
      "\n",
      "  [[1872.5756 2056.5378 1857.5066 2933.08   2302.74  ]\n",
      "   [3407.667  1423.0823 3632.673  4184.759  1923.8944]\n",
      "   [2110.5403 4006.7466 2272.2021 2529.044  2458.7534]\n",
      "   [2358.531  3239.9343 2398.5154 3102.0493 3773.6685]]]], shape=(2, 3, 4, 5), dtype=float32)\n"
     ]
    }
   ],
   "source": [
    "print(tf.square(tensor_a))"
   ]
  },
  {
   "cell_type": "code",
   "execution_count": 60,
   "id": "a976df5b",
   "metadata": {},
   "outputs": [
    {
     "name": "stdout",
     "output_type": "stream",
     "text": [
      "tf.Tensor(\n",
      "[[[[60. 56. 37. 63. 55.]\n",
      "   [59. 46. 43. 47. 63.]\n",
      "   [62. 48. 51. 61. 46.]\n",
      "   [62. 80. 48. 67. 52.]]\n",
      "\n",
      "  [[64. 47. 38. 51. 74.]\n",
      "   [38. 56. 53. 39. 41.]\n",
      "   [53. 46. 50. 33. 49.]\n",
      "   [51. 63. 55. 52. 40.]]\n",
      "\n",
      "  [[52. 54. 82. 35. 55.]\n",
      "   [46. 51. 45. 62. 65.]\n",
      "   [50. 49. 40. 41. 56.]\n",
      "   [55. 48. 62. 48. 44.]]]\n",
      "\n",
      "\n",
      " [[[60. 29. 53. 46. 57.]\n",
      "   [44. 49. 36. 33. 56.]\n",
      "   [57. 43. 51. 59. 40.]\n",
      "   [33. 76. 54. 37. 46.]]\n",
      "\n",
      "  [[72. 60. 42. 39. 44.]\n",
      "   [41. 43. 21. 59. 63.]\n",
      "   [45. 75. 44. 36. 43.]\n",
      "   [41. 47. 51. 34. 54.]]\n",
      "\n",
      "  [[43. 45. 43. 54. 48.]\n",
      "   [58. 38. 60. 65. 44.]\n",
      "   [46. 63. 48. 50. 50.]\n",
      "   [49. 57. 49. 56. 61.]]]], shape=(2, 3, 4, 5), dtype=float32)\n"
     ]
    }
   ],
   "source": [
    "print(tf.round(tensor_a))"
   ]
  },
  {
   "cell_type": "code",
   "execution_count": 62,
   "id": "6ba7521f",
   "metadata": {},
   "outputs": [
    {
     "name": "stdout",
     "output_type": "stream",
     "text": [
      "tf.Tensor(\n",
      "[[[[60. 57. 38. 63. 55.]\n",
      "   [60. 46. 44. 47. 63.]\n",
      "   [63. 48. 51. 61. 46.]\n",
      "   [62. 80. 49. 68. 52.]]\n",
      "\n",
      "  [[65. 48. 39. 51. 74.]\n",
      "   [39. 56. 54. 40. 42.]\n",
      "   [53. 46. 51. 34. 49.]\n",
      "   [51. 63. 55. 52. 40.]]\n",
      "\n",
      "  [[52. 54. 83. 35. 56.]\n",
      "   [47. 52. 45. 62. 65.]\n",
      "   [50. 49. 41. 42. 57.]\n",
      "   [56. 49. 62. 48. 44.]]]\n",
      "\n",
      "\n",
      " [[[60. 30. 54. 46. 57.]\n",
      "   [45. 49. 37. 34. 57.]\n",
      "   [58. 44. 51. 60. 41.]\n",
      "   [33. 77. 55. 38. 47.]]\n",
      "\n",
      "  [[72. 61. 43. 40. 44.]\n",
      "   [41. 43. 21. 60. 64.]\n",
      "   [46. 76. 45. 36. 43.]\n",
      "   [41. 48. 52. 35. 54.]]\n",
      "\n",
      "  [[44. 46. 44. 55. 48.]\n",
      "   [59. 38. 61. 65. 44.]\n",
      "   [46. 64. 48. 51. 50.]\n",
      "   [49. 57. 49. 56. 62.]]]], shape=(2, 3, 4, 5), dtype=float32)\n"
     ]
    }
   ],
   "source": [
    "print(tf.math.ceil(tensor_a))"
   ]
  },
  {
   "cell_type": "code",
   "execution_count": 63,
   "id": "dfb85482",
   "metadata": {},
   "outputs": [
    {
     "name": "stdout",
     "output_type": "stream",
     "text": [
      "tf.Tensor(\n",
      "[[[[59. 56. 37. 62. 54.]\n",
      "   [59. 45. 43. 46. 62.]\n",
      "   [62. 47. 50. 60. 45.]\n",
      "   [61. 79. 48. 67. 51.]]\n",
      "\n",
      "  [[64. 47. 38. 50. 73.]\n",
      "   [38. 55. 53. 39. 41.]\n",
      "   [52. 45. 50. 33. 48.]\n",
      "   [50. 62. 54. 51. 39.]]\n",
      "\n",
      "  [[51. 53. 82. 34. 55.]\n",
      "   [46. 51. 44. 61. 64.]\n",
      "   [49. 48. 40. 41. 56.]\n",
      "   [55. 48. 61. 47. 43.]]]\n",
      "\n",
      "\n",
      " [[[59. 29. 53. 45. 56.]\n",
      "   [44. 48. 36. 33. 56.]\n",
      "   [57. 43. 50. 59. 40.]\n",
      "   [32. 76. 54. 37. 46.]]\n",
      "\n",
      "  [[71. 60. 42. 39. 43.]\n",
      "   [40. 42. 20. 59. 63.]\n",
      "   [45. 75. 44. 35. 42.]\n",
      "   [40. 47. 51. 34. 53.]]\n",
      "\n",
      "  [[43. 45. 43. 54. 47.]\n",
      "   [58. 37. 60. 64. 43.]\n",
      "   [45. 63. 47. 50. 49.]\n",
      "   [48. 56. 48. 55. 61.]]]], shape=(2, 3, 4, 5), dtype=float32)\n"
     ]
    }
   ],
   "source": [
    "print(tf.math.floor(tensor_a))"
   ]
  },
  {
   "cell_type": "code",
   "execution_count": 64,
   "id": "97582148",
   "metadata": {},
   "outputs": [
    {
     "data": {
      "text/plain": [
       "<tf.Tensor: shape=(3, 4, 5), dtype=int64, numpy=\n",
       "array([[[0, 0, 1, 0, 1],\n",
       "        [0, 1, 0, 0, 0],\n",
       "        [0, 0, 0, 0, 0],\n",
       "        [0, 0, 1, 0, 0]],\n",
       "\n",
       "       [[1, 1, 1, 0, 0],\n",
       "        [1, 0, 0, 1, 1],\n",
       "        [0, 1, 0, 1, 0],\n",
       "        [0, 0, 0, 0, 1]],\n",
       "\n",
       "       [[0, 0, 0, 1, 0],\n",
       "        [1, 0, 1, 1, 0],\n",
       "        [0, 1, 1, 1, 0],\n",
       "        [0, 1, 0, 1, 1]]])>"
      ]
     },
     "execution_count": 64,
     "metadata": {},
     "output_type": "execute_result"
    }
   ],
   "source": [
    "tf.math.argmax(tensor_a)"
   ]
  },
  {
   "cell_type": "code",
   "execution_count": 66,
   "id": "371c1803",
   "metadata": {},
   "outputs": [],
   "source": [
    "matrix = tf.random.normal((2,3), 50, 10)"
   ]
  },
  {
   "cell_type": "code",
   "execution_count": 67,
   "id": "9c70fde4",
   "metadata": {},
   "outputs": [
    {
     "data": {
      "text/plain": [
       "<tf.Tensor: shape=(2, 3), dtype=float32, numpy=\n",
       "array([[32.1977  , 60.108585, 36.897503],\n",
       "       [48.94785 , 43.482323, 40.56325 ]], dtype=float32)>"
      ]
     },
     "execution_count": 67,
     "metadata": {},
     "output_type": "execute_result"
    }
   ],
   "source": [
    "matrix"
   ]
  },
  {
   "cell_type": "code",
   "execution_count": 68,
   "id": "c5b9ed60",
   "metadata": {},
   "outputs": [
    {
     "data": {
      "text/plain": [
       "<tf.Tensor: shape=(3,), dtype=int64, numpy=array([1, 0, 1])>"
      ]
     },
     "execution_count": 68,
     "metadata": {},
     "output_type": "execute_result"
    }
   ],
   "source": [
    "tf.math.argmax(matrix)"
   ]
  },
  {
   "cell_type": "code",
   "execution_count": 70,
   "id": "650e24b9",
   "metadata": {},
   "outputs": [
    {
     "data": {
      "text/plain": [
       "<tf.Tensor: shape=(), dtype=float32, numpy=60.108585357666016>"
      ]
     },
     "execution_count": 70,
     "metadata": {},
     "output_type": "execute_result"
    }
   ],
   "source": [
    "matrix[0, 1]"
   ]
  },
  {
   "cell_type": "code",
   "execution_count": 71,
   "id": "89c4375c",
   "metadata": {},
   "outputs": [
    {
     "data": {
      "text/plain": [
       "<tf.Tensor: shape=(2,), dtype=int64, numpy=array([1, 0])>"
      ]
     },
     "execution_count": 71,
     "metadata": {},
     "output_type": "execute_result"
    }
   ],
   "source": [
    "tf.math.argmax(matrix, axis=1)"
   ]
  },
  {
   "cell_type": "code",
   "execution_count": 72,
   "id": "45b93566",
   "metadata": {},
   "outputs": [
    {
     "data": {
      "text/plain": [
       "<tf.Tensor: shape=(3,), dtype=int64, numpy=array([0, 1, 0])>"
      ]
     },
     "execution_count": 72,
     "metadata": {},
     "output_type": "execute_result"
    }
   ],
   "source": [
    "tf.math.argmin(matrix)"
   ]
  },
  {
   "cell_type": "code",
   "execution_count": 73,
   "id": "f997183d",
   "metadata": {},
   "outputs": [
    {
     "data": {
      "text/plain": [
       "<tf.Tensor: shape=(2,), dtype=int64, numpy=array([0, 2])>"
      ]
     },
     "execution_count": 73,
     "metadata": {},
     "output_type": "execute_result"
    }
   ],
   "source": [
    "tf.math.argmin(matrix, axis=1)"
   ]
  },
  {
   "cell_type": "code",
   "execution_count": 74,
   "id": "2193cd0c",
   "metadata": {},
   "outputs": [
    {
     "data": {
      "text/plain": [
       "<tf.Tensor: shape=(2, 3, 4, 5), dtype=bool, numpy=\n",
       "array([[[[False, False, False, False, False],\n",
       "         [False, False, False, False, False],\n",
       "         [False, False, False, False, False],\n",
       "         [False, False, False, False, False]],\n",
       "\n",
       "        [[False, False, False, False, False],\n",
       "         [False, False, False, False, False],\n",
       "         [False, False, False, False, False],\n",
       "         [False, False, False, False, False]],\n",
       "\n",
       "        [[False, False, False, False, False],\n",
       "         [False, False, False, False, False],\n",
       "         [False, False, False, False, False],\n",
       "         [False, False, False, False, False]]],\n",
       "\n",
       "\n",
       "       [[[False, False, False, False, False],\n",
       "         [False, False, False, False, False],\n",
       "         [False, False, False, False, False],\n",
       "         [False, False, False, False, False]],\n",
       "\n",
       "        [[False, False, False, False, False],\n",
       "         [False, False, False, False, False],\n",
       "         [False, False, False, False, False],\n",
       "         [False, False, False, False, False]],\n",
       "\n",
       "        [[False, False, False, False, False],\n",
       "         [False, False, False, False, False],\n",
       "         [False, False, False, False, False],\n",
       "         [False, False, False, False, False]]]])>"
      ]
     },
     "execution_count": 74,
     "metadata": {},
     "output_type": "execute_result"
    }
   ],
   "source": [
    "tf.math.equal(tensor_a, tensor_b)"
   ]
  },
  {
   "cell_type": "code",
   "execution_count": 75,
   "id": "fa018c18",
   "metadata": {},
   "outputs": [
    {
     "data": {
      "text/plain": [
       "<tf.Tensor: shape=(2, 3, 4, 5), dtype=bool, numpy=\n",
       "array([[[[False, False, False, False, False],\n",
       "         [False, False, False, False, False],\n",
       "         [False, False, False, False, False],\n",
       "         [False, False, False, False, False]],\n",
       "\n",
       "        [[False, False, False, False, False],\n",
       "         [False, False, False, False, False],\n",
       "         [False, False, False, False, False],\n",
       "         [False, False, False, False, False]],\n",
       "\n",
       "        [[False, False, False, False, False],\n",
       "         [False, False, False, False, False],\n",
       "         [False, False, False, False, False],\n",
       "         [False, False, False, False, False]]],\n",
       "\n",
       "\n",
       "       [[[False, False, False, False, False],\n",
       "         [False, False, False, False, False],\n",
       "         [False, False, False, False, False],\n",
       "         [False, False, False, False, False]],\n",
       "\n",
       "        [[False, False, False, False, False],\n",
       "         [False, False, False, False, False],\n",
       "         [False, False, False, False, False],\n",
       "         [False, False, False, False, False]],\n",
       "\n",
       "        [[False,  True, False, False, False],\n",
       "         [False, False, False, False, False],\n",
       "         [False, False, False, False, False],\n",
       "         [False, False, False, False, False]]]])>"
      ]
     },
     "execution_count": 75,
     "metadata": {},
     "output_type": "execute_result"
    }
   ],
   "source": [
    "tf.math.equal(tf.math.floor(tensor_a), tf.math.floor(tensor_b))"
   ]
  },
  {
   "cell_type": "code",
   "execution_count": 76,
   "id": "419b9912",
   "metadata": {},
   "outputs": [
    {
     "data": {
      "text/plain": [
       "<tf.Tensor: shape=(2, 3, 4, 5), dtype=bool, numpy=\n",
       "array([[[[ True,  True,  True,  True,  True],\n",
       "         [ True,  True,  True,  True,  True],\n",
       "         [ True,  True,  True,  True,  True],\n",
       "         [ True,  True,  True,  True,  True]],\n",
       "\n",
       "        [[ True,  True,  True,  True,  True],\n",
       "         [ True,  True,  True,  True,  True],\n",
       "         [ True,  True,  True,  True,  True],\n",
       "         [ True,  True,  True,  True,  True]],\n",
       "\n",
       "        [[ True,  True,  True,  True,  True],\n",
       "         [ True,  True,  True,  True,  True],\n",
       "         [ True,  True,  True,  True,  True],\n",
       "         [ True,  True,  True,  True,  True]]],\n",
       "\n",
       "\n",
       "       [[[ True,  True,  True,  True,  True],\n",
       "         [ True,  True,  True,  True,  True],\n",
       "         [ True,  True,  True,  True,  True],\n",
       "         [ True,  True,  True,  True,  True]],\n",
       "\n",
       "        [[ True,  True,  True,  True,  True],\n",
       "         [ True,  True,  True,  True,  True],\n",
       "         [ True,  True,  True,  True,  True],\n",
       "         [ True,  True,  True,  True,  True]],\n",
       "\n",
       "        [[ True, False,  True,  True,  True],\n",
       "         [ True,  True,  True,  True,  True],\n",
       "         [ True,  True,  True,  True,  True],\n",
       "         [ True,  True,  True,  True,  True]]]])>"
      ]
     },
     "execution_count": 76,
     "metadata": {},
     "output_type": "execute_result"
    }
   ],
   "source": [
    "tf.math.not_equal(tf.math.floor(tensor_a), tf.math.floor(tensor_b))"
   ]
  },
  {
   "cell_type": "code",
   "execution_count": 77,
   "id": "166aa2d4",
   "metadata": {},
   "outputs": [
    {
     "data": {
      "text/plain": [
       "<tf.Tensor: shape=(2, 3, 4, 5), dtype=bool, numpy=\n",
       "array([[[[False,  True, False, False, False],\n",
       "         [False, False,  True, False, False],\n",
       "         [False, False, False, False, False],\n",
       "         [False, False, False, False, False]],\n",
       "\n",
       "        [[False, False, False, False, False],\n",
       "         [False, False, False, False, False],\n",
       "         [ True, False, False, False, False],\n",
       "         [False, False, False, False, False]],\n",
       "\n",
       "        [[False, False, False, False, False],\n",
       "         [False, False, False,  True, False],\n",
       "         [False, False, False, False, False],\n",
       "         [False,  True, False, False, False]]],\n",
       "\n",
       "\n",
       "       [[[False,  True, False, False,  True],\n",
       "         [False, False, False, False, False],\n",
       "         [False,  True, False, False, False],\n",
       "         [False, False, False, False,  True]],\n",
       "\n",
       "        [[False, False, False, False, False],\n",
       "         [False,  True, False, False, False],\n",
       "         [False, False, False, False,  True],\n",
       "         [False, False, False, False,  True]],\n",
       "\n",
       "        [[False, False, False,  True, False],\n",
       "         [False,  True, False, False, False],\n",
       "         [False, False, False, False, False],\n",
       "         [False, False, False, False, False]]]])>"
      ]
     },
     "execution_count": 77,
     "metadata": {},
     "output_type": "execute_result"
    }
   ],
   "source": [
    "tf.math.greater(tensor_a ,tensor_b)"
   ]
  },
  {
   "cell_type": "code",
   "execution_count": 78,
   "id": "68f4bf11",
   "metadata": {},
   "outputs": [
    {
     "data": {
      "text/plain": [
       "<tf.Tensor: shape=(2, 3, 4, 5), dtype=bool, numpy=\n",
       "array([[[[False,  True, False, False, False],\n",
       "         [False, False,  True, False, False],\n",
       "         [False, False, False, False, False],\n",
       "         [False, False, False, False, False]],\n",
       "\n",
       "        [[False, False, False, False, False],\n",
       "         [False, False, False, False, False],\n",
       "         [ True, False, False, False, False],\n",
       "         [False, False, False, False, False]],\n",
       "\n",
       "        [[False, False, False, False, False],\n",
       "         [False, False, False,  True, False],\n",
       "         [False, False, False, False, False],\n",
       "         [False,  True, False, False, False]]],\n",
       "\n",
       "\n",
       "       [[[False,  True, False, False,  True],\n",
       "         [False, False, False, False, False],\n",
       "         [False,  True, False, False, False],\n",
       "         [False, False, False, False,  True]],\n",
       "\n",
       "        [[False, False, False, False, False],\n",
       "         [False,  True, False, False, False],\n",
       "         [False, False, False, False,  True],\n",
       "         [False, False, False, False,  True]],\n",
       "\n",
       "        [[False, False, False,  True, False],\n",
       "         [False,  True, False, False, False],\n",
       "         [False, False, False, False, False],\n",
       "         [False, False, False, False, False]]]])>"
      ]
     },
     "execution_count": 78,
     "metadata": {},
     "output_type": "execute_result"
    }
   ],
   "source": [
    "tf.math.greater_equal(tensor_a ,tensor_b)"
   ]
  },
  {
   "cell_type": "code",
   "execution_count": 79,
   "id": "44c9818e",
   "metadata": {},
   "outputs": [
    {
     "data": {
      "text/plain": [
       "<tf.Tensor: shape=(), dtype=float32, numpy=inf>"
      ]
     },
     "execution_count": 79,
     "metadata": {},
     "output_type": "execute_result"
    }
   ],
   "source": [
    "tf.math.reduce_prod(tensor_a)"
   ]
  },
  {
   "cell_type": "code",
   "execution_count": 80,
   "id": "da98f596",
   "metadata": {},
   "outputs": [
    {
     "data": {
      "text/plain": [
       "<tf.Tensor: shape=(), dtype=float32, numpy=6165062656.0>"
      ]
     },
     "execution_count": 80,
     "metadata": {},
     "output_type": "execute_result"
    }
   ],
   "source": [
    "tf.math.reduce_prod(matrix)"
   ]
  },
  {
   "cell_type": "code",
   "execution_count": 81,
   "id": "746dfc22",
   "metadata": {},
   "outputs": [
    {
     "data": {
      "text/plain": [
       "<tf.Tensor: shape=(), dtype=float32, numpy=112.42478942871094>"
      ]
     },
     "execution_count": 81,
     "metadata": {},
     "output_type": "execute_result"
    }
   ],
   "source": [
    "tf.math.reduce_variance(tensor_a)"
   ]
  },
  {
   "cell_type": "code",
   "execution_count": 84,
   "id": "1d40a2fa",
   "metadata": {},
   "outputs": [
    {
     "name": "stdout",
     "output_type": "stream",
     "text": [
      "tf.Tensor(80.87417, shape=(), dtype=float32)\n"
     ]
    }
   ],
   "source": [
    "print(tf.math.reduce_variance(tf.cast(matrix, tf.float32)))"
   ]
  },
  {
   "cell_type": "code",
   "execution_count": 85,
   "id": "1ed3d671",
   "metadata": {},
   "outputs": [
    {
     "name": "stdout",
     "output_type": "stream",
     "text": [
      "tf.Tensor(112.42479, shape=(), dtype=float32)\n"
     ]
    }
   ],
   "source": [
    "print(tf.math.reduce_variance(tf.cast(tensor_a, tf.float32)))"
   ]
  },
  {
   "cell_type": "code",
   "execution_count": 89,
   "id": "5c5853fc",
   "metadata": {},
   "outputs": [
    {
     "ename": "InvalidArgumentError",
     "evalue": "{{function_node __wrapped____MklBatchMatMulV2_device_/job:localhost/replica:0/task:0/device:CPU:0}} Matrix size-incompatible: In[0]: [2,3,4,5], In[1]: [2,3,4,5] 0 0 [Op:BatchMatMulV2] name: ",
     "output_type": "error",
     "traceback": [
      "\u001b[1;31m---------------------------------------------------------------------------\u001b[0m",
      "\u001b[1;31mInvalidArgumentError\u001b[0m                      Traceback (most recent call last)",
      "Cell \u001b[1;32mIn[89], line 1\u001b[0m\n\u001b[1;32m----> 1\u001b[0m \u001b[43mtensor_a\u001b[49m\u001b[43m \u001b[49m\u001b[38;5;241;43m@\u001b[39;49m\u001b[43m \u001b[49m\u001b[43mtensor_b\u001b[49m\n",
      "File \u001b[1;32md:\\laragon\\bin\\python\\python-3.10\\lib\\site-packages\\tensorflow\\python\\util\\traceback_utils.py:153\u001b[0m, in \u001b[0;36mfilter_traceback.<locals>.error_handler\u001b[1;34m(*args, **kwargs)\u001b[0m\n\u001b[0;32m    151\u001b[0m \u001b[38;5;28;01mexcept\u001b[39;00m \u001b[38;5;167;01mException\u001b[39;00m \u001b[38;5;28;01mas\u001b[39;00m e:\n\u001b[0;32m    152\u001b[0m   filtered_tb \u001b[38;5;241m=\u001b[39m _process_traceback_frames(e\u001b[38;5;241m.\u001b[39m__traceback__)\n\u001b[1;32m--> 153\u001b[0m   \u001b[38;5;28;01mraise\u001b[39;00m e\u001b[38;5;241m.\u001b[39mwith_traceback(filtered_tb) \u001b[38;5;28;01mfrom\u001b[39;00m\u001b[38;5;250m \u001b[39m\u001b[38;5;28;01mNone\u001b[39;00m\n\u001b[0;32m    154\u001b[0m \u001b[38;5;28;01mfinally\u001b[39;00m:\n\u001b[0;32m    155\u001b[0m   \u001b[38;5;28;01mdel\u001b[39;00m filtered_tb\n",
      "File \u001b[1;32md:\\laragon\\bin\\python\\python-3.10\\lib\\site-packages\\tensorflow\\python\\framework\\ops.py:6006\u001b[0m, in \u001b[0;36mraise_from_not_ok_status\u001b[1;34m(e, name)\u001b[0m\n\u001b[0;32m   6004\u001b[0m \u001b[38;5;28;01mdef\u001b[39;00m\u001b[38;5;250m \u001b[39m\u001b[38;5;21mraise_from_not_ok_status\u001b[39m(e, name) \u001b[38;5;241m-\u001b[39m\u001b[38;5;241m>\u001b[39m NoReturn:\n\u001b[0;32m   6005\u001b[0m   e\u001b[38;5;241m.\u001b[39mmessage \u001b[38;5;241m+\u001b[39m\u001b[38;5;241m=\u001b[39m (\u001b[38;5;124m\"\u001b[39m\u001b[38;5;124m name: \u001b[39m\u001b[38;5;124m\"\u001b[39m \u001b[38;5;241m+\u001b[39m \u001b[38;5;28mstr\u001b[39m(name \u001b[38;5;28;01mif\u001b[39;00m name \u001b[38;5;129;01mis\u001b[39;00m \u001b[38;5;129;01mnot\u001b[39;00m \u001b[38;5;28;01mNone\u001b[39;00m \u001b[38;5;28;01melse\u001b[39;00m \u001b[38;5;124m\"\u001b[39m\u001b[38;5;124m\"\u001b[39m))\n\u001b[1;32m-> 6006\u001b[0m   \u001b[38;5;28;01mraise\u001b[39;00m core\u001b[38;5;241m.\u001b[39m_status_to_exception(e) \u001b[38;5;28;01mfrom\u001b[39;00m\u001b[38;5;250m \u001b[39m\u001b[38;5;28;01mNone\u001b[39;00m\n",
      "\u001b[1;31mInvalidArgumentError\u001b[0m: {{function_node __wrapped____MklBatchMatMulV2_device_/job:localhost/replica:0/task:0/device:CPU:0}} Matrix size-incompatible: In[0]: [2,3,4,5], In[1]: [2,3,4,5] 0 0 [Op:BatchMatMulV2] name: "
     ]
    }
   ],
   "source": [
    "tensor_a @ tensor_b"
   ]
  },
  {
   "cell_type": "code",
   "execution_count": 90,
   "id": "ab79e993",
   "metadata": {},
   "outputs": [
    {
     "data": {
      "text/plain": [
       "<tf.Tensor: shape=(2, 3, 4, 24), dtype=float32, numpy=\n",
       "array([[[[28325.094 , 30280.232 , 36254.79  , 26006.686 , 36526.883 ,\n",
       "          28078.22  , 22151.83  , 14829.499 , 16342.815 , 32892.44  ,\n",
       "          29912.037 , 30363.33  , 30836.797 , 27749.    , 15923.564 ,\n",
       "          28871.42  , 21047.287 , 38772.727 , 32869.016 , 29377.027 ,\n",
       "          28328.07  , 30305.865 , 20196.154 , 28942.602 ],\n",
       "         [26179.145 , 29982.928 , 36113.082 , 23279.146 , 33360.71  ,\n",
       "          25778.348 , 21134.316 , 14791.258 , 14529.044 , 31036.457 ,\n",
       "          26945.03  , 29869.732 , 28897.336 , 25823.46  , 15971.705 ,\n",
       "          28926.479 , 19627.574 , 37738.152 , 32146.99  , 28082.043 ,\n",
       "          26689.535 , 27689.475 , 19958.555 , 28261.465 ],\n",
       "         [26746.803 , 28797.902 , 35867.17  , 26068.248 , 37370.87  ,\n",
       "          27707.553 , 22364.057 , 16404.885 , 14288.417 , 33217.195 ,\n",
       "          30517.262 , 29734.434 , 29221.967 , 25425.557 , 15967.3125,\n",
       "          30134.117 , 19962.66  , 37744.445 , 33628.254 , 29543.45  ,\n",
       "          27354.172 , 28832.057 , 19543.209 , 26296.104 ],\n",
       "         [32923.836 , 33965.562 , 39830.67  , 30576.78  , 42030.22  ,\n",
       "          32941.35  , 24242.473 , 19716.162 , 17769.354 , 37053.355 ,\n",
       "          34108.58  , 35439.57  , 37182.24  , 31743.283 , 18254.393 ,\n",
       "          34156.953 , 23868.541 , 41968.617 , 37955.6   , 32872.195 ,\n",
       "          33124.32  , 34888.562 , 22792.95  , 31752.867 ]],\n",
       "\n",
       "        [[28077.791 , 32428.1   , 38772.465 , 24185.89  , 34628.617 ,\n",
       "          27058.168 , 22472.873 , 14079.692 , 16420.205 , 32681.219 ,\n",
       "          28067.154 , 31575.672 , 30560.502 , 28231.875 , 16843.344 ,\n",
       "          29626.73  , 21200.291 , 40967.41  , 33445.605 , 29690.938 ,\n",
       "          28327.975 , 29686.953 , 21441.666 , 31325.875 ],\n",
       "         [23332.67  , 25998.328 , 29539.105 , 21940.197 , 30644.19  ,\n",
       "          23474.293 , 17818.736 , 18166.7   , 10953.697 , 27492.287 ,\n",
       "          24469.98  , 27191.588 , 27657.805 , 21225.998 , 14013.494 ,\n",
       "          28215.07  , 16576.25  , 29384.451 , 29750.008 , 24766.94  ,\n",
       "          24088.688 , 24479.17  , 16865.562 , 22648.205 ],\n",
       "         [23094.576 , 26222.932 , 31958.6   , 21119.08  , 30160.686 ,\n",
       "          23466.385 , 18405.816 , 15879.539 , 11325.033 , 27617.016 ,\n",
       "          23972.34  , 27506.51  , 26522.8   , 22351.322 , 14789.186 ,\n",
       "          27758.945 , 17056.688 , 32509.771 , 29792.06  , 24860.348 ,\n",
       "          24140.305 , 24155.668 , 17836.518 , 23688.318 ],\n",
       "         [26649.13  , 28198.05  , 33420.1   , 25672.39  , 35823.598 ,\n",
       "          27372.057 , 20507.117 , 18919.783 , 13091.94  , 31490.762 ,\n",
       "          28867.88  , 30013.705 , 30719.383 , 24797.057 , 15646.062 ,\n",
       "          30659.645 , 19203.432 , 34228.91  , 33106.637 , 27994.93  ,\n",
       "          27372.375 , 28237.455 , 18912.617 , 25063.61  ]],\n",
       "\n",
       "        [[26811.438 , 32045.217 , 37732.344 , 25622.49  , 37020.664 ,\n",
       "          27701.502 , 22226.7   , 23900.43  , 11109.01  , 33876.344 ,\n",
       "          29157.96  , 33870.855 , 32296.547 , 23918.887 , 18052.521 ,\n",
       "          36906.    , 19266.848 , 36429.625 , 37953.188 , 30776.08  ,\n",
       "          28645.717 , 27971.89  , 21009.043 , 26722.176 ],\n",
       "         [27657.87  , 31873.934 , 35755.9   , 25102.773 , 35613.586 ,\n",
       "          26564.385 , 22237.035 , 16644.098 , 15671.623 , 32932.67  ,\n",
       "          29178.51  , 30470.883 , 30750.787 , 25739.768 , 15626.369 ,\n",
       "          30116.088 , 20223.85  , 37078.316 , 33435.133 , 29998.088 ,\n",
       "          27553.168 , 29610.246 , 19870.584 , 29499.55  ],\n",
       "         [24292.582 , 27573.264 , 32371.564 , 21422.066 , 30256.848 ,\n",
       "          23720.666 , 18840.455 , 14460.222 , 13197.276 , 28044.361 ,\n",
       "          24330.43  , 27666.598 , 27373.91  , 23761.97  , 14560.134 ,\n",
       "          26750.178 , 17934.598 , 33547.383 , 29404.607 , 25387.52  ,\n",
       "          24716.805 , 25528.652 , 18190.45  , 25837.24  ],\n",
       "         [25315.95  , 28183.387 , 34515.895 , 24779.834 , 35607.344 ,\n",
       "          26442.629 , 21116.668 , 18757.414 , 12079.224 , 31803.352 ,\n",
       "          28651.04  , 29721.938 , 28876.287 , 23367.31  , 15934.879 ,\n",
       "          31326.799 , 18581.037 , 35033.34  , 33641.508 , 28450.494 ,\n",
       "          26438.338 , 26955.236 , 18973.994 , 24586.318 ]]],\n",
       "\n",
       "\n",
       "       [[[23454.213 , 27904.178 , 34859.227 , 22173.062 , 32890.562 ,\n",
       "          23997.59  , 21045.703 , 14966.999 , 12354.304 , 30522.443 ,\n",
       "          26654.441 , 27831.87  , 25555.334 , 22327.615 , 15296.679 ,\n",
       "          28764.504 , 17845.363 , 35959.996 , 31625.559 , 27645.465 ,\n",
       "          24389.29  , 25167.982 , 18601.64  , 25234.154 ],\n",
       "         [22789.676 , 26164.81  , 30140.912 , 19410.469 , 27171.633 ,\n",
       "          21859.332 , 17054.129 , 13647.111 , 12309.395 , 25509.473 ,\n",
       "          21668.656 , 26211.928 , 26073.617 , 22506.549 , 13693.433 ,\n",
       "          24972.254 , 16719.277 , 31012.584 , 27214.889 , 23211.533 ,\n",
       "          23191.422 , 23694.686 , 17172.225 , 24658.062 ],\n",
       "         [24858.332 , 26802.41  , 33387.652 , 24729.99  , 35596.36  ,\n",
       "          25966.584 , 21192.219 , 15874.214 , 13105.131 , 31490.637 ,\n",
       "          29140.64  , 27660.525 , 27139.344 , 23207.908 , 14852.09  ,\n",
       "          28568.605 , 18518.62  , 35010.867 , 31790.434 , 27998.479 ,\n",
       "          25454.707 , 26937.94  , 18074.736 , 24117.514 ],\n",
       "         [26409.477 , 28929.803 , 30956.72  , 23753.26  , 32058.955 ,\n",
       "          25749.73  , 18117.031 , 20879.41  , 12274.876 , 28764.785 ,\n",
       "          25326.447 , 30437.605 , 32324.254 , 24159.928 , 15169.391 ,\n",
       "          30692.95  , 18258.889 , 30372.338 , 31897.895 , 25984.346 ,\n",
       "          27012.05  , 27242.506 , 18457.81  , 25442.025 ]],\n",
       "\n",
       "        [[26722.486 , 27340.85  , 35576.656 , 24348.93  , 33986.953 ,\n",
       "          27731.56  , 19965.693 , 14986.488 , 13879.203 , 30149.148 ,\n",
       "          27049.086 , 30271.906 , 29906.756 , 27637.385 , 16514.832 ,\n",
       "          28626.822 , 20036.736 , 37756.96  , 31784.723 , 26475.531 ,\n",
       "          27776.363 , 27889.08  , 20103.793 , 26107.34  ],\n",
       "         [24148.193 , 27609.012 , 30535.416 , 20790.973 , 29241.41  ,\n",
       "          22221.682 , 18936.502 , 10716.239 , 15475.387 , 27522.791 ,\n",
       "          24312.135 , 25105.871 , 25811.812 , 23447.246 , 12708.404 ,\n",
       "          22909.768 , 17918.941 , 32843.8   , 26710.576 , 25159.47  ,\n",
       "          23339.65  , 25974.725 , 17001.088 , 27114.543 ],\n",
       "         [26285.824 , 27412.258 , 31333.133 , 23386.305 , 31464.445 ,\n",
       "          26070.305 , 17745.611 , 18008.637 , 12866.692 , 27941.52  ,\n",
       "          24845.158 , 29709.572 , 31324.574 , 25573.027 , 15191.434 ,\n",
       "          28626.168 , 18639.812 , 31914.336 , 30515.107 , 24875.146 ,\n",
       "          26932.309 , 27077.191 , 18597.084 , 25187.525 ],\n",
       "         [22892.625 , 27034.432 , 30758.463 , 20562.262 , 29200.506 ,\n",
       "          22458.787 , 18004.377 , 16852.488 , 11222.537 , 27165.494 ,\n",
       "          23245.867 , 27293.107 , 26832.742 , 21283.02  , 14237.767 ,\n",
       "          27880.354 , 16542.412 , 30639.383 , 29517.068 , 24798.746 ,\n",
       "          23649.83  , 23917.094 , 17349.215 , 24055.795 ]],\n",
       "\n",
       "        [[23838.875 , 26723.668 , 30829.658 , 22465.07  , 31913.506 ,\n",
       "          23622.457 , 19387.152 , 15143.813 , 12987.403 , 28912.205 ,\n",
       "          26111.506 , 26360.578 , 26554.414 , 22027.006 , 13664.728 ,\n",
       "          26616.402 , 17432.205 , 31954.328 , 29415.23  , 26091.355 ,\n",
       "          23989.697 , 25602.938 , 17055.23  , 24328.648 ],\n",
       "         [25587.717 , 28572.7   , 35488.902 , 26115.154 , 38202.35  ,\n",
       "          26943.1   , 23029.67  , 17571.453 , 13205.819 , 33982.37  ,\n",
       "          31369.537 , 29003.607 , 27840.734 , 23091.506 , 15652.409 ,\n",
       "          31070.848 , 19101.973 , 36780.742 , 34306.574 , 30382.162 ,\n",
       "          26334.479 , 27971.76  , 18871.117 , 25027.965 ],\n",
       "         [26891.947 , 29295.646 , 33365.465 , 24704.885 , 34248.18  ,\n",
       "          26578.584 , 20154.309 , 17930.953 , 13940.894 , 30785.176 ,\n",
       "          27613.938 , 30031.936 , 30996.705 , 25283.318 , 15405.046 ,\n",
       "          29782.223 , 19331.4   , 34220.246 , 32318.848 , 27661.107 ,\n",
       "          27251.527 , 28350.436 , 19070.174 , 26685.97  ],\n",
       "         [27995.426 , 31833.254 , 36085.88  , 25420.732 , 35833.586 ,\n",
       "          27234.889 , 21971.787 , 17851.1   , 15141.893 , 32904.13  ,\n",
       "          29076.885 , 31387.502 , 31697.133 , 26228.762 , 16177.432 ,\n",
       "          31158.316 , 20361.826 , 37104.85  , 34114.76  , 29852.    ,\n",
       "          28214.48  , 29707.318 , 20260.89  , 29202.203 ]]]],\n",
       "      dtype=float32)>"
      ]
     },
     "execution_count": 90,
     "metadata": {},
     "output_type": "execute_result"
    }
   ],
   "source": [
    "tensor_a @ tf.reshape(tensor_b, (5,-1))"
   ]
  },
  {
   "cell_type": "code",
   "execution_count": 92,
   "id": "e1170d3b",
   "metadata": {},
   "outputs": [
    {
     "data": {
      "text/plain": [
       "<tf.Tensor: shape=(2, 3, 4, 24), dtype=float32, numpy=\n",
       "array([[[[28325.094 , 30280.232 , 36254.79  , 26006.686 , 36526.883 ,\n",
       "          28078.22  , 22151.83  , 14829.499 , 16342.815 , 32892.44  ,\n",
       "          29912.037 , 30363.33  , 30836.797 , 27749.    , 15923.564 ,\n",
       "          28871.42  , 21047.287 , 38772.727 , 32869.016 , 29377.027 ,\n",
       "          28328.07  , 30305.865 , 20196.154 , 28942.602 ],\n",
       "         [26179.145 , 29982.928 , 36113.082 , 23279.146 , 33360.71  ,\n",
       "          25778.348 , 21134.316 , 14791.258 , 14529.044 , 31036.457 ,\n",
       "          26945.03  , 29869.732 , 28897.336 , 25823.46  , 15971.705 ,\n",
       "          28926.479 , 19627.574 , 37738.152 , 32146.99  , 28082.043 ,\n",
       "          26689.535 , 27689.475 , 19958.555 , 28261.465 ],\n",
       "         [26746.803 , 28797.902 , 35867.17  , 26068.248 , 37370.87  ,\n",
       "          27707.553 , 22364.057 , 16404.885 , 14288.417 , 33217.195 ,\n",
       "          30517.262 , 29734.434 , 29221.967 , 25425.557 , 15967.3125,\n",
       "          30134.117 , 19962.66  , 37744.445 , 33628.254 , 29543.45  ,\n",
       "          27354.172 , 28832.057 , 19543.209 , 26296.104 ],\n",
       "         [32923.836 , 33965.562 , 39830.67  , 30576.78  , 42030.22  ,\n",
       "          32941.35  , 24242.473 , 19716.162 , 17769.354 , 37053.355 ,\n",
       "          34108.58  , 35439.57  , 37182.24  , 31743.283 , 18254.393 ,\n",
       "          34156.953 , 23868.541 , 41968.617 , 37955.6   , 32872.195 ,\n",
       "          33124.32  , 34888.562 , 22792.95  , 31752.867 ]],\n",
       "\n",
       "        [[28077.791 , 32428.1   , 38772.465 , 24185.89  , 34628.617 ,\n",
       "          27058.168 , 22472.873 , 14079.692 , 16420.205 , 32681.219 ,\n",
       "          28067.154 , 31575.672 , 30560.502 , 28231.875 , 16843.344 ,\n",
       "          29626.73  , 21200.291 , 40967.41  , 33445.605 , 29690.938 ,\n",
       "          28327.975 , 29686.953 , 21441.666 , 31325.875 ],\n",
       "         [23332.67  , 25998.328 , 29539.105 , 21940.197 , 30644.19  ,\n",
       "          23474.293 , 17818.736 , 18166.7   , 10953.697 , 27492.287 ,\n",
       "          24469.98  , 27191.588 , 27657.805 , 21225.998 , 14013.494 ,\n",
       "          28215.07  , 16576.25  , 29384.451 , 29750.008 , 24766.94  ,\n",
       "          24088.688 , 24479.17  , 16865.562 , 22648.205 ],\n",
       "         [23094.576 , 26222.932 , 31958.6   , 21119.08  , 30160.686 ,\n",
       "          23466.385 , 18405.816 , 15879.539 , 11325.033 , 27617.016 ,\n",
       "          23972.34  , 27506.51  , 26522.8   , 22351.322 , 14789.186 ,\n",
       "          27758.945 , 17056.688 , 32509.771 , 29792.06  , 24860.348 ,\n",
       "          24140.305 , 24155.668 , 17836.518 , 23688.318 ],\n",
       "         [26649.13  , 28198.05  , 33420.1   , 25672.39  , 35823.598 ,\n",
       "          27372.057 , 20507.117 , 18919.783 , 13091.94  , 31490.762 ,\n",
       "          28867.88  , 30013.705 , 30719.383 , 24797.057 , 15646.062 ,\n",
       "          30659.645 , 19203.432 , 34228.91  , 33106.637 , 27994.93  ,\n",
       "          27372.375 , 28237.455 , 18912.617 , 25063.61  ]],\n",
       "\n",
       "        [[26811.438 , 32045.217 , 37732.344 , 25622.49  , 37020.664 ,\n",
       "          27701.502 , 22226.7   , 23900.43  , 11109.01  , 33876.344 ,\n",
       "          29157.96  , 33870.855 , 32296.547 , 23918.887 , 18052.521 ,\n",
       "          36906.    , 19266.848 , 36429.625 , 37953.188 , 30776.08  ,\n",
       "          28645.717 , 27971.89  , 21009.043 , 26722.176 ],\n",
       "         [27657.87  , 31873.934 , 35755.9   , 25102.773 , 35613.586 ,\n",
       "          26564.385 , 22237.035 , 16644.098 , 15671.623 , 32932.67  ,\n",
       "          29178.51  , 30470.883 , 30750.787 , 25739.768 , 15626.369 ,\n",
       "          30116.088 , 20223.85  , 37078.316 , 33435.133 , 29998.088 ,\n",
       "          27553.168 , 29610.246 , 19870.584 , 29499.55  ],\n",
       "         [24292.582 , 27573.264 , 32371.564 , 21422.066 , 30256.848 ,\n",
       "          23720.666 , 18840.455 , 14460.222 , 13197.276 , 28044.361 ,\n",
       "          24330.43  , 27666.598 , 27373.91  , 23761.97  , 14560.134 ,\n",
       "          26750.178 , 17934.598 , 33547.383 , 29404.607 , 25387.52  ,\n",
       "          24716.805 , 25528.652 , 18190.45  , 25837.24  ],\n",
       "         [25315.95  , 28183.387 , 34515.895 , 24779.834 , 35607.344 ,\n",
       "          26442.629 , 21116.668 , 18757.414 , 12079.224 , 31803.352 ,\n",
       "          28651.04  , 29721.938 , 28876.287 , 23367.31  , 15934.879 ,\n",
       "          31326.799 , 18581.037 , 35033.34  , 33641.508 , 28450.494 ,\n",
       "          26438.338 , 26955.236 , 18973.994 , 24586.318 ]]],\n",
       "\n",
       "\n",
       "       [[[23454.213 , 27904.178 , 34859.227 , 22173.062 , 32890.562 ,\n",
       "          23997.59  , 21045.703 , 14966.999 , 12354.304 , 30522.443 ,\n",
       "          26654.441 , 27831.87  , 25555.334 , 22327.615 , 15296.679 ,\n",
       "          28764.504 , 17845.363 , 35959.996 , 31625.559 , 27645.465 ,\n",
       "          24389.29  , 25167.982 , 18601.64  , 25234.154 ],\n",
       "         [22789.676 , 26164.81  , 30140.912 , 19410.469 , 27171.633 ,\n",
       "          21859.332 , 17054.129 , 13647.111 , 12309.395 , 25509.473 ,\n",
       "          21668.656 , 26211.928 , 26073.617 , 22506.549 , 13693.433 ,\n",
       "          24972.254 , 16719.277 , 31012.584 , 27214.889 , 23211.533 ,\n",
       "          23191.422 , 23694.686 , 17172.225 , 24658.062 ],\n",
       "         [24858.332 , 26802.41  , 33387.652 , 24729.99  , 35596.36  ,\n",
       "          25966.584 , 21192.219 , 15874.214 , 13105.131 , 31490.637 ,\n",
       "          29140.64  , 27660.525 , 27139.344 , 23207.908 , 14852.09  ,\n",
       "          28568.605 , 18518.62  , 35010.867 , 31790.434 , 27998.479 ,\n",
       "          25454.707 , 26937.94  , 18074.736 , 24117.514 ],\n",
       "         [26409.477 , 28929.803 , 30956.72  , 23753.26  , 32058.955 ,\n",
       "          25749.73  , 18117.031 , 20879.41  , 12274.876 , 28764.785 ,\n",
       "          25326.447 , 30437.605 , 32324.254 , 24159.928 , 15169.391 ,\n",
       "          30692.95  , 18258.889 , 30372.338 , 31897.895 , 25984.346 ,\n",
       "          27012.05  , 27242.506 , 18457.81  , 25442.025 ]],\n",
       "\n",
       "        [[26722.486 , 27340.85  , 35576.656 , 24348.93  , 33986.953 ,\n",
       "          27731.56  , 19965.693 , 14986.488 , 13879.203 , 30149.148 ,\n",
       "          27049.086 , 30271.906 , 29906.756 , 27637.385 , 16514.832 ,\n",
       "          28626.822 , 20036.736 , 37756.96  , 31784.723 , 26475.531 ,\n",
       "          27776.363 , 27889.08  , 20103.793 , 26107.34  ],\n",
       "         [24148.193 , 27609.012 , 30535.416 , 20790.973 , 29241.41  ,\n",
       "          22221.682 , 18936.502 , 10716.239 , 15475.387 , 27522.791 ,\n",
       "          24312.135 , 25105.871 , 25811.812 , 23447.246 , 12708.404 ,\n",
       "          22909.768 , 17918.941 , 32843.8   , 26710.576 , 25159.47  ,\n",
       "          23339.65  , 25974.725 , 17001.088 , 27114.543 ],\n",
       "         [26285.824 , 27412.258 , 31333.133 , 23386.305 , 31464.445 ,\n",
       "          26070.305 , 17745.611 , 18008.637 , 12866.692 , 27941.52  ,\n",
       "          24845.158 , 29709.572 , 31324.574 , 25573.027 , 15191.434 ,\n",
       "          28626.168 , 18639.812 , 31914.336 , 30515.107 , 24875.146 ,\n",
       "          26932.309 , 27077.191 , 18597.084 , 25187.525 ],\n",
       "         [22892.625 , 27034.432 , 30758.463 , 20562.262 , 29200.506 ,\n",
       "          22458.787 , 18004.377 , 16852.488 , 11222.537 , 27165.494 ,\n",
       "          23245.867 , 27293.107 , 26832.742 , 21283.02  , 14237.767 ,\n",
       "          27880.354 , 16542.412 , 30639.383 , 29517.068 , 24798.746 ,\n",
       "          23649.83  , 23917.094 , 17349.215 , 24055.795 ]],\n",
       "\n",
       "        [[23838.875 , 26723.668 , 30829.658 , 22465.07  , 31913.506 ,\n",
       "          23622.457 , 19387.152 , 15143.813 , 12987.403 , 28912.205 ,\n",
       "          26111.506 , 26360.578 , 26554.414 , 22027.006 , 13664.728 ,\n",
       "          26616.402 , 17432.205 , 31954.328 , 29415.23  , 26091.355 ,\n",
       "          23989.697 , 25602.938 , 17055.23  , 24328.648 ],\n",
       "         [25587.717 , 28572.7   , 35488.902 , 26115.154 , 38202.35  ,\n",
       "          26943.1   , 23029.67  , 17571.453 , 13205.819 , 33982.37  ,\n",
       "          31369.537 , 29003.607 , 27840.734 , 23091.506 , 15652.409 ,\n",
       "          31070.848 , 19101.973 , 36780.742 , 34306.574 , 30382.162 ,\n",
       "          26334.479 , 27971.76  , 18871.117 , 25027.965 ],\n",
       "         [26891.947 , 29295.646 , 33365.465 , 24704.885 , 34248.18  ,\n",
       "          26578.584 , 20154.309 , 17930.953 , 13940.894 , 30785.176 ,\n",
       "          27613.938 , 30031.936 , 30996.705 , 25283.318 , 15405.046 ,\n",
       "          29782.223 , 19331.4   , 34220.246 , 32318.848 , 27661.107 ,\n",
       "          27251.527 , 28350.436 , 19070.174 , 26685.97  ],\n",
       "         [27995.426 , 31833.254 , 36085.88  , 25420.732 , 35833.586 ,\n",
       "          27234.889 , 21971.787 , 17851.1   , 15141.893 , 32904.13  ,\n",
       "          29076.885 , 31387.502 , 31697.133 , 26228.762 , 16177.432 ,\n",
       "          31158.316 , 20361.826 , 37104.85  , 34114.76  , 29852.    ,\n",
       "          28214.48  , 29707.318 , 20260.89  , 29202.203 ]]]],\n",
       "      dtype=float32)>"
      ]
     },
     "execution_count": 92,
     "metadata": {},
     "output_type": "execute_result"
    }
   ],
   "source": [
    "tf.linalg.matmul(tensor_a , tf.reshape(tensor_b, (5,-1)))"
   ]
  },
  {
   "cell_type": "code",
   "execution_count": 93,
   "id": "afe1b0c2",
   "metadata": {},
   "outputs": [
    {
     "data": {
      "text/plain": [
       "<tf.Tensor: shape=(3, 2), dtype=float32, numpy=\n",
       "array([[32.1977  , 48.94785 ],\n",
       "       [60.108585, 43.482323],\n",
       "       [36.897503, 40.56325 ]], dtype=float32)>"
      ]
     },
     "execution_count": 93,
     "metadata": {},
     "output_type": "execute_result"
    }
   ],
   "source": [
    "tf.transpose(matrix)"
   ]
  },
  {
   "cell_type": "code",
   "execution_count": 97,
   "id": "c340d1fd",
   "metadata": {},
   "outputs": [
    {
     "data": {
      "text/plain": [
       "[<tf.Tensor: shape=(1, 3), dtype=float32, numpy=array([[32.1977  , 60.108585, 36.897503]], dtype=float32)>,\n",
       " <tf.Tensor: shape=(1, 3), dtype=float32, numpy=array([[48.94785 , 43.482323, 40.56325 ]], dtype=float32)>]"
      ]
     },
     "execution_count": 97,
     "metadata": {},
     "output_type": "execute_result"
    }
   ],
   "source": [
    "tf.split(matrix, num_or_size_splits=2)"
   ]
  },
  {
   "cell_type": "code",
   "execution_count": 99,
   "id": "0f72b00d",
   "metadata": {},
   "outputs": [
    {
     "data": {
      "text/plain": [
       "[<tf.Tensor: shape=(2, 1), dtype=float32, numpy=\n",
       " array([[32.1977 ],\n",
       "        [48.94785]], dtype=float32)>,\n",
       " <tf.Tensor: shape=(2, 1), dtype=float32, numpy=\n",
       " array([[60.108585],\n",
       "        [43.482323]], dtype=float32)>,\n",
       " <tf.Tensor: shape=(2, 1), dtype=float32, numpy=\n",
       " array([[36.897503],\n",
       "        [40.56325 ]], dtype=float32)>]"
      ]
     },
     "execution_count": 99,
     "metadata": {},
     "output_type": "execute_result"
    }
   ],
   "source": [
    "tf.split(matrix, num_or_size_splits=3, axis=1)"
   ]
  },
  {
   "cell_type": "code",
   "execution_count": 100,
   "id": "9ba23c43",
   "metadata": {},
   "outputs": [
    {
     "data": {
      "text/plain": [
       "<tf.Tensor: shape=(2, 3), dtype=float32, numpy=\n",
       "array([[32.1977  , 60.108585, 36.897503],\n",
       "       [48.94785 , 43.482323, 40.56325 ]], dtype=float32)>"
      ]
     },
     "execution_count": 100,
     "metadata": {},
     "output_type": "execute_result"
    }
   ],
   "source": [
    "matrix"
   ]
  },
  {
   "cell_type": "code",
   "execution_count": 103,
   "id": "dcafc44e",
   "metadata": {},
   "outputs": [
    {
     "data": {
      "text/plain": [
       "<tf.Tensor: shape=(2, 3), dtype=float32, numpy=\n",
       "array([[40.56325 , 43.482323, 48.94785 ],\n",
       "       [36.897503, 60.108585, 32.1977  ]], dtype=float32)>"
      ]
     },
     "execution_count": 103,
     "metadata": {},
     "output_type": "execute_result"
    }
   ],
   "source": [
    "tf.reverse(matrix, axis=[0,1])"
   ]
  },
  {
   "cell_type": "code",
   "execution_count": null,
   "id": "b79fa38c",
   "metadata": {},
   "outputs": [],
   "source": []
  }
 ],
 "metadata": {
  "kernelspec": {
   "display_name": "Python 3",
   "language": "python",
   "name": "python3"
  },
  "language_info": {
   "codemirror_mode": {
    "name": "ipython",
    "version": 3
   },
   "file_extension": ".py",
   "mimetype": "text/x-python",
   "name": "python",
   "nbconvert_exporter": "python",
   "pygments_lexer": "ipython3",
   "version": "3.10.6"
  }
 },
 "nbformat": 4,
 "nbformat_minor": 5
}
