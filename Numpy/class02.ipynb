{
 "cells": [
  {
   "cell_type": "code",
   "execution_count": 15,
   "id": "942f13e0",
   "metadata": {},
   "outputs": [],
   "source": [
    "import numpy as np"
   ]
  },
  {
   "cell_type": "code",
   "execution_count": 16,
   "id": "8ddacf1f",
   "metadata": {},
   "outputs": [],
   "source": [
    "ar1 = np.array([12,23,34,45,55], dtype=float)\n",
    "ar2 = np.eye(3,6, dtype=int)\n",
    "ar3 = np.arange(10,21,3)\n",
    "ar4 = np.random.normal(50,5, size=(3,6))"
   ]
  },
  {
   "cell_type": "code",
   "execution_count": 17,
   "id": "1cee44b5",
   "metadata": {},
   "outputs": [
    {
     "data": {
      "text/plain": [
       "1"
      ]
     },
     "execution_count": 17,
     "metadata": {},
     "output_type": "execute_result"
    }
   ],
   "source": [
    "ar1.ndim"
   ]
  },
  {
   "cell_type": "code",
   "execution_count": 18,
   "id": "90c0618c",
   "metadata": {},
   "outputs": [
    {
     "data": {
      "text/plain": [
       "2"
      ]
     },
     "execution_count": 18,
     "metadata": {},
     "output_type": "execute_result"
    }
   ],
   "source": [
    "ar2.ndim"
   ]
  },
  {
   "cell_type": "code",
   "execution_count": 19,
   "id": "42bda8eb",
   "metadata": {},
   "outputs": [
    {
     "data": {
      "text/plain": [
       "4"
      ]
     },
     "execution_count": 19,
     "metadata": {},
     "output_type": "execute_result"
    }
   ],
   "source": [
    "ar3.size"
   ]
  },
  {
   "cell_type": "code",
   "execution_count": 20,
   "id": "5e7bea0d",
   "metadata": {},
   "outputs": [
    {
     "data": {
      "text/plain": [
       "18"
      ]
     },
     "execution_count": 20,
     "metadata": {},
     "output_type": "execute_result"
    }
   ],
   "source": [
    "ar4.size"
   ]
  },
  {
   "cell_type": "code",
   "execution_count": 21,
   "id": "fd220c02",
   "metadata": {},
   "outputs": [
    {
     "data": {
      "text/plain": [
       "(3, 6)"
      ]
     },
     "execution_count": 21,
     "metadata": {},
     "output_type": "execute_result"
    }
   ],
   "source": [
    "ar2.shape"
   ]
  },
  {
   "cell_type": "code",
   "execution_count": 22,
   "id": "77431127",
   "metadata": {},
   "outputs": [
    {
     "data": {
      "text/plain": [
       "dtype('float64')"
      ]
     },
     "execution_count": 22,
     "metadata": {},
     "output_type": "execute_result"
    }
   ],
   "source": [
    "ar4.dtype"
   ]
  },
  {
   "cell_type": "code",
   "execution_count": 23,
   "id": "346c2e48",
   "metadata": {},
   "outputs": [
    {
     "name": "stdout",
     "output_type": "stream",
     "text": [
      "[[49.14024435 53.14240734 51.3191944  47.30454397 59.85420567 49.16588355]\n",
      " [49.34184196 47.47063135 43.81109569 55.47633984 54.01271122 48.44683889]\n",
      " [53.29309668 51.74462723 40.58428585 48.64070502 55.50143984 46.87925709]]\n"
     ]
    }
   ],
   "source": [
    "print(ar4)"
   ]
  },
  {
   "cell_type": "code",
   "execution_count": 24,
   "id": "61d78ada",
   "metadata": {},
   "outputs": [
    {
     "data": {
      "text/plain": [
       "array([[47.30454397, 49.14024435, 49.16588355, 51.3191944 , 53.14240734,\n",
       "        59.85420567],\n",
       "       [43.81109569, 47.47063135, 48.44683889, 49.34184196, 54.01271122,\n",
       "        55.47633984],\n",
       "       [40.58428585, 46.87925709, 48.64070502, 51.74462723, 53.29309668,\n",
       "        55.50143984]])"
      ]
     },
     "execution_count": 24,
     "metadata": {},
     "output_type": "execute_result"
    }
   ],
   "source": [
    "np.sort(ar4)"
   ]
  },
  {
   "cell_type": "code",
   "execution_count": 25,
   "id": "ceae5b8b",
   "metadata": {},
   "outputs": [
    {
     "ename": "ValueError",
     "evalue": "all the input arrays must have same number of dimensions, but the array at index 0 has 1 dimension(s) and the array at index 1 has 2 dimension(s)",
     "output_type": "error",
     "traceback": [
      "\u001b[1;31m---------------------------------------------------------------------------\u001b[0m",
      "\u001b[1;31mValueError\u001b[0m                                Traceback (most recent call last)",
      "Cell \u001b[1;32mIn[25], line 1\u001b[0m\n\u001b[1;32m----> 1\u001b[0m \u001b[43mnp\u001b[49m\u001b[38;5;241;43m.\u001b[39;49m\u001b[43mconcatenate\u001b[49m\u001b[43m(\u001b[49m\u001b[43m[\u001b[49m\u001b[43mar1\u001b[49m\u001b[43m,\u001b[49m\u001b[43m \u001b[49m\u001b[43mar2\u001b[49m\u001b[43m,\u001b[49m\u001b[43m \u001b[49m\u001b[43mar3\u001b[49m\u001b[43m,\u001b[49m\u001b[43m \u001b[49m\u001b[43mar4\u001b[49m\u001b[43m]\u001b[49m\u001b[43m)\u001b[49m\n",
      "\u001b[1;31mValueError\u001b[0m: all the input arrays must have same number of dimensions, but the array at index 0 has 1 dimension(s) and the array at index 1 has 2 dimension(s)"
     ]
    }
   ],
   "source": [
    "np.concatenate([ar1, ar2, ar3, ar4])"
   ]
  },
  {
   "cell_type": "code",
   "execution_count": null,
   "id": "6ecc4be6",
   "metadata": {},
   "outputs": [
    {
     "data": {
      "text/plain": [
       "array([[ 1.        ,  0.        ,  0.        ,  0.        ,  0.        ,\n",
       "         0.        ],\n",
       "       [ 0.        ,  1.        ,  0.        ,  0.        ,  0.        ,\n",
       "         0.        ],\n",
       "       [ 0.        ,  0.        ,  1.        ,  0.        ,  0.        ,\n",
       "         0.        ],\n",
       "       [53.36416889, 54.80602927, 48.43250625, 42.43040169, 58.03485414,\n",
       "        40.99687875],\n",
       "       [44.29159807, 50.26520579, 57.6611818 , 55.52602102, 46.30812763,\n",
       "        42.84829507],\n",
       "       [56.37327844, 51.81222262, 45.49853033, 52.97080732, 48.98601635,\n",
       "        41.91217136]])"
      ]
     },
     "execution_count": 14,
     "metadata": {},
     "output_type": "execute_result"
    }
   ],
   "source": [
    "np.concatenate([ar2, ar4])"
   ]
  },
  {
   "cell_type": "code",
   "execution_count": 27,
   "id": "4d753d76",
   "metadata": {},
   "outputs": [
    {
     "name": "stdout",
     "output_type": "stream",
     "text": [
      "[10 13 16 19]\n"
     ]
    },
    {
     "data": {
      "text/plain": [
       "[array([[1., 0., 0., 0., 0., 0.],\n",
       "        [0., 1., 0., 0., 0., 0.],\n",
       "        [0., 0., 1., 0., 0., 0.]]),\n",
       " array([[49.14024435, 53.14240734, 51.3191944 , 47.30454397, 59.85420567,\n",
       "         49.16588355],\n",
       "        [49.34184196, 47.47063135, 43.81109569, 55.47633984, 54.01271122,\n",
       "         48.44683889],\n",
       "        [53.29309668, 51.74462723, 40.58428585, 48.64070502, 55.50143984,\n",
       "         46.87925709]]),\n",
       " array([], shape=(0, 6), dtype=float64),\n",
       " array([], shape=(0, 6), dtype=float64)]"
      ]
     },
     "execution_count": 27,
     "metadata": {},
     "output_type": "execute_result"
    }
   ],
   "source": [
    "print(ar3)\n",
    "addarray = np.concatenate([ar2, ar4])\n",
    "np.split(addarray, [3,7, 14])"
   ]
  },
  {
   "cell_type": "code",
   "execution_count": 28,
   "id": "b0d56e24",
   "metadata": {},
   "outputs": [
    {
     "data": {
      "text/plain": [
       "np.int64(10)"
      ]
     },
     "execution_count": 28,
     "metadata": {},
     "output_type": "execute_result"
    }
   ],
   "source": [
    "np.min(ar3)"
   ]
  },
  {
   "cell_type": "code",
   "execution_count": 30,
   "id": "aebb665b",
   "metadata": {},
   "outputs": [
    {
     "data": {
      "text/plain": [
       "np.int64(0)"
      ]
     },
     "execution_count": 30,
     "metadata": {},
     "output_type": "execute_result"
    }
   ],
   "source": [
    "np.argmin(3)"
   ]
  },
  {
   "cell_type": "code",
   "execution_count": 31,
   "id": "dabfcca1",
   "metadata": {},
   "outputs": [
    {
     "name": "stdout",
     "output_type": "stream",
     "text": [
      "[10 13 16 19]\n"
     ]
    },
    {
     "data": {
      "text/plain": [
       "np.int64(19)"
      ]
     },
     "execution_count": 31,
     "metadata": {},
     "output_type": "execute_result"
    }
   ],
   "source": [
    "print(ar3)\n",
    "np.max(ar3)"
   ]
  },
  {
   "cell_type": "code",
   "execution_count": 32,
   "id": "83ee6e0f",
   "metadata": {},
   "outputs": [
    {
     "name": "stdout",
     "output_type": "stream",
     "text": [
      "[10 13 16 19]\n"
     ]
    },
    {
     "data": {
      "text/plain": [
       "np.int64(3)"
      ]
     },
     "execution_count": 32,
     "metadata": {},
     "output_type": "execute_result"
    }
   ],
   "source": [
    "print(ar3)\n",
    "np.argmax(ar3)"
   ]
  }
 ],
 "metadata": {
  "kernelspec": {
   "display_name": "Python 3",
   "language": "python",
   "name": "python3"
  },
  "language_info": {
   "codemirror_mode": {
    "name": "ipython",
    "version": 3
   },
   "file_extension": ".py",
   "mimetype": "text/x-python",
   "name": "python",
   "nbconvert_exporter": "python",
   "pygments_lexer": "ipython3",
   "version": "3.10.6"
  }
 },
 "nbformat": 4,
 "nbformat_minor": 5
}
