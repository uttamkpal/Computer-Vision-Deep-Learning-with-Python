{
 "cells": [
  {
   "cell_type": "markdown",
   "id": "192a970e",
   "metadata": {},
   "source": [
    "### Indexing and Slicing"
   ]
  },
  {
   "cell_type": "code",
   "execution_count": 1,
   "id": "cfa1d6ff",
   "metadata": {},
   "outputs": [],
   "source": [
    "import numpy as np"
   ]
  },
  {
   "cell_type": "code",
   "execution_count": null,
   "id": "684e2650",
   "metadata": {},
   "outputs": [],
   "source": [
    "np_array = np.arange(1,20)"
   ]
  },
  {
   "cell_type": "code",
   "execution_count": 4,
   "id": "ae40d02e",
   "metadata": {},
   "outputs": [
    {
     "name": "stdout",
     "output_type": "stream",
     "text": [
      "5\n"
     ]
    }
   ],
   "source": [
    "print(np_array[4])"
   ]
  },
  {
   "cell_type": "code",
   "execution_count": 6,
   "id": "02342996",
   "metadata": {},
   "outputs": [
    {
     "name": "stdout",
     "output_type": "stream",
     "text": [
      "[4 5 6 7 8 9]\n",
      "[1 2 3 4 5 6 7 8 9]\n",
      "[10 11 12 13 14 15 16 17 18 19]\n"
     ]
    }
   ],
   "source": [
    "print(np_array[3:9])\n",
    "print(np_array[:9])\n",
    "print(np_array[9:])"
   ]
  },
  {
   "cell_type": "code",
   "execution_count": 7,
   "id": "dc994248",
   "metadata": {},
   "outputs": [],
   "source": [
    "twoD = np.random.normal(100, 10, size=(10,10))"
   ]
  },
  {
   "cell_type": "code",
   "execution_count": 8,
   "id": "1dac955a",
   "metadata": {},
   "outputs": [
    {
     "name": "stdout",
     "output_type": "stream",
     "text": [
      "[[ 92.43314051  89.95203803 109.25856167 104.10885627  87.21080629\n",
      "  104.03801493  89.49319641 100.74350749 108.66633681  99.49066093]\n",
      " [ 91.85965618  86.77642278  76.73776077 104.63647426 102.68157935\n",
      "  115.86424134 100.2310182  100.68144145 112.03009018  89.08481719]\n",
      " [ 85.6430705  101.03914024  94.41684849 104.67078426 108.4182562\n",
      "  102.30872611 111.60745805 114.9267616  106.69693371  94.92528636]\n",
      " [110.29689622  95.23157456  90.37331859 107.99364039 101.58382625\n",
      "  104.76534905 111.56792712 101.98818635 112.2896476  103.24642884]\n",
      " [ 91.3431316  110.65166561 121.84860848 113.17662091 104.0106494\n",
      "  113.76895366  89.83576222 131.52684127  93.71005633 104.68630512]\n",
      " [ 85.06844926  85.7945514   90.30741802  75.99923448 109.23946975\n",
      "   94.43784351  97.35183266  99.7361252   92.30902881  99.22481235]\n",
      " [ 92.42554599  94.97757148  94.67208757  94.67154074  97.0056905\n",
      "   93.1575583  116.44861238  99.12932099 112.59492896  93.21555408]\n",
      " [ 91.37013644  96.40200539  88.10899396  99.17945941 104.65196524\n",
      "  106.31605378 106.73629908  92.63499805 105.89065133  85.02427164]\n",
      " [114.39602946 100.05627847 101.16853512  93.71845595 125.05443796\n",
      "   93.46120853  93.29881195 107.82639274 103.50707251  98.02870627]\n",
      " [108.10397834 104.88666047 111.64154056 124.99353927 105.11793736\n",
      "  110.58927416  90.05649538 109.29295574  90.34690239 101.20387039]]\n",
      "[ 85.6430705  101.03914024  94.41684849 104.67078426 108.4182562\n",
      " 102.30872611 111.60745805 114.9267616  106.69693371  94.92528636]\n",
      "104.67078426155433\n"
     ]
    }
   ],
   "source": [
    "print(twoD)\n",
    "print(twoD[2])\n",
    "print(twoD[2][3])"
   ]
  },
  {
   "cell_type": "code",
   "execution_count": 9,
   "id": "b1643ac5",
   "metadata": {},
   "outputs": [
    {
     "name": "stdout",
     "output_type": "stream",
     "text": [
      "104.67078426155433\n"
     ]
    }
   ],
   "source": [
    "print(twoD[2,3])"
   ]
  },
  {
   "cell_type": "code",
   "execution_count": 10,
   "id": "8f6d9ee0",
   "metadata": {},
   "outputs": [
    {
     "name": "stdout",
     "output_type": "stream",
     "text": [
      "[101.03914024  94.41684849 104.67078426 108.4182562  102.30872611]\n"
     ]
    }
   ],
   "source": [
    "print(twoD[2,1:6])"
   ]
  },
  {
   "cell_type": "code",
   "execution_count": 12,
   "id": "971a639f",
   "metadata": {},
   "outputs": [
    {
     "name": "stdout",
     "output_type": "stream",
     "text": [
      "[[101.03914024  94.41684849 104.67078426 108.4182562  102.30872611]\n",
      " [ 95.23157456  90.37331859 107.99364039 101.58382625 104.76534905]\n",
      " [110.65166561 121.84860848 113.17662091 104.0106494  113.76895366]\n",
      " [ 85.7945514   90.30741802  75.99923448 109.23946975  94.43784351]]\n"
     ]
    }
   ],
   "source": [
    "print(twoD[2:6,1:6])"
   ]
  },
  {
   "cell_type": "code",
   "execution_count": 13,
   "id": "6606f210",
   "metadata": {},
   "outputs": [
    {
     "name": "stdout",
     "output_type": "stream",
     "text": [
      "[[ 92.43314051  89.95203803 109.25856167 104.10885627  87.21080629\n",
      "  104.03801493  89.49319641 100.74350749 108.66633681  99.49066093]\n",
      " [ 91.85965618   0.           0.           0.           0.\n",
      "    0.           0.           0.           0.          89.08481719]\n",
      " [ 85.6430705    0.           0.           0.           0.\n",
      "    0.           0.           0.           0.          94.92528636]\n",
      " [110.29689622   0.           0.           0.           0.\n",
      "    0.           0.           0.           0.         103.24642884]\n",
      " [ 91.3431316    0.           0.           0.           0.\n",
      "    0.           0.           0.           0.         104.68630512]\n",
      " [ 85.06844926   0.           0.           0.           0.\n",
      "    0.           0.           0.           0.          99.22481235]\n",
      " [ 92.42554599   0.           0.           0.           0.\n",
      "    0.           0.           0.           0.          93.21555408]\n",
      " [ 91.37013644   0.           0.           0.           0.\n",
      "    0.           0.           0.           0.          85.02427164]\n",
      " [114.39602946   0.           0.           0.           0.\n",
      "    0.           0.           0.           0.          98.02870627]\n",
      " [108.10397834 104.88666047 111.64154056 124.99353927 105.11793736\n",
      "  110.58927416  90.05649538 109.29295574  90.34690239 101.20387039]]\n"
     ]
    }
   ],
   "source": [
    "twoD[1:-1,1:-1] = 0\n",
    "print(twoD)"
   ]
  },
  {
   "cell_type": "markdown",
   "id": "c4fbb293",
   "metadata": {},
   "source": [
    "### Copy and View"
   ]
  },
  {
   "cell_type": "code",
   "execution_count": 14,
   "id": "6e49ac9d",
   "metadata": {},
   "outputs": [],
   "source": [
    "main_np_arr = np.eye(10)"
   ]
  },
  {
   "cell_type": "code",
   "execution_count": 15,
   "id": "533329a0",
   "metadata": {},
   "outputs": [
    {
     "name": "stdout",
     "output_type": "stream",
     "text": [
      "[[1. 0. 0. 0. 0. 0. 0. 0. 0. 0.]\n",
      " [0. 1. 0. 0. 0. 0. 0. 0. 0. 0.]\n",
      " [0. 0. 1. 0. 0. 0. 0. 0. 0. 0.]\n",
      " [0. 0. 0. 1. 0. 0. 0. 0. 0. 0.]\n",
      " [0. 0. 0. 0. 1. 0. 0. 0. 0. 0.]\n",
      " [0. 0. 0. 0. 0. 1. 0. 0. 0. 0.]\n",
      " [0. 0. 0. 0. 0. 0. 1. 0. 0. 0.]\n",
      " [0. 0. 0. 0. 0. 0. 0. 1. 0. 0.]\n",
      " [0. 0. 0. 0. 0. 0. 0. 0. 1. 0.]\n",
      " [0. 0. 0. 0. 0. 0. 0. 0. 0. 1.]]\n"
     ]
    }
   ],
   "source": [
    "print(main_np_arr)"
   ]
  },
  {
   "cell_type": "code",
   "execution_count": 16,
   "id": "27835e58",
   "metadata": {},
   "outputs": [
    {
     "name": "stdout",
     "output_type": "stream",
     "text": [
      "[[1. 0. 0. 0. 0. 0. 0. 0. 0. 0.]\n",
      " [0. 1. 0. 0. 0. 0. 0. 0. 0. 0.]\n",
      " [0. 0. 1. 0. 0. 0. 0. 0. 0. 0.]\n",
      " [0. 0. 0. 1. 0. 0. 0. 0. 0. 0.]\n",
      " [0. 0. 0. 0. 1. 0. 0. 0. 0. 0.]\n",
      " [0. 0. 0. 0. 0. 1. 0. 0. 0. 0.]\n",
      " [0. 0. 0. 0. 0. 0. 1. 0. 0. 0.]\n",
      " [0. 0. 0. 0. 0. 0. 0. 1. 0. 0.]\n",
      " [0. 0. 0. 0. 0. 0. 0. 0. 1. 0.]\n",
      " [0. 0. 0. 0. 0. 0. 0. 0. 0. 1.]]\n"
     ]
    }
   ],
   "source": [
    "view_np_arr = main_np_arr.view()\n",
    "print(view_np_arr)"
   ]
  },
  {
   "cell_type": "code",
   "execution_count": 17,
   "id": "f907d847",
   "metadata": {},
   "outputs": [],
   "source": [
    "view_np_arr[0, 0:] = 99"
   ]
  },
  {
   "cell_type": "code",
   "execution_count": 18,
   "id": "cd7f542c",
   "metadata": {},
   "outputs": [
    {
     "name": "stdout",
     "output_type": "stream",
     "text": [
      "[[99. 99. 99. 99. 99. 99. 99. 99. 99. 99.]\n",
      " [ 0.  1.  0.  0.  0.  0.  0.  0.  0.  0.]\n",
      " [ 0.  0.  1.  0.  0.  0.  0.  0.  0.  0.]\n",
      " [ 0.  0.  0.  1.  0.  0.  0.  0.  0.  0.]\n",
      " [ 0.  0.  0.  0.  1.  0.  0.  0.  0.  0.]\n",
      " [ 0.  0.  0.  0.  0.  1.  0.  0.  0.  0.]\n",
      " [ 0.  0.  0.  0.  0.  0.  1.  0.  0.  0.]\n",
      " [ 0.  0.  0.  0.  0.  0.  0.  1.  0.  0.]\n",
      " [ 0.  0.  0.  0.  0.  0.  0.  0.  1.  0.]\n",
      " [ 0.  0.  0.  0.  0.  0.  0.  0.  0.  1.]]\n",
      "[[99. 99. 99. 99. 99. 99. 99. 99. 99. 99.]\n",
      " [ 0.  1.  0.  0.  0.  0.  0.  0.  0.  0.]\n",
      " [ 0.  0.  1.  0.  0.  0.  0.  0.  0.  0.]\n",
      " [ 0.  0.  0.  1.  0.  0.  0.  0.  0.  0.]\n",
      " [ 0.  0.  0.  0.  1.  0.  0.  0.  0.  0.]\n",
      " [ 0.  0.  0.  0.  0.  1.  0.  0.  0.  0.]\n",
      " [ 0.  0.  0.  0.  0.  0.  1.  0.  0.  0.]\n",
      " [ 0.  0.  0.  0.  0.  0.  0.  1.  0.  0.]\n",
      " [ 0.  0.  0.  0.  0.  0.  0.  0.  1.  0.]\n",
      " [ 0.  0.  0.  0.  0.  0.  0.  0.  0.  1.]]\n"
     ]
    }
   ],
   "source": [
    "print(main_np_arr)\n",
    "print(view_np_arr)"
   ]
  },
  {
   "cell_type": "code",
   "execution_count": 19,
   "id": "c54023ca",
   "metadata": {},
   "outputs": [],
   "source": [
    "view_arr2 = main_np_arr\n",
    "view_arr2[1, 1:] = 88"
   ]
  },
  {
   "cell_type": "code",
   "execution_count": 20,
   "id": "8f54ed01",
   "metadata": {},
   "outputs": [
    {
     "name": "stdout",
     "output_type": "stream",
     "text": [
      "[[99. 99. 99. 99. 99. 99. 99. 99. 99. 99.]\n",
      " [ 0. 88. 88. 88. 88. 88. 88. 88. 88. 88.]\n",
      " [ 0.  0.  1.  0.  0.  0.  0.  0.  0.  0.]\n",
      " [ 0.  0.  0.  1.  0.  0.  0.  0.  0.  0.]\n",
      " [ 0.  0.  0.  0.  1.  0.  0.  0.  0.  0.]\n",
      " [ 0.  0.  0.  0.  0.  1.  0.  0.  0.  0.]\n",
      " [ 0.  0.  0.  0.  0.  0.  1.  0.  0.  0.]\n",
      " [ 0.  0.  0.  0.  0.  0.  0.  1.  0.  0.]\n",
      " [ 0.  0.  0.  0.  0.  0.  0.  0.  1.  0.]\n",
      " [ 0.  0.  0.  0.  0.  0.  0.  0.  0.  1.]]\n",
      "[[99. 99. 99. 99. 99. 99. 99. 99. 99. 99.]\n",
      " [ 0. 88. 88. 88. 88. 88. 88. 88. 88. 88.]\n",
      " [ 0.  0.  1.  0.  0.  0.  0.  0.  0.  0.]\n",
      " [ 0.  0.  0.  1.  0.  0.  0.  0.  0.  0.]\n",
      " [ 0.  0.  0.  0.  1.  0.  0.  0.  0.  0.]\n",
      " [ 0.  0.  0.  0.  0.  1.  0.  0.  0.  0.]\n",
      " [ 0.  0.  0.  0.  0.  0.  1.  0.  0.  0.]\n",
      " [ 0.  0.  0.  0.  0.  0.  0.  1.  0.  0.]\n",
      " [ 0.  0.  0.  0.  0.  0.  0.  0.  1.  0.]\n",
      " [ 0.  0.  0.  0.  0.  0.  0.  0.  0.  1.]]\n",
      "[[99. 99. 99. 99. 99. 99. 99. 99. 99. 99.]\n",
      " [ 0. 88. 88. 88. 88. 88. 88. 88. 88. 88.]\n",
      " [ 0.  0.  1.  0.  0.  0.  0.  0.  0.  0.]\n",
      " [ 0.  0.  0.  1.  0.  0.  0.  0.  0.  0.]\n",
      " [ 0.  0.  0.  0.  1.  0.  0.  0.  0.  0.]\n",
      " [ 0.  0.  0.  0.  0.  1.  0.  0.  0.  0.]\n",
      " [ 0.  0.  0.  0.  0.  0.  1.  0.  0.  0.]\n",
      " [ 0.  0.  0.  0.  0.  0.  0.  1.  0.  0.]\n",
      " [ 0.  0.  0.  0.  0.  0.  0.  0.  1.  0.]\n",
      " [ 0.  0.  0.  0.  0.  0.  0.  0.  0.  1.]]\n"
     ]
    }
   ],
   "source": [
    "print(view_arr2)\n",
    "print(main_np_arr)\n",
    "print(view_np_arr)"
   ]
  },
  {
   "cell_type": "code",
   "execution_count": 21,
   "id": "40e00d93",
   "metadata": {},
   "outputs": [
    {
     "name": "stdout",
     "output_type": "stream",
     "text": [
      "[[99. 99. 99. 99. 99. 99. 99. 99. 99. 99.]\n",
      " [ 0. 88. 88. 88. 88. 88. 88. 88. 88. 88.]\n",
      " [ 0.  0.  1.  0.  0.  0.  0.  0.  0.  0.]\n",
      " [ 0.  0.  0.  1.  0.  0.  0.  0.  0.  0.]\n",
      " [ 0.  0.  0.  0.  1.  0.  0.  0.  0.  0.]\n",
      " [ 0.  0.  0.  0.  0.  1.  0.  0.  0.  0.]\n",
      " [ 0.  0.  0.  0.  0.  0.  1.  0.  0.  0.]\n",
      " [ 0.  0.  0.  0.  0.  0.  0.  1.  0.  0.]\n",
      " [ 0.  0.  0.  0.  0.  0.  0.  0.  1.  0.]\n",
      " [ 0.  0.  0.  0.  0.  0.  0.  0.  0.  1.]]\n"
     ]
    }
   ],
   "source": [
    "copy_arr = main_np_arr.copy()\n",
    "\n",
    "print(copy_arr)"
   ]
  },
  {
   "cell_type": "code",
   "execution_count": 22,
   "id": "76ac5aaf",
   "metadata": {},
   "outputs": [
    {
     "name": "stdout",
     "output_type": "stream",
     "text": [
      "[[99. 99. 99. 99. 99. 99. 99. 99. 99. 99.]\n",
      " [ 0. 88. 88. 88. 88. 88. 88. 88. 88. 88.]\n",
      " [ 0.  0.  1.  0.  0.  0.  0.  0.  0.  0.]\n",
      " [ 0.  0.  0.  1.  0.  0.  0.  0.  0.  0.]\n",
      " [ 0.  0.  0.  0.  1.  0.  0.  0.  0.  0.]\n",
      " [ 0.  0.  0.  0.  0.  1.  0.  0.  0.  0.]\n",
      " [ 0.  0.  0.  0.  0.  0.  1.  0.  0.  0.]\n",
      " [ 0.  0.  0.  0.  0.  0.  0.  1.  0.  0.]\n",
      " [ 0.  0.  0.  0.  0.  0.  0.  0.  1.  0.]\n",
      " [ 0.  0.  0.  0.  0.  0.  0.  0.  0.  1.]]\n"
     ]
    }
   ],
   "source": [
    "print(main_np_arr)"
   ]
  },
  {
   "cell_type": "code",
   "execution_count": 23,
   "id": "76e72362",
   "metadata": {},
   "outputs": [],
   "source": [
    "copy_arr[2, 2:] = 77"
   ]
  },
  {
   "cell_type": "code",
   "execution_count": 24,
   "id": "ad8b6183",
   "metadata": {},
   "outputs": [
    {
     "name": "stdout",
     "output_type": "stream",
     "text": [
      "[[99. 99. 99. 99. 99. 99. 99. 99. 99. 99.]\n",
      " [ 0. 88. 88. 88. 88. 88. 88. 88. 88. 88.]\n",
      " [ 0.  0. 77. 77. 77. 77. 77. 77. 77. 77.]\n",
      " [ 0.  0.  0.  1.  0.  0.  0.  0.  0.  0.]\n",
      " [ 0.  0.  0.  0.  1.  0.  0.  0.  0.  0.]\n",
      " [ 0.  0.  0.  0.  0.  1.  0.  0.  0.  0.]\n",
      " [ 0.  0.  0.  0.  0.  0.  1.  0.  0.  0.]\n",
      " [ 0.  0.  0.  0.  0.  0.  0.  1.  0.  0.]\n",
      " [ 0.  0.  0.  0.  0.  0.  0.  0.  1.  0.]\n",
      " [ 0.  0.  0.  0.  0.  0.  0.  0.  0.  1.]]\n",
      "[[99. 99. 99. 99. 99. 99. 99. 99. 99. 99.]\n",
      " [ 0. 88. 88. 88. 88. 88. 88. 88. 88. 88.]\n",
      " [ 0.  0.  1.  0.  0.  0.  0.  0.  0.  0.]\n",
      " [ 0.  0.  0.  1.  0.  0.  0.  0.  0.  0.]\n",
      " [ 0.  0.  0.  0.  1.  0.  0.  0.  0.  0.]\n",
      " [ 0.  0.  0.  0.  0.  1.  0.  0.  0.  0.]\n",
      " [ 0.  0.  0.  0.  0.  0.  1.  0.  0.  0.]\n",
      " [ 0.  0.  0.  0.  0.  0.  0.  1.  0.  0.]\n",
      " [ 0.  0.  0.  0.  0.  0.  0.  0.  1.  0.]\n",
      " [ 0.  0.  0.  0.  0.  0.  0.  0.  0.  1.]]\n",
      "[[99. 99. 99. 99. 99. 99. 99. 99. 99. 99.]\n",
      " [ 0. 88. 88. 88. 88. 88. 88. 88. 88. 88.]\n",
      " [ 0.  0.  1.  0.  0.  0.  0.  0.  0.  0.]\n",
      " [ 0.  0.  0.  1.  0.  0.  0.  0.  0.  0.]\n",
      " [ 0.  0.  0.  0.  1.  0.  0.  0.  0.  0.]\n",
      " [ 0.  0.  0.  0.  0.  1.  0.  0.  0.  0.]\n",
      " [ 0.  0.  0.  0.  0.  0.  1.  0.  0.  0.]\n",
      " [ 0.  0.  0.  0.  0.  0.  0.  1.  0.  0.]\n",
      " [ 0.  0.  0.  0.  0.  0.  0.  0.  1.  0.]\n",
      " [ 0.  0.  0.  0.  0.  0.  0.  0.  0.  1.]]\n",
      "[[99. 99. 99. 99. 99. 99. 99. 99. 99. 99.]\n",
      " [ 0. 88. 88. 88. 88. 88. 88. 88. 88. 88.]\n",
      " [ 0.  0.  1.  0.  0.  0.  0.  0.  0.  0.]\n",
      " [ 0.  0.  0.  1.  0.  0.  0.  0.  0.  0.]\n",
      " [ 0.  0.  0.  0.  1.  0.  0.  0.  0.  0.]\n",
      " [ 0.  0.  0.  0.  0.  1.  0.  0.  0.  0.]\n",
      " [ 0.  0.  0.  0.  0.  0.  1.  0.  0.  0.]\n",
      " [ 0.  0.  0.  0.  0.  0.  0.  1.  0.  0.]\n",
      " [ 0.  0.  0.  0.  0.  0.  0.  0.  1.  0.]\n",
      " [ 0.  0.  0.  0.  0.  0.  0.  0.  0.  1.]]\n"
     ]
    }
   ],
   "source": [
    "print(copy_arr)\n",
    "print(view_arr2)\n",
    "print(main_np_arr)\n",
    "print(view_np_arr)"
   ]
  },
  {
   "cell_type": "markdown",
   "id": "83c218f8",
   "metadata": {},
   "source": [
    "### Reshape, Resize, Ravel & Flatten"
   ]
  },
  {
   "cell_type": "code",
   "execution_count": 25,
   "id": "fd88aae2",
   "metadata": {},
   "outputs": [
    {
     "name": "stdout",
     "output_type": "stream",
     "text": [
      "[[1. 0. 0. 0. 0. 0.]\n",
      " [0. 1. 0. 0. 0. 0.]\n",
      " [0. 0. 1. 0. 0. 0.]]\n"
     ]
    }
   ],
   "source": [
    "old_array = np.eye(3,6)\n",
    "print(old_array)"
   ]
  },
  {
   "cell_type": "code",
   "execution_count": 26,
   "id": "08b8592c",
   "metadata": {},
   "outputs": [
    {
     "data": {
      "text/plain": [
       "array([[1., 0., 0.],\n",
       "       [0., 0., 0.],\n",
       "       [0., 1., 0.],\n",
       "       [0., 0., 0.],\n",
       "       [0., 0., 1.],\n",
       "       [0., 0., 0.]])"
      ]
     },
     "execution_count": 26,
     "metadata": {},
     "output_type": "execute_result"
    }
   ],
   "source": [
    "old_array.reshape(6,3)"
   ]
  },
  {
   "cell_type": "code",
   "execution_count": 27,
   "id": "706ab98e",
   "metadata": {},
   "outputs": [
    {
     "ename": "ValueError",
     "evalue": "cannot reshape array of size 18 into shape (4,4)",
     "output_type": "error",
     "traceback": [
      "\u001b[1;31m---------------------------------------------------------------------------\u001b[0m",
      "\u001b[1;31mValueError\u001b[0m                                Traceback (most recent call last)",
      "Cell \u001b[1;32mIn[27], line 1\u001b[0m\n\u001b[1;32m----> 1\u001b[0m \u001b[43mold_array\u001b[49m\u001b[38;5;241;43m.\u001b[39;49m\u001b[43mreshape\u001b[49m\u001b[43m(\u001b[49m\u001b[38;5;241;43m4\u001b[39;49m\u001b[43m,\u001b[49m\u001b[38;5;241;43m4\u001b[39;49m\u001b[43m)\u001b[49m\n",
      "\u001b[1;31mValueError\u001b[0m: cannot reshape array of size 18 into shape (4,4)"
     ]
    }
   ],
   "source": [
    "old_array.reshape(4,4)"
   ]
  },
  {
   "cell_type": "code",
   "execution_count": 28,
   "id": "f9a2e65c",
   "metadata": {},
   "outputs": [
    {
     "name": "stdout",
     "output_type": "stream",
     "text": [
      "[[1. 0. 0. 0. 0. 0.]\n",
      " [0. 1. 0. 0. 0. 0.]\n",
      " [0. 0. 1. 0. 0. 0.]]\n"
     ]
    }
   ],
   "source": [
    "print(old_array)"
   ]
  },
  {
   "cell_type": "code",
   "execution_count": 29,
   "id": "5cc0ddf0",
   "metadata": {},
   "outputs": [],
   "source": [
    "old_array.resize(6,3)"
   ]
  },
  {
   "cell_type": "code",
   "execution_count": 30,
   "id": "a0b7db67",
   "metadata": {},
   "outputs": [
    {
     "name": "stdout",
     "output_type": "stream",
     "text": [
      "[[1. 0. 0.]\n",
      " [0. 0. 0.]\n",
      " [0. 1. 0.]\n",
      " [0. 0. 0.]\n",
      " [0. 0. 1.]\n",
      " [0. 0. 0.]]\n"
     ]
    }
   ],
   "source": [
    "print(old_array)"
   ]
  },
  {
   "cell_type": "code",
   "execution_count": 31,
   "id": "9ce2f9fb",
   "metadata": {},
   "outputs": [
    {
     "data": {
      "text/plain": [
       "array([1., 0., 0., 0., 0., 0., 0., 1., 0., 0., 0., 0., 0., 0., 1., 0., 0.,\n",
       "       0.])"
      ]
     },
     "execution_count": 31,
     "metadata": {},
     "output_type": "execute_result"
    }
   ],
   "source": [
    "old_array.ravel()"
   ]
  },
  {
   "cell_type": "code",
   "execution_count": 32,
   "id": "6a84b56c",
   "metadata": {},
   "outputs": [
    {
     "name": "stdout",
     "output_type": "stream",
     "text": [
      "[[1. 0. 0.]\n",
      " [0. 0. 0.]\n",
      " [0. 1. 0.]\n",
      " [0. 0. 0.]\n",
      " [0. 0. 1.]\n",
      " [0. 0. 0.]]\n"
     ]
    }
   ],
   "source": [
    "print(old_array)"
   ]
  },
  {
   "cell_type": "code",
   "execution_count": 33,
   "id": "034cd589",
   "metadata": {},
   "outputs": [
    {
     "data": {
      "text/plain": [
       "array([1., 0., 0., 0., 0., 0., 0., 1., 0., 0., 0., 0., 0., 0., 1., 0., 0.,\n",
       "       0.])"
      ]
     },
     "execution_count": 33,
     "metadata": {},
     "output_type": "execute_result"
    }
   ],
   "source": [
    "old_array.flatten()"
   ]
  },
  {
   "cell_type": "code",
   "execution_count": 34,
   "id": "d0ebcde5",
   "metadata": {},
   "outputs": [
    {
     "name": "stdout",
     "output_type": "stream",
     "text": [
      "[[1. 0. 0.]\n",
      " [0. 0. 0.]\n",
      " [0. 1. 0.]\n",
      " [0. 0. 0.]\n",
      " [0. 0. 1.]\n",
      " [0. 0. 0.]]\n"
     ]
    }
   ],
   "source": [
    "print(old_array)"
   ]
  },
  {
   "cell_type": "code",
   "execution_count": 35,
   "id": "1dad2624",
   "metadata": {},
   "outputs": [],
   "source": [
    "ravel_arr = old_array.ravel()"
   ]
  },
  {
   "cell_type": "code",
   "execution_count": 36,
   "id": "9fce1cdd",
   "metadata": {},
   "outputs": [
    {
     "name": "stdout",
     "output_type": "stream",
     "text": [
      "[1. 0. 0. 0. 0. 0. 0. 1. 0. 0. 0. 0. 0. 0. 1. 0. 0. 0.]\n"
     ]
    }
   ],
   "source": [
    "print(ravel_arr)"
   ]
  },
  {
   "cell_type": "code",
   "execution_count": 37,
   "id": "3291e880",
   "metadata": {},
   "outputs": [
    {
     "name": "stdout",
     "output_type": "stream",
     "text": [
      "[[1. 0. 0.]\n",
      " [0. 0. 0.]\n",
      " [0. 1. 0.]\n",
      " [0. 0. 0.]\n",
      " [0. 0. 1.]\n",
      " [0. 0. 0.]]\n"
     ]
    }
   ],
   "source": [
    "print(old_array)"
   ]
  },
  {
   "cell_type": "code",
   "execution_count": 38,
   "id": "279b25f6",
   "metadata": {},
   "outputs": [
    {
     "name": "stdout",
     "output_type": "stream",
     "text": [
      "[[  1.   0.   0.]\n",
      " [111. 111. 111.]\n",
      " [  0.   1.   0.]\n",
      " [  0.   0.   0.]\n",
      " [  0.   0.   1.]\n",
      " [  0.   0.   0.]]\n",
      "[  1.   0.   0. 111. 111. 111.   0.   1.   0.   0.   0.   0.   0.   0.\n",
      "   1.   0.   0.   0.]\n"
     ]
    }
   ],
   "source": [
    "old_array[1, 0:] = 111\n",
    "print(old_array)\n",
    "print(ravel_arr)"
   ]
  },
  {
   "cell_type": "code",
   "execution_count": 39,
   "id": "e5845cef",
   "metadata": {},
   "outputs": [
    {
     "name": "stdout",
     "output_type": "stream",
     "text": [
      "[[  1.   0.   0.]\n",
      " [111. 111. 111.]\n",
      " [  0.   1.   0.]\n",
      " [  0.   0.   0.]\n",
      " [  0.   0.   1.]\n",
      " [  0.   0.   0.]]\n",
      "[  1.   0.   0. 111. 111. 111.   0.   1.   0.   0.   0.   0.   0.   0.\n",
      "   1.   0.   0.   0.]\n"
     ]
    }
   ],
   "source": [
    "print(old_array)\n",
    "flatten_arr = old_array.flatten()\n",
    "print(flatten_arr)"
   ]
  },
  {
   "cell_type": "code",
   "execution_count": 40,
   "id": "903e8b0f",
   "metadata": {},
   "outputs": [],
   "source": [
    "old_array[2, 0:] = 333"
   ]
  },
  {
   "cell_type": "code",
   "execution_count": 42,
   "id": "cb64888f",
   "metadata": {},
   "outputs": [
    {
     "name": "stdout",
     "output_type": "stream",
     "text": [
      "[[  1.   0.   0.]\n",
      " [111. 111. 111.]\n",
      " [333. 333. 333.]\n",
      " [  0.   0.   0.]\n",
      " [  0.   0.   1.]\n",
      " [  0.   0.   0.]]\n",
      "[  1.   0.   0. 111. 111. 111.   0.   1.   0.   0.   0.   0.   0.   0.\n",
      "   1.   0.   0.   0.]\n",
      "[  1.   0.   0. 111. 111. 111. 333. 333. 333.   0.   0.   0.   0.   0.\n",
      "   1.   0.   0.   0.]\n"
     ]
    }
   ],
   "source": [
    "print(old_array)\n",
    "print(flatten_arr)\n",
    "print(ravel_arr)"
   ]
  },
  {
   "cell_type": "markdown",
   "id": "91754b76",
   "metadata": {},
   "source": [
    "### Arithmetic Operations & Aggregations"
   ]
  },
  {
   "cell_type": "code",
   "execution_count": 43,
   "id": "380bce09",
   "metadata": {},
   "outputs": [
    {
     "ename": "ValueError",
     "evalue": "operands could not be broadcast together with shapes (10,10) (6,3) ",
     "output_type": "error",
     "traceback": [
      "\u001b[1;31m---------------------------------------------------------------------------\u001b[0m",
      "\u001b[1;31mValueError\u001b[0m                                Traceback (most recent call last)",
      "Cell \u001b[1;32mIn[43], line 1\u001b[0m\n\u001b[1;32m----> 1\u001b[0m \u001b[38;5;28mprint\u001b[39m(\u001b[43mmain_np_arr\u001b[49m\u001b[43m \u001b[49m\u001b[38;5;241;43m+\u001b[39;49m\u001b[43m \u001b[49m\u001b[43mold_array\u001b[49m \u001b[38;5;241m+\u001b[39m np_array)\n",
      "\u001b[1;31mValueError\u001b[0m: operands could not be broadcast together with shapes (10,10) (6,3) "
     ]
    }
   ],
   "source": [
    "print(main_np_arr + old_array + np_array)"
   ]
  },
  {
   "cell_type": "code",
   "execution_count": 49,
   "id": "21c4de44",
   "metadata": {},
   "outputs": [],
   "source": [
    "arr1 = np.ones([3,6])\n",
    "arr2 = np.random.normal(10, 5, size=(3,6))"
   ]
  },
  {
   "cell_type": "code",
   "execution_count": 50,
   "id": "66157834",
   "metadata": {},
   "outputs": [
    {
     "name": "stdout",
     "output_type": "stream",
     "text": [
      "[[14.57100249 12.9058458   7.16025564 19.70398404 11.11303662  9.93232759]\n",
      " [11.31225793  6.66210987  9.4726182   8.25955957 18.02271344 20.19924803]\n",
      " [18.15775796  2.51976766 10.18079955 19.6179868   8.62714503 10.17700725]]\n"
     ]
    }
   ],
   "source": [
    "print(arr1 + arr2)"
   ]
  },
  {
   "cell_type": "code",
   "execution_count": 51,
   "id": "bfc38fa8",
   "metadata": {},
   "outputs": [
    {
     "data": {
      "text/plain": [
       "array([[14.57100249, 12.9058458 ,  7.16025564, 19.70398404, 11.11303662,\n",
       "         9.93232759],\n",
       "       [11.31225793,  6.66210987,  9.4726182 ,  8.25955957, 18.02271344,\n",
       "        20.19924803],\n",
       "       [18.15775796,  2.51976766, 10.18079955, 19.6179868 ,  8.62714503,\n",
       "        10.17700725]])"
      ]
     },
     "execution_count": 51,
     "metadata": {},
     "output_type": "execute_result"
    }
   ],
   "source": [
    "np.add(arr1, arr2)"
   ]
  },
  {
   "cell_type": "code",
   "execution_count": 52,
   "id": "3d8d65fd",
   "metadata": {},
   "outputs": [
    {
     "name": "stdout",
     "output_type": "stream",
     "text": [
      "[[13.57100249 11.9058458   6.16025564 18.70398404 10.11303662  8.93232759]\n",
      " [10.31225793  5.66210987  8.4726182   7.25955957 17.02271344 19.19924803]\n",
      " [17.15775796  1.51976766  9.18079955 18.6179868   7.62714503  9.17700725]]\n"
     ]
    }
   ],
   "source": [
    "print(arr1 * arr2)"
   ]
  },
  {
   "cell_type": "code",
   "execution_count": 53,
   "id": "45ce3e63",
   "metadata": {},
   "outputs": [
    {
     "data": {
      "text/plain": [
       "array([[13.57100249, 11.9058458 ,  6.16025564, 18.70398404, 10.11303662,\n",
       "         8.93232759],\n",
       "       [10.31225793,  5.66210987,  8.4726182 ,  7.25955957, 17.02271344,\n",
       "        19.19924803],\n",
       "       [17.15775796,  1.51976766,  9.18079955, 18.6179868 ,  7.62714503,\n",
       "         9.17700725]])"
      ]
     },
     "execution_count": 53,
     "metadata": {},
     "output_type": "execute_result"
    }
   ],
   "source": [
    "np.multiply(arr1, arr2)"
   ]
  },
  {
   "cell_type": "code",
   "execution_count": 54,
   "id": "b1e944ed",
   "metadata": {},
   "outputs": [
    {
     "data": {
      "text/plain": [
       "np.float64(200.59542346864998)"
      ]
     },
     "execution_count": 54,
     "metadata": {},
     "output_type": "execute_result"
    }
   ],
   "source": [
    "arr2.sum()"
   ]
  },
  {
   "cell_type": "code",
   "execution_count": 55,
   "id": "fc09861d",
   "metadata": {},
   "outputs": [
    {
     "name": "stdout",
     "output_type": "stream",
     "text": [
      "11.144190192702776\n",
      "5.008734915488574\n",
      "6.157980066396659e+17\n",
      "25.08742545363433\n",
      "[ 13.57100249  25.47684829  31.63710393  50.34108796  60.45412459\n",
      "  69.38645218  79.69871011  85.36081998  93.83343818 101.09299775\n",
      " 118.11571119 137.31495922 154.47271717 155.99248483 165.17328438\n",
      " 183.79127118 191.41841622 200.59542347]\n",
      "1.5197676587422464\n",
      "19.19924802613718\n"
     ]
    }
   ],
   "source": [
    "print(arr2.mean())\n",
    "print(arr2.std())\n",
    "print(arr2.prod())\n",
    "print(arr2.var())\n",
    "print(arr2.cumsum())\n",
    "print(arr2.min())\n",
    "print(arr2.max())"
   ]
  },
  {
   "cell_type": "code",
   "execution_count": 56,
   "id": "90cefad0",
   "metadata": {},
   "outputs": [
    {
     "data": {
      "text/plain": [
       "array([1, 2, 3, 4, 5, 6, 7, 8])"
      ]
     },
     "execution_count": 56,
     "metadata": {},
     "output_type": "execute_result"
    }
   ],
   "source": [
    "np.array([1,2,3,4,5,6,7,8])"
   ]
  },
  {
   "cell_type": "code",
   "execution_count": 3,
   "id": "a062d6b4",
   "metadata": {},
   "outputs": [],
   "source": [
    "import numpy as np\n",
    "arr2 = np.random.normal(10, 5, size=(3,6))\n",
    "arr2.reshape(6,3)\n",
    "arr2.reshape(9,2)\n",
    "arr2.resize(6,3)\n",
    "arr2.resize(2,9)"
   ]
  }
 ],
 "metadata": {
  "kernelspec": {
   "display_name": "Python 3",
   "language": "python",
   "name": "python3"
  },
  "language_info": {
   "codemirror_mode": {
    "name": "ipython",
    "version": 3
   },
   "file_extension": ".py",
   "mimetype": "text/x-python",
   "name": "python",
   "nbconvert_exporter": "python",
   "pygments_lexer": "ipython3",
   "version": "3.10.6"
  }
 },
 "nbformat": 4,
 "nbformat_minor": 5
}
